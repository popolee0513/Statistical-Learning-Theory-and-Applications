{
  "nbformat": 4,
  "nbformat_minor": 0,
  "metadata": {
    "colab": {
      "name": "Statistical Learning-inclass-competition.ipynb",
      "provenance": [],
      "collapsed_sections": []
    },
    "kernelspec": {
      "name": "python3",
      "display_name": "Python 3"
    },
    "accelerator": "GPU"
  },
  "cells": [
    {
      "cell_type": "code",
      "metadata": {
        "id": "zKYyN2jfDRrt",
        "outputId": "56ea5e89-edfd-4f89-fa20-b00f797c1186",
        "colab": {
          "base_uri": "https://localhost:8080/"
        }
      },
      "source": [
        "from google.colab import drive\n",
        "drive.mount('/content/drive')"
      ],
      "execution_count": 1,
      "outputs": [
        {
          "output_type": "stream",
          "text": [
            "Mounted at /content/drive\n"
          ],
          "name": "stdout"
        }
      ]
    },
    {
      "cell_type": "code",
      "metadata": {
        "id": "WbHs7ENaD9tk"
      },
      "source": [
        "import pandas as pd\n",
        "train=pd.read_excel(\"/content/drive/My Drive/train.xlsx\")\n",
        "test=pd.read_excel(\"/content/drive/My Drive/test.xlsx\")"
      ],
      "execution_count": 2,
      "outputs": []
    },
    {
      "cell_type": "code",
      "metadata": {
        "id": "Fahbnzf56dU4",
        "outputId": "c7e7f081-be4a-4ca7-851f-77ed08f02c9b",
        "colab": {
          "base_uri": "https://localhost:8080/",
          "height": 195
        }
      },
      "source": [
        "train.head()"
      ],
      "execution_count": 3,
      "outputs": [
        {
          "output_type": "execute_result",
          "data": {
            "text/html": [
              "<div>\n",
              "<style scoped>\n",
              "    .dataframe tbody tr th:only-of-type {\n",
              "        vertical-align: middle;\n",
              "    }\n",
              "\n",
              "    .dataframe tbody tr th {\n",
              "        vertical-align: top;\n",
              "    }\n",
              "\n",
              "    .dataframe thead th {\n",
              "        text-align: right;\n",
              "    }\n",
              "</style>\n",
              "<table border=\"1\" class=\"dataframe\">\n",
              "  <thead>\n",
              "    <tr style=\"text-align: right;\">\n",
              "      <th></th>\n",
              "      <th>x01</th>\n",
              "      <th>a08a01</th>\n",
              "      <th>a08a02</th>\n",
              "      <th>k_a08a_1</th>\n",
              "      <th>k_a08a_2</th>\n",
              "      <th>k_a08a_3</th>\n",
              "      <th>k_a08a_4</th>\n",
              "      <th>k_a08a_5</th>\n",
              "      <th>fix</th>\n",
              "    </tr>\n",
              "  </thead>\n",
              "  <tbody>\n",
              "    <tr>\n",
              "      <th>0</th>\n",
              "      <td>100202</td>\n",
              "      <td>47</td>\n",
              "      <td>4311</td>\n",
              "      <td>大潤發總公司</td>\n",
              "      <td>大賣場</td>\n",
              "      <td>會計部</td>\n",
              "      <td>會計</td>\n",
              "      <td>總計發票</td>\n",
              "      <td>0</td>\n",
              "    </tr>\n",
              "    <tr>\n",
              "      <th>1</th>\n",
              "      <td>100221</td>\n",
              "      <td>47</td>\n",
              "      <td>5140</td>\n",
              "      <td>台灣資生堂股份有限公司</td>\n",
              "      <td>化粧品販售</td>\n",
              "      <td>無</td>\n",
              "      <td>美容顧問</td>\n",
              "      <td>販售化粧品丶護膚</td>\n",
              "      <td>0</td>\n",
              "    </tr>\n",
              "    <tr>\n",
              "      <th>2</th>\n",
              "      <td>100401</td>\n",
              "      <td>26</td>\n",
              "      <td>7993</td>\n",
              "      <td>宏偉科技</td>\n",
              "      <td>Ic加工</td>\n",
              "      <td>品管</td>\n",
              "      <td>無</td>\n",
              "      <td>檢查完成品</td>\n",
              "      <td>0</td>\n",
              "    </tr>\n",
              "    <tr>\n",
              "      <th>3</th>\n",
              "      <td>100411</td>\n",
              "      <td>56</td>\n",
              "      <td>5296</td>\n",
              "      <td>台灣第一家塩酥雞</td>\n",
              "      <td>食物</td>\n",
              "      <td>無</td>\n",
              "      <td>無</td>\n",
              "      <td>炸料收錢</td>\n",
              "      <td>0</td>\n",
              "    </tr>\n",
              "    <tr>\n",
              "      <th>4</th>\n",
              "      <td>100421</td>\n",
              "      <td>47</td>\n",
              "      <td>5220</td>\n",
              "      <td>统一超商</td>\n",
              "      <td>零售日用品</td>\n",
              "      <td>無</td>\n",
              "      <td>店員</td>\n",
              "      <td>收銀排貨售貨</td>\n",
              "      <td>0</td>\n",
              "    </tr>\n",
              "  </tbody>\n",
              "</table>\n",
              "</div>"
            ],
            "text/plain": [
              "      x01  a08a01  a08a02     k_a08a_1  ... k_a08a_3 k_a08a_4  k_a08a_5 fix\n",
              "0  100202      47    4311       大潤發總公司  ...      會計部       會計      總計發票   0\n",
              "1  100221      47    5140  台灣資生堂股份有限公司  ...        無     美容顧問  販售化粧品丶護膚   0\n",
              "2  100401      26    7993         宏偉科技  ...       品管        無     檢查完成品   0\n",
              "3  100411      56    5296     台灣第一家塩酥雞  ...        無        無      炸料收錢   0\n",
              "4  100421      47    5220         统一超商  ...        無       店員    收銀排貨售貨   0\n",
              "\n",
              "[5 rows x 9 columns]"
            ]
          },
          "metadata": {
            "tags": []
          },
          "execution_count": 3
        }
      ]
    },
    {
      "cell_type": "code",
      "metadata": {
        "id": "-LbdMly0Nua1",
        "outputId": "c46a9366-b94d-4a74-dacc-cd905890d57a",
        "colab": {
          "base_uri": "https://localhost:8080/"
        }
      },
      "source": [
        "!pip install -U ckiptagger[tfgpu,gdown]\n",
        "from ckiptagger import data_utils\n",
        "data_utils.download_data_gdown(\"./\")"
      ],
      "execution_count": 5,
      "outputs": [
        {
          "output_type": "stream",
          "text": [
            "Collecting ckiptagger[gdown,tfgpu]\n",
            "  Downloading https://files.pythonhosted.org/packages/6b/bc/5cbf8d019167d5e5e1775069fb8b71a08691ab847e2926bbe7dee9a19010/ckiptagger-0.2.1-py3-none-any.whl\n",
            "Requirement already satisfied, skipping upgrade: gdown; extra == \"gdown\" in /usr/local/lib/python3.6/dist-packages (from ckiptagger[gdown,tfgpu]) (3.6.4)\n",
            "Collecting tensorflow-gpu>=1.13.1; extra == \"tfgpu\"\n",
            "\u001b[?25l  Downloading https://files.pythonhosted.org/packages/18/99/ac32fd13d56e40d4c3e6150030132519997c0bb1f06f448d970e81b177e5/tensorflow_gpu-2.3.1-cp36-cp36m-manylinux2010_x86_64.whl (320.4MB)\n",
            "\u001b[K     |████████████████████████████████| 320.4MB 54kB/s \n",
            "\u001b[?25hRequirement already satisfied, skipping upgrade: tqdm in /usr/local/lib/python3.6/dist-packages (from gdown; extra == \"gdown\"->ckiptagger[gdown,tfgpu]) (4.41.1)\n",
            "Requirement already satisfied, skipping upgrade: requests in /usr/local/lib/python3.6/dist-packages (from gdown; extra == \"gdown\"->ckiptagger[gdown,tfgpu]) (2.23.0)\n",
            "Requirement already satisfied, skipping upgrade: six in /usr/local/lib/python3.6/dist-packages (from gdown; extra == \"gdown\"->ckiptagger[gdown,tfgpu]) (1.15.0)\n",
            "Requirement already satisfied, skipping upgrade: gast==0.3.3 in /usr/local/lib/python3.6/dist-packages (from tensorflow-gpu>=1.13.1; extra == \"tfgpu\"->ckiptagger[gdown,tfgpu]) (0.3.3)\n",
            "Requirement already satisfied, skipping upgrade: wheel>=0.26 in /usr/local/lib/python3.6/dist-packages (from tensorflow-gpu>=1.13.1; extra == \"tfgpu\"->ckiptagger[gdown,tfgpu]) (0.35.1)\n",
            "Requirement already satisfied, skipping upgrade: protobuf>=3.9.2 in /usr/local/lib/python3.6/dist-packages (from tensorflow-gpu>=1.13.1; extra == \"tfgpu\"->ckiptagger[gdown,tfgpu]) (3.12.4)\n",
            "Requirement already satisfied, skipping upgrade: opt-einsum>=2.3.2 in /usr/local/lib/python3.6/dist-packages (from tensorflow-gpu>=1.13.1; extra == \"tfgpu\"->ckiptagger[gdown,tfgpu]) (3.3.0)\n",
            "Requirement already satisfied, skipping upgrade: h5py<2.11.0,>=2.10.0 in /usr/local/lib/python3.6/dist-packages (from tensorflow-gpu>=1.13.1; extra == \"tfgpu\"->ckiptagger[gdown,tfgpu]) (2.10.0)\n",
            "Requirement already satisfied, skipping upgrade: grpcio>=1.8.6 in /usr/local/lib/python3.6/dist-packages (from tensorflow-gpu>=1.13.1; extra == \"tfgpu\"->ckiptagger[gdown,tfgpu]) (1.33.1)\n",
            "Requirement already satisfied, skipping upgrade: tensorflow-estimator<2.4.0,>=2.3.0 in /usr/local/lib/python3.6/dist-packages (from tensorflow-gpu>=1.13.1; extra == \"tfgpu\"->ckiptagger[gdown,tfgpu]) (2.3.0)\n",
            "Requirement already satisfied, skipping upgrade: keras-preprocessing<1.2,>=1.1.1 in /usr/local/lib/python3.6/dist-packages (from tensorflow-gpu>=1.13.1; extra == \"tfgpu\"->ckiptagger[gdown,tfgpu]) (1.1.2)\n",
            "Requirement already satisfied, skipping upgrade: numpy<1.19.0,>=1.16.0 in /usr/local/lib/python3.6/dist-packages (from tensorflow-gpu>=1.13.1; extra == \"tfgpu\"->ckiptagger[gdown,tfgpu]) (1.18.5)\n",
            "Requirement already satisfied, skipping upgrade: astunparse==1.6.3 in /usr/local/lib/python3.6/dist-packages (from tensorflow-gpu>=1.13.1; extra == \"tfgpu\"->ckiptagger[gdown,tfgpu]) (1.6.3)\n",
            "Requirement already satisfied, skipping upgrade: google-pasta>=0.1.8 in /usr/local/lib/python3.6/dist-packages (from tensorflow-gpu>=1.13.1; extra == \"tfgpu\"->ckiptagger[gdown,tfgpu]) (0.2.0)\n",
            "Requirement already satisfied, skipping upgrade: absl-py>=0.7.0 in /usr/local/lib/python3.6/dist-packages (from tensorflow-gpu>=1.13.1; extra == \"tfgpu\"->ckiptagger[gdown,tfgpu]) (0.10.0)\n",
            "Requirement already satisfied, skipping upgrade: termcolor>=1.1.0 in /usr/local/lib/python3.6/dist-packages (from tensorflow-gpu>=1.13.1; extra == \"tfgpu\"->ckiptagger[gdown,tfgpu]) (1.1.0)\n",
            "Requirement already satisfied, skipping upgrade: tensorboard<3,>=2.3.0 in /usr/local/lib/python3.6/dist-packages (from tensorflow-gpu>=1.13.1; extra == \"tfgpu\"->ckiptagger[gdown,tfgpu]) (2.3.0)\n",
            "Requirement already satisfied, skipping upgrade: wrapt>=1.11.1 in /usr/local/lib/python3.6/dist-packages (from tensorflow-gpu>=1.13.1; extra == \"tfgpu\"->ckiptagger[gdown,tfgpu]) (1.12.1)\n",
            "Requirement already satisfied, skipping upgrade: chardet<4,>=3.0.2 in /usr/local/lib/python3.6/dist-packages (from requests->gdown; extra == \"gdown\"->ckiptagger[gdown,tfgpu]) (3.0.4)\n",
            "Requirement already satisfied, skipping upgrade: urllib3!=1.25.0,!=1.25.1,<1.26,>=1.21.1 in /usr/local/lib/python3.6/dist-packages (from requests->gdown; extra == \"gdown\"->ckiptagger[gdown,tfgpu]) (1.24.3)\n",
            "Requirement already satisfied, skipping upgrade: certifi>=2017.4.17 in /usr/local/lib/python3.6/dist-packages (from requests->gdown; extra == \"gdown\"->ckiptagger[gdown,tfgpu]) (2020.6.20)\n",
            "Requirement already satisfied, skipping upgrade: idna<3,>=2.5 in /usr/local/lib/python3.6/dist-packages (from requests->gdown; extra == \"gdown\"->ckiptagger[gdown,tfgpu]) (2.10)\n",
            "Requirement already satisfied, skipping upgrade: setuptools in /usr/local/lib/python3.6/dist-packages (from protobuf>=3.9.2->tensorflow-gpu>=1.13.1; extra == \"tfgpu\"->ckiptagger[gdown,tfgpu]) (50.3.2)\n",
            "Requirement already satisfied, skipping upgrade: google-auth<2,>=1.6.3 in /usr/local/lib/python3.6/dist-packages (from tensorboard<3,>=2.3.0->tensorflow-gpu>=1.13.1; extra == \"tfgpu\"->ckiptagger[gdown,tfgpu]) (1.17.2)\n",
            "Requirement already satisfied, skipping upgrade: markdown>=2.6.8 in /usr/local/lib/python3.6/dist-packages (from tensorboard<3,>=2.3.0->tensorflow-gpu>=1.13.1; extra == \"tfgpu\"->ckiptagger[gdown,tfgpu]) (3.3.2)\n",
            "Requirement already satisfied, skipping upgrade: werkzeug>=0.11.15 in /usr/local/lib/python3.6/dist-packages (from tensorboard<3,>=2.3.0->tensorflow-gpu>=1.13.1; extra == \"tfgpu\"->ckiptagger[gdown,tfgpu]) (1.0.1)\n",
            "Requirement already satisfied, skipping upgrade: google-auth-oauthlib<0.5,>=0.4.1 in /usr/local/lib/python3.6/dist-packages (from tensorboard<3,>=2.3.0->tensorflow-gpu>=1.13.1; extra == \"tfgpu\"->ckiptagger[gdown,tfgpu]) (0.4.1)\n",
            "Requirement already satisfied, skipping upgrade: tensorboard-plugin-wit>=1.6.0 in /usr/local/lib/python3.6/dist-packages (from tensorboard<3,>=2.3.0->tensorflow-gpu>=1.13.1; extra == \"tfgpu\"->ckiptagger[gdown,tfgpu]) (1.7.0)\n",
            "Requirement already satisfied, skipping upgrade: cachetools<5.0,>=2.0.0 in /usr/local/lib/python3.6/dist-packages (from google-auth<2,>=1.6.3->tensorboard<3,>=2.3.0->tensorflow-gpu>=1.13.1; extra == \"tfgpu\"->ckiptagger[gdown,tfgpu]) (4.1.1)\n",
            "Requirement already satisfied, skipping upgrade: rsa<5,>=3.1.4; python_version >= \"3\" in /usr/local/lib/python3.6/dist-packages (from google-auth<2,>=1.6.3->tensorboard<3,>=2.3.0->tensorflow-gpu>=1.13.1; extra == \"tfgpu\"->ckiptagger[gdown,tfgpu]) (4.6)\n",
            "Requirement already satisfied, skipping upgrade: pyasn1-modules>=0.2.1 in /usr/local/lib/python3.6/dist-packages (from google-auth<2,>=1.6.3->tensorboard<3,>=2.3.0->tensorflow-gpu>=1.13.1; extra == \"tfgpu\"->ckiptagger[gdown,tfgpu]) (0.2.8)\n",
            "Requirement already satisfied, skipping upgrade: importlib-metadata; python_version < \"3.8\" in /usr/local/lib/python3.6/dist-packages (from markdown>=2.6.8->tensorboard<3,>=2.3.0->tensorflow-gpu>=1.13.1; extra == \"tfgpu\"->ckiptagger[gdown,tfgpu]) (2.0.0)\n",
            "Requirement already satisfied, skipping upgrade: requests-oauthlib>=0.7.0 in /usr/local/lib/python3.6/dist-packages (from google-auth-oauthlib<0.5,>=0.4.1->tensorboard<3,>=2.3.0->tensorflow-gpu>=1.13.1; extra == \"tfgpu\"->ckiptagger[gdown,tfgpu]) (1.3.0)\n",
            "Requirement already satisfied, skipping upgrade: pyasn1>=0.1.3 in /usr/local/lib/python3.6/dist-packages (from rsa<5,>=3.1.4; python_version >= \"3\"->google-auth<2,>=1.6.3->tensorboard<3,>=2.3.0->tensorflow-gpu>=1.13.1; extra == \"tfgpu\"->ckiptagger[gdown,tfgpu]) (0.4.8)\n",
            "Requirement already satisfied, skipping upgrade: zipp>=0.5 in /usr/local/lib/python3.6/dist-packages (from importlib-metadata; python_version < \"3.8\"->markdown>=2.6.8->tensorboard<3,>=2.3.0->tensorflow-gpu>=1.13.1; extra == \"tfgpu\"->ckiptagger[gdown,tfgpu]) (3.3.1)\n",
            "Requirement already satisfied, skipping upgrade: oauthlib>=3.0.0 in /usr/local/lib/python3.6/dist-packages (from requests-oauthlib>=0.7.0->google-auth-oauthlib<0.5,>=0.4.1->tensorboard<3,>=2.3.0->tensorflow-gpu>=1.13.1; extra == \"tfgpu\"->ckiptagger[gdown,tfgpu]) (3.1.0)\n",
            "Installing collected packages: tensorflow-gpu, ckiptagger\n",
            "Successfully installed ckiptagger-0.2.1 tensorflow-gpu-2.3.1\n"
          ],
          "name": "stdout"
        },
        {
          "output_type": "stream",
          "text": [
            "Downloading...\n",
            "From: https://drive.google.com/uc?id=1efHsY16pxK0lBD2gYCgCTnv1Swstq771\n",
            "To: /content/data.zip\n",
            "1.88GB [00:40, 46.0MB/s]\n"
          ],
          "name": "stderr"
        }
      ]
    },
    {
      "cell_type": "code",
      "metadata": {
        "id": "wjEeWkVoNu4F"
      },
      "source": [
        "from ckiptagger import WS, POS, NER\n",
        "pos = POS(\"./data\")\n",
        "ws = WS(\"./data\")"
      ],
      "execution_count": 6,
      "outputs": []
    },
    {
      "cell_type": "code",
      "metadata": {
        "id": "zxfu0L_jNvNn"
      },
      "source": [
        "train=train.drop(\"fix\",axis=1)\n",
        "test=test.drop(\"fix\",axis=1)"
      ],
      "execution_count": 7,
      "outputs": []
    },
    {
      "cell_type": "code",
      "metadata": {
        "id": "GFMiqnPFOMzU"
      },
      "source": [
        "import re\n",
        "def remove_punctuation(line):\n",
        "    rule = re.compile(r\"[^0-9丶()a-zA-Z\\u4e00-\\u9fa5]\")\n",
        "    line = rule.sub('',line)\n",
        "    return line\n",
        "for i in [\"1\",\"2\",\"3\",\"4\",\"5\"]:\n",
        "    train[\"k_a08a_\"+i]=train[\"k_a08a_\"+i].replace(\"無\",\"\").apply(remove_punctuation)\n",
        "    train[\"k_a08a_\"+i]=train[\"k_a08a_\"+i].replace(\"不知道\",\"\").apply(remove_punctuation)\n",
        "    test[\"k_a08a_\"+i]=test[\"k_a08a_\"+i].replace(\"無\",\"\").apply(remove_punctuation)\n",
        "    test[\"k_a08a_\"+i]=test[\"k_a08a_\"+i].replace(\"不知道\",\"\").apply(remove_punctuation)\n",
        "train[\"k_a08a_4\"]=train[\"k_a08a_4\"].apply(lambda x:x.replace(\"闆\",\"板\"))\n",
        "test[\"k_a08a_4\"]=test[\"k_a08a_4\"].apply(lambda x:x.replace(\"闆\",\"板\"))\n",
        "train[\"k_a08a_3\"]=train[\"k_a08a_3\"].apply(lambda x:x.replace(\"部\",\"\"))\n",
        "test[\"k_a08a_3\"]=test[\"k_a08a_3\"].apply(lambda x:x.replace(\"部\",\"\"))\n",
        "train[\"k_a08a_3\"]=train[\"k_a08a_3\"].apply(lambda x:x.replace(\"課\",\"\"))\n",
        "test[\"k_a08a_3\"]=test[\"k_a08a_3\"].apply(lambda x:x.replace(\"課\",\"\"))"
      ],
      "execution_count": 8,
      "outputs": []
    },
    {
      "cell_type": "code",
      "metadata": {
        "id": "PIULdP8MONH4"
      },
      "source": [
        "train[\"k_a08a_1\"]=train[\"k_a08a_1\"].apply(lambda x:x.replace(\"股份有限公司\",\"\"))\n",
        "test[\"k_a08a_1\"]=test[\"k_a08a_1\"].apply(lambda x:x.replace(\"股份有限公司\",\"\"))\n",
        "train[\"k_a08a_1\"]=train[\"k_a08a_1\"].apply(lambda x:x.replace(\"有限公司\",\"\"))\n",
        "test[\"k_a08a_1\"]=test[\"k_a08a_1\"].apply(lambda x:x.replace(\"有限公司\",\"\"))\n",
        "train[\"k_a08a_1\"]=train[\"k_a08a_1\"].apply(lambda x:x.replace(\"總公司\",\"\"))\n",
        "test[\"k_a08a_1\"]=test[\"k_a08a_1\"].apply(lambda x:x.replace(\"總公司\",\"\"))\n",
        "train[\"k_a08a_1\"]=train[\"k_a08a_1\"].apply(lambda x:x.replace(\"分公司\",\"\"))\n",
        "test[\"k_a08a_1\"]=test[\"k_a08a_1\"].apply(lambda x:x.replace(\"分公司\",\"\"))\n",
        "train[\"k_a08a_1\"]=train[\"k_a08a_1\"].apply(lambda x:x.replace(\"股公司\",\"\"))\n",
        "test[\"k_a08a_1\"]=test[\"k_a08a_1\"].apply(lambda x:x.replace(\"股公司\",\"\"))\n",
        "train[\"k_a08a_1\"]=train[\"k_a08a_1\"].apply(lambda x:x.replace(\"公司\",\"\"))\n",
        "test[\"k_a08a_1\"]=test[\"k_a08a_1\"].apply(lambda x:x.replace(\"公司\",\"\"))\n",
        "train[\"k_a08a_1\"]=train[\"k_a08a_1\"].apply(lambda x:x.replace(\"企業社\",\"\"))\n",
        "test[\"k_a08a_1\"]=test[\"k_a08a_1\"].apply(lambda x:x.replace(\"企業社\",\"\"))\n",
        "train[\"k_a08a_1\"]=train[\"k_a08a_1\"].apply(lambda x:x.replace(\"企業\",\"\"))\n",
        "test[\"k_a08a_1\"]=test[\"k_a08a_1\"].apply(lambda x:x.replace(\"企業\",\"\"))\n",
        "train[\"word cut1\"]=train[\"k_a08a_1\"].apply(lambda x:ws([x]))\n",
        "test[\"word cut1\"]=test[\"k_a08a_1\"].apply(lambda x:ws([x]))"
      ],
      "execution_count": 9,
      "outputs": []
    },
    {
      "cell_type": "code",
      "metadata": {
        "id": "sRicCqW6OZKS"
      },
      "source": [
        "train[\"pos1\"]=train[\"word cut1\"].apply(lambda x:pos(x))\n",
        "test[\"pos1\"]=test[\"word cut1\"].apply(lambda x:pos(x))"
      ],
      "execution_count": 10,
      "outputs": []
    },
    {
      "cell_type": "code",
      "metadata": {
        "id": "jBPo2g27OZc4"
      },
      "source": [
        "#for i in range(len(train)):\n",
        "  #print(train[\"pos1\"].iloc[i],train[\"word cut1\"].iloc[i])\n",
        "#Choose tag type eqals to \"Na\" or \"Nc\""
      ],
      "execution_count": 11,
      "outputs": []
    },
    {
      "cell_type": "code",
      "metadata": {
        "id": "y7cPBLOKOZrc"
      },
      "source": [
        "'''\n",
        "Here I used name entity recognition to acquire some unrelated entity types\n",
        "such as \n",
        "GPE:Countries, cities, states\n",
        "LOC:Non-GPE locations, mountain ranges, bodies of water\n",
        "ORDINAL:“first”, “second”\n",
        "MONEY:Monetary values, including unit\n",
        "'''\n",
        "drop_list=['台灣',\n",
        " '第一',\n",
        " '高雄',\n",
        " '台灣',\n",
        " '第一',\n",
        " '台灣',\n",
        " '台灣',\n",
        " '泰式',\n",
        " '長春',\n",
        " '新竹',\n",
        " '台灣',\n",
        " '中港',\n",
        " '南港',\n",
        " '台灣',\n",
        " '台灣',\n",
        " '彰化縣',\n",
        " '北誠',\n",
        " '四週',\n",
        " '春天',\n",
        " '新北市',\n",
        " '永康',\n",
        " '美商',\n",
        " '基隆廟口',\n",
        " '台灣',\n",
        " '第六',\n",
        " '第一',\n",
        " '哥倫比亞',\n",
        " '第四十二',\n",
        " '富春',\n",
        " '台灣',\n",
        " '亞太',\n",
        " '台灣',\n",
        " '英屬',\n",
        " '台灣',\n",
        " '法國',\n",
        " '台中',\n",
        " '台灣',\n",
        " '基隆市',\n",
        " '台灣',\n",
        " '韓國',\n",
        " '台北市',\n",
        " '一年多',\n",
        " '桃園市',\n",
        " '西式',\n",
        " '台灣',\n",
        " '東市',\n",
        " '桃園市',\n",
        " '九月',\n",
        " '台中',\n",
        " '華盛頓',\n",
        " '台中',\n",
        " '第七',\n",
        " '中國',\n",
        " '台中商圈',\n",
        " '台中市東勢區',\n",
        " '第六',\n",
        " '豐原',\n",
        " '美商',\n",
        " '三天',\n",
        " '億元',\n",
        " '中式',\n",
        " '南投縣',\n",
        " '後壁',\n",
        " '白河區',\n",
        " '台南市',\n",
        " '白河',\n",
        " '日式',\n",
        " '吉賀',\n",
        " '臺灣',\n",
        " '台灣',\n",
        " '桃園市',\n",
        " '桃園市',\n",
        " '台北',\n",
        " '第一',\n",
        " '新北市',\n",
        " '義大利',\n",
        " '第四',\n",
        " '埔心鄉',\n",
        " '桃園市',\n",
        " '雲林縣長',\n",
        " '台南',\n",
        " '上海',\n",
        " '蘇州',\n",
        " '杭州',\n",
        " '關廟',\n",
        " '基隆',\n",
        " '基隆',\n",
        " '義大利',\n",
        " '台中',\n",
        " '第一',\n",
        " '台灣',\n",
        " '第一',\n",
        " '台灣',\n",
        " '第五',\n",
        " '嘉義',\n",
        " '亞太',\n",
        " '蘇伊士',\n",
        " '南亞',\n",
        " '南亞',\n",
        " '寧波',\n",
        " '中國',\n",
        " '日式',\n",
        " '第一',\n",
        " '太平洋',\n",
        " '泰國',\n",
        " '台北',\n",
        " '台中市',\n",
        " '中華',\n",
        " '義大利',\n",
        " '三重',\n",
        " '台灣',\n",
        " '華林',\n",
        " '春天',\n",
        " '春天',\n",
        " '板橋區',\n",
        " '九份',\n",
        " '台灣',\n",
        " '十元',\n",
        " '聚典',\n",
        " '桃園市',\n",
        " '第一',\n",
        " '中國',\n",
        " '台灣',\n",
        " '桃園市',\n",
        " '南陵',\n",
        " '英國',\n",
        " '中西',\n",
        " '花東',\n",
        " '中式',\n",
        " '豐原',\n",
        " '台灣',\n",
        " '塩水',\n",
        " '明鎮',\n",
        " '東山地區',\n",
        " '舒帛',\n",
        " '五天',\n",
        " '華東',\n",
        " '茄渼',\n",
        " '高雄',\n",
        " '台北',\n",
        " '台灣',\n",
        " '中國',\n",
        " '興美',\n",
        " '中壢']\n",
        "\n",
        "drop_list=list(set(drop_list))"
      ],
      "execution_count": 12,
      "outputs": []
    },
    {
      "cell_type": "code",
      "metadata": {
        "id": "gHL6iMsYrqCQ"
      },
      "source": [
        "import numpy as np\n",
        "train[\"feature\"]=train['k_a08a_2']+train['k_a08a_3']+train['k_a08a_4']+train['k_a08a_5']\n",
        "train=train[train['feature'].notna()]\n",
        "\n",
        "test[\"feature\"]=test['k_a08a_2']+test['k_a08a_3']+test['k_a08a_4']+test['k_a08a_5']\n",
        "test[\"feature\"]=test[\"feature\"].replace(np.nan, \"nan\")"
      ],
      "execution_count": 13,
      "outputs": []
    },
    {
      "cell_type": "code",
      "metadata": {
        "id": "p75fpa3hr7-8",
        "outputId": "5961031d-ea62-48c9-a49b-7fc4a27605e7",
        "colab": {
          "base_uri": "https://localhost:8080/"
        }
      },
      "source": [
        "import jieba\n",
        "import jieba.analyse\n",
        "from gensim.models import Word2Vec\n",
        "def pad4(x):\n",
        "    if len(x)==0:\n",
        "        x=[\"nan\",\"nan\",\"nan\",\"nan\",\"nan\"]\n",
        "    init=0\n",
        "    while len(x)<5:\n",
        "        x.append(x[init])\n",
        "        init+=1\n",
        "    return x\n",
        "\n",
        "train[\"key_info\"]=train[\"feature\"].apply(lambda x:jieba.analyse.extract_tags(x, topK=5))\n",
        "train[\"key_info\"]=train[\"key_info\"].apply(pad4)\n",
        "test[\"key_info\"]=test[\"feature\"].apply(lambda x:jieba.analyse.extract_tags(x, topK=5))\n",
        "test[\"key_info\"]=test[\"key_info\"].apply(pad4)\n",
        "voc=list(train[\"key_info\"])+list(test[\"key_info\"])\n",
        "\n",
        "\n",
        "mymodel = Word2Vec(voc*2,size=200, min_count=2,workers=4,sg=1)\n",
        "mymodel.save(\"modelnew\")\n",
        "def w2v_vector(text_list):\n",
        "    new=[]\n",
        "    for word in text_list:\n",
        "        new=new+list(mymodel[word])\n",
        "    new=np.array(new,dtype=float)\n",
        "    return new\n",
        "train[\"answer\"]=train[\"key_info\"].apply(w2v_vector)\n",
        "test[\"answer\"]=test[\"key_info\"].apply(w2v_vector)"
      ],
      "execution_count": 14,
      "outputs": [
        {
          "output_type": "stream",
          "text": [
            "Building prefix dict from the default dictionary ...\n",
            "Dumping model to file cache /tmp/jieba.cache\n",
            "Loading model cost 0.735 seconds.\n",
            "Prefix dict has been built successfully.\n",
            "/usr/local/lib/python3.6/dist-packages/ipykernel_launcher.py:25: DeprecationWarning: Call to deprecated `__getitem__` (Method will be removed in 4.0.0, use self.wv.__getitem__() instead).\n"
          ],
          "name": "stderr"
        }
      ]
    },
    {
      "cell_type": "code",
      "metadata": {
        "id": "nZXRM8xRr8T7"
      },
      "source": [
        "train[\"word cut2\"]=train[\"feature\"].apply(lambda x:ws([x]))\n",
        "test[\"word cut2\"]=test[\"feature\"].apply(lambda x:ws([x]))\n",
        "train[\"pos2\"]=train[\"word cut2\"].apply(lambda x:pos(x))\n",
        "test[\"pos2\"]=test[\"word cut2\"].apply(lambda x:pos(x))"
      ],
      "execution_count": 15,
      "outputs": []
    },
    {
      "cell_type": "code",
      "metadata": {
        "id": "DwIC1N5qOxFV"
      },
      "source": [
        "import itertools\n",
        "flatten = itertools.chain.from_iterable\n",
        "#list(flatten(l))\n",
        "remove_tag=[\n",
        "\"Nb\",\n",
        "\"Neu\",\n",
        "\"Caa\",\n",
        "\"Cab\",\n",
        "\"Cba\",\n",
        "\"Cbb\",\n",
        "\"P\",\n",
        "\"DE\",\n",
        "\"D\",\n",
        "\"VH\",\n",
        "\"Da\",\n",
        "\"Dfa\",\n",
        "\"Dfb\",\n",
        "\"Di\",\n",
        "\"Dk\",\n",
        "\"DM\",\n",
        "\"V_2\",\n",
        "\"SHI\"\n",
        "]"
      ],
      "execution_count": 16,
      "outputs": []
    },
    {
      "cell_type": "code",
      "metadata": {
        "id": "z4x-TwQItHWT"
      },
      "source": [
        "clean_word=[]\n",
        "for i in range(len(train)):\n",
        "    f1=list(flatten(train[\"word cut1\"].iloc[i]))\n",
        "    p1=list(flatten(train[\"pos1\"].iloc[i]))\n",
        "    f2=list(flatten(train[\"word cut2\"].iloc[i]))\n",
        "    p2=list(flatten(train[\"pos2\"].iloc[i]))\n",
        "\n",
        "    c1=[]\n",
        "    for i in range(len(p1)):\n",
        "        if p1[i]  in [\"Na\",\"Nc\"]:\n",
        "            if f1[i] not in drop_list:\n",
        "                c1.append(f1[i])\n",
        "    for i in range(len(p2)):\n",
        "        if p2[i] not in remove_tag:\n",
        "            if f2[i] not in drop_list:\n",
        "                c1.append(f2[i])\n",
        "    clean_word.append(c1)\n",
        "\n",
        "train[\"clean_word\"]=clean_word  \n",
        "\n",
        "clean_word=[]\n",
        "for i in range(len(test)):\n",
        "    f1=list(flatten(test[\"word cut1\"].iloc[i]))\n",
        "    p1=list(flatten(test[\"pos1\"].iloc[i]))\n",
        "    f2=list(flatten(test[\"word cut2\"].iloc[i]))\n",
        "    p2=list(flatten(test[\"pos2\"].iloc[i]))\n",
        "\n",
        "    c1=[]\n",
        "    for i in range(len(p1)):\n",
        "        if p1[i]  in [\"Na\",\"Nc\"]:\n",
        "            if f1[i] not in drop_list:\n",
        "                c1.append(f1[i])\n",
        "    for i in range(len(p2)):\n",
        "        if p2[i] not in remove_tag:\n",
        "            if f2[i] not in drop_list:\n",
        "                c1.append(f2[i])\n",
        "    \n",
        "    clean_word.append(c1)\n",
        "\n",
        "test[\"clean_word\"]=clean_word "
      ],
      "execution_count": 17,
      "outputs": []
    },
    {
      "cell_type": "code",
      "metadata": {
        "id": "zHRXZlU4tMDQ"
      },
      "source": [
        "temp=pd.concat([train[\"clean_word\"],test[\"clean_word\"]],axis=0)"
      ],
      "execution_count": 18,
      "outputs": []
    },
    {
      "cell_type": "code",
      "metadata": {
        "id": "4-kapYs6LAxJ",
        "outputId": "eeef27df-8ed1-4181-8fd6-7e61d49a79cc",
        "colab": {
          "base_uri": "https://localhost:8080/"
        }
      },
      "source": [
        "from sklearn.feature_extraction.text import TfidfVectorizer\n",
        "from sklearn.decomposition import TruncatedSVD\n",
        "def dummy(data):\n",
        "    return str(data)\n",
        "vectorizer =TfidfVectorizer(preprocessor=dummy)\n",
        "tfidf1 = vectorizer.fit_transform(temp)\n",
        "print(tfidf1.shape)\n",
        "n_components = 3000\n",
        "tsvd = TruncatedSVD(n_components=n_components)\n",
        "tsvd_result = tsvd.fit_transform(tfidf1)\n",
        "explained_variance = tsvd.explained_variance_ratio_.sum()\n",
        "# The svd explains only a tiny portion of the variance\n",
        "print(\"Explained variance %f\" % (explained_variance))\n",
        "print(tsvd_result.shape)\n",
        "train[\"tsvd_result1\"]=list(tsvd_result)[:3200]\n",
        "test[\"tsvd_result1\"]=list(tsvd_result)[3200:]"
      ],
      "execution_count": 27,
      "outputs": [
        {
          "output_type": "stream",
          "text": [
            "(3943, 5508)\n",
            "Explained variance 0.993682\n",
            "(3943, 3000)\n"
          ],
          "name": "stdout"
        }
      ]
    },
    {
      "cell_type": "code",
      "metadata": {
        "id": "mzzeZfnsLBRk",
        "outputId": "3a4b75fb-e7f3-4f8e-e5de-f04a1981574f",
        "colab": {
          "base_uri": "https://localhost:8080/"
        }
      },
      "source": [
        "new_train=[]\n",
        "for i in range(len(train)):\n",
        "    a1=train[\"answer\"][i]\n",
        "    a1=list(a1)+list(train[\"tsvd_result1\"][i])\n",
        "    new_train.append(a1)\n",
        "\n",
        "new_test=[]\n",
        "for i in range(len(test)):\n",
        "    a1=test[\"answer\"][i]\n",
        "    a1=list(a1)+list(test[\"tsvd_result1\"][i])\n",
        "    new_test.append(a1)\n",
        "    \n",
        "print(np.array(new_train).shape)\n",
        "print(np.array(new_test).shape)"
      ],
      "execution_count": 28,
      "outputs": [
        {
          "output_type": "stream",
          "text": [
            "(3200, 4000)\n",
            "(743, 4000)\n"
          ],
          "name": "stdout"
        }
      ]
    },
    {
      "cell_type": "code",
      "metadata": {
        "id": "sD6QW2Hczd04"
      },
      "source": [
        "from sklearn.linear_model import LogisticRegression\n",
        "from sklearn.model_selection import train_test_split\n",
        "from sklearn.metrics import accuracy_score"
      ],
      "execution_count": 29,
      "outputs": []
    },
    {
      "cell_type": "code",
      "metadata": {
        "id": "Z5T2wSHCLZt7"
      },
      "source": [
        "train[\"a08a02\"]=train[\"a08a02\"].astype('category')\n",
        "train[\"a08a01\"]=train[\"a08a01\"].astype('category')"
      ],
      "execution_count": 30,
      "outputs": []
    },
    {
      "cell_type": "code",
      "metadata": {
        "id": "J0Dxo-wxLZ2d",
        "outputId": "a7616a02-4d7c-464d-d60e-767a662d7553",
        "colab": {
          "base_uri": "https://localhost:8080/"
        }
      },
      "source": [
        "import numpy as np\n",
        "from imblearn.over_sampling import SMOTE\n",
        "X_train, X_test, Y_train, Y_test = train_test_split(new_train, np.array(train[\"a08a01\"]), test_size=0.1, random_state=1,stratify=np.array(train[\"a08a01\"]),shuffle=True)\n",
        "\n",
        "sm = SMOTE(random_state=12,k_neighbors=5)\n",
        "X_train_res, Y_train_res = sm.fit_sample(list(X_train), Y_train)"
      ],
      "execution_count": 31,
      "outputs": [
        {
          "output_type": "stream",
          "text": [
            "/usr/local/lib/python3.6/dist-packages/sklearn/utils/deprecation.py:87: FutureWarning: Function safe_indexing is deprecated; safe_indexing is deprecated in version 0.22 and will be removed in version 0.24.\n",
            "  warnings.warn(msg, category=FutureWarning)\n",
            "/usr/local/lib/python3.6/dist-packages/sklearn/utils/deprecation.py:87: FutureWarning: Function safe_indexing is deprecated; safe_indexing is deprecated in version 0.22 and will be removed in version 0.24.\n",
            "  warnings.warn(msg, category=FutureWarning)\n",
            "/usr/local/lib/python3.6/dist-packages/sklearn/utils/deprecation.py:87: FutureWarning: Function safe_indexing is deprecated; safe_indexing is deprecated in version 0.22 and will be removed in version 0.24.\n",
            "  warnings.warn(msg, category=FutureWarning)\n",
            "/usr/local/lib/python3.6/dist-packages/sklearn/utils/deprecation.py:87: FutureWarning: Function safe_indexing is deprecated; safe_indexing is deprecated in version 0.22 and will be removed in version 0.24.\n",
            "  warnings.warn(msg, category=FutureWarning)\n",
            "/usr/local/lib/python3.6/dist-packages/sklearn/utils/deprecation.py:87: FutureWarning: Function safe_indexing is deprecated; safe_indexing is deprecated in version 0.22 and will be removed in version 0.24.\n",
            "  warnings.warn(msg, category=FutureWarning)\n",
            "/usr/local/lib/python3.6/dist-packages/sklearn/utils/deprecation.py:87: FutureWarning: Function safe_indexing is deprecated; safe_indexing is deprecated in version 0.22 and will be removed in version 0.24.\n",
            "  warnings.warn(msg, category=FutureWarning)\n",
            "/usr/local/lib/python3.6/dist-packages/sklearn/utils/deprecation.py:87: FutureWarning: Function safe_indexing is deprecated; safe_indexing is deprecated in version 0.22 and will be removed in version 0.24.\n",
            "  warnings.warn(msg, category=FutureWarning)\n",
            "/usr/local/lib/python3.6/dist-packages/sklearn/utils/deprecation.py:87: FutureWarning: Function safe_indexing is deprecated; safe_indexing is deprecated in version 0.22 and will be removed in version 0.24.\n",
            "  warnings.warn(msg, category=FutureWarning)\n",
            "/usr/local/lib/python3.6/dist-packages/sklearn/utils/deprecation.py:87: FutureWarning: Function safe_indexing is deprecated; safe_indexing is deprecated in version 0.22 and will be removed in version 0.24.\n",
            "  warnings.warn(msg, category=FutureWarning)\n",
            "/usr/local/lib/python3.6/dist-packages/sklearn/utils/deprecation.py:87: FutureWarning: Function safe_indexing is deprecated; safe_indexing is deprecated in version 0.22 and will be removed in version 0.24.\n",
            "  warnings.warn(msg, category=FutureWarning)\n",
            "/usr/local/lib/python3.6/dist-packages/sklearn/utils/deprecation.py:87: FutureWarning: Function safe_indexing is deprecated; safe_indexing is deprecated in version 0.22 and will be removed in version 0.24.\n",
            "  warnings.warn(msg, category=FutureWarning)\n",
            "/usr/local/lib/python3.6/dist-packages/sklearn/utils/deprecation.py:87: FutureWarning: Function safe_indexing is deprecated; safe_indexing is deprecated in version 0.22 and will be removed in version 0.24.\n",
            "  warnings.warn(msg, category=FutureWarning)\n",
            "/usr/local/lib/python3.6/dist-packages/sklearn/utils/deprecation.py:87: FutureWarning: Function safe_indexing is deprecated; safe_indexing is deprecated in version 0.22 and will be removed in version 0.24.\n",
            "  warnings.warn(msg, category=FutureWarning)\n",
            "/usr/local/lib/python3.6/dist-packages/sklearn/utils/deprecation.py:87: FutureWarning: Function safe_indexing is deprecated; safe_indexing is deprecated in version 0.22 and will be removed in version 0.24.\n",
            "  warnings.warn(msg, category=FutureWarning)\n",
            "/usr/local/lib/python3.6/dist-packages/sklearn/utils/deprecation.py:87: FutureWarning: Function safe_indexing is deprecated; safe_indexing is deprecated in version 0.22 and will be removed in version 0.24.\n",
            "  warnings.warn(msg, category=FutureWarning)\n",
            "/usr/local/lib/python3.6/dist-packages/sklearn/utils/deprecation.py:87: FutureWarning: Function safe_indexing is deprecated; safe_indexing is deprecated in version 0.22 and will be removed in version 0.24.\n",
            "  warnings.warn(msg, category=FutureWarning)\n",
            "/usr/local/lib/python3.6/dist-packages/sklearn/utils/deprecation.py:87: FutureWarning: Function safe_indexing is deprecated; safe_indexing is deprecated in version 0.22 and will be removed in version 0.24.\n",
            "  warnings.warn(msg, category=FutureWarning)\n",
            "/usr/local/lib/python3.6/dist-packages/sklearn/utils/deprecation.py:87: FutureWarning: Function safe_indexing is deprecated; safe_indexing is deprecated in version 0.22 and will be removed in version 0.24.\n",
            "  warnings.warn(msg, category=FutureWarning)\n",
            "/usr/local/lib/python3.6/dist-packages/sklearn/utils/deprecation.py:87: FutureWarning: Function safe_indexing is deprecated; safe_indexing is deprecated in version 0.22 and will be removed in version 0.24.\n",
            "  warnings.warn(msg, category=FutureWarning)\n",
            "/usr/local/lib/python3.6/dist-packages/sklearn/utils/deprecation.py:87: FutureWarning: Function safe_indexing is deprecated; safe_indexing is deprecated in version 0.22 and will be removed in version 0.24.\n",
            "  warnings.warn(msg, category=FutureWarning)\n",
            "/usr/local/lib/python3.6/dist-packages/sklearn/utils/deprecation.py:87: FutureWarning: Function safe_indexing is deprecated; safe_indexing is deprecated in version 0.22 and will be removed in version 0.24.\n",
            "  warnings.warn(msg, category=FutureWarning)\n",
            "/usr/local/lib/python3.6/dist-packages/sklearn/utils/deprecation.py:87: FutureWarning: Function safe_indexing is deprecated; safe_indexing is deprecated in version 0.22 and will be removed in version 0.24.\n",
            "  warnings.warn(msg, category=FutureWarning)\n",
            "/usr/local/lib/python3.6/dist-packages/sklearn/utils/deprecation.py:87: FutureWarning: Function safe_indexing is deprecated; safe_indexing is deprecated in version 0.22 and will be removed in version 0.24.\n",
            "  warnings.warn(msg, category=FutureWarning)\n",
            "/usr/local/lib/python3.6/dist-packages/sklearn/utils/deprecation.py:87: FutureWarning: Function safe_indexing is deprecated; safe_indexing is deprecated in version 0.22 and will be removed in version 0.24.\n",
            "  warnings.warn(msg, category=FutureWarning)\n",
            "/usr/local/lib/python3.6/dist-packages/sklearn/utils/deprecation.py:87: FutureWarning: Function safe_indexing is deprecated; safe_indexing is deprecated in version 0.22 and will be removed in version 0.24.\n",
            "  warnings.warn(msg, category=FutureWarning)\n",
            "/usr/local/lib/python3.6/dist-packages/sklearn/utils/deprecation.py:87: FutureWarning: Function safe_indexing is deprecated; safe_indexing is deprecated in version 0.22 and will be removed in version 0.24.\n",
            "  warnings.warn(msg, category=FutureWarning)\n",
            "/usr/local/lib/python3.6/dist-packages/sklearn/utils/deprecation.py:87: FutureWarning: Function safe_indexing is deprecated; safe_indexing is deprecated in version 0.22 and will be removed in version 0.24.\n",
            "  warnings.warn(msg, category=FutureWarning)\n",
            "/usr/local/lib/python3.6/dist-packages/sklearn/utils/deprecation.py:87: FutureWarning: Function safe_indexing is deprecated; safe_indexing is deprecated in version 0.22 and will be removed in version 0.24.\n",
            "  warnings.warn(msg, category=FutureWarning)\n",
            "/usr/local/lib/python3.6/dist-packages/sklearn/utils/deprecation.py:87: FutureWarning: Function safe_indexing is deprecated; safe_indexing is deprecated in version 0.22 and will be removed in version 0.24.\n",
            "  warnings.warn(msg, category=FutureWarning)\n",
            "/usr/local/lib/python3.6/dist-packages/sklearn/utils/deprecation.py:87: FutureWarning: Function safe_indexing is deprecated; safe_indexing is deprecated in version 0.22 and will be removed in version 0.24.\n",
            "  warnings.warn(msg, category=FutureWarning)\n",
            "/usr/local/lib/python3.6/dist-packages/sklearn/utils/deprecation.py:87: FutureWarning: Function safe_indexing is deprecated; safe_indexing is deprecated in version 0.22 and will be removed in version 0.24.\n",
            "  warnings.warn(msg, category=FutureWarning)\n",
            "/usr/local/lib/python3.6/dist-packages/sklearn/utils/deprecation.py:87: FutureWarning: Function safe_indexing is deprecated; safe_indexing is deprecated in version 0.22 and will be removed in version 0.24.\n",
            "  warnings.warn(msg, category=FutureWarning)\n",
            "/usr/local/lib/python3.6/dist-packages/sklearn/utils/deprecation.py:87: FutureWarning: Function safe_indexing is deprecated; safe_indexing is deprecated in version 0.22 and will be removed in version 0.24.\n",
            "  warnings.warn(msg, category=FutureWarning)\n",
            "/usr/local/lib/python3.6/dist-packages/sklearn/utils/deprecation.py:87: FutureWarning: Function safe_indexing is deprecated; safe_indexing is deprecated in version 0.22 and will be removed in version 0.24.\n",
            "  warnings.warn(msg, category=FutureWarning)\n",
            "/usr/local/lib/python3.6/dist-packages/sklearn/utils/deprecation.py:87: FutureWarning: Function safe_indexing is deprecated; safe_indexing is deprecated in version 0.22 and will be removed in version 0.24.\n",
            "  warnings.warn(msg, category=FutureWarning)\n",
            "/usr/local/lib/python3.6/dist-packages/sklearn/utils/deprecation.py:87: FutureWarning: Function safe_indexing is deprecated; safe_indexing is deprecated in version 0.22 and will be removed in version 0.24.\n",
            "  warnings.warn(msg, category=FutureWarning)\n",
            "/usr/local/lib/python3.6/dist-packages/sklearn/utils/deprecation.py:87: FutureWarning: Function safe_indexing is deprecated; safe_indexing is deprecated in version 0.22 and will be removed in version 0.24.\n",
            "  warnings.warn(msg, category=FutureWarning)\n",
            "/usr/local/lib/python3.6/dist-packages/sklearn/utils/deprecation.py:87: FutureWarning: Function safe_indexing is deprecated; safe_indexing is deprecated in version 0.22 and will be removed in version 0.24.\n",
            "  warnings.warn(msg, category=FutureWarning)\n",
            "/usr/local/lib/python3.6/dist-packages/sklearn/utils/deprecation.py:87: FutureWarning: Function safe_indexing is deprecated; safe_indexing is deprecated in version 0.22 and will be removed in version 0.24.\n",
            "  warnings.warn(msg, category=FutureWarning)\n",
            "/usr/local/lib/python3.6/dist-packages/sklearn/utils/deprecation.py:87: FutureWarning: Function safe_indexing is deprecated; safe_indexing is deprecated in version 0.22 and will be removed in version 0.24.\n",
            "  warnings.warn(msg, category=FutureWarning)\n",
            "/usr/local/lib/python3.6/dist-packages/sklearn/utils/deprecation.py:87: FutureWarning: Function safe_indexing is deprecated; safe_indexing is deprecated in version 0.22 and will be removed in version 0.24.\n",
            "  warnings.warn(msg, category=FutureWarning)\n",
            "/usr/local/lib/python3.6/dist-packages/sklearn/utils/deprecation.py:87: FutureWarning: Function safe_indexing is deprecated; safe_indexing is deprecated in version 0.22 and will be removed in version 0.24.\n",
            "  warnings.warn(msg, category=FutureWarning)\n",
            "/usr/local/lib/python3.6/dist-packages/sklearn/utils/deprecation.py:87: FutureWarning: Function safe_indexing is deprecated; safe_indexing is deprecated in version 0.22 and will be removed in version 0.24.\n",
            "  warnings.warn(msg, category=FutureWarning)\n",
            "/usr/local/lib/python3.6/dist-packages/sklearn/utils/deprecation.py:87: FutureWarning: Function safe_indexing is deprecated; safe_indexing is deprecated in version 0.22 and will be removed in version 0.24.\n",
            "  warnings.warn(msg, category=FutureWarning)\n",
            "/usr/local/lib/python3.6/dist-packages/sklearn/utils/deprecation.py:87: FutureWarning: Function safe_indexing is deprecated; safe_indexing is deprecated in version 0.22 and will be removed in version 0.24.\n",
            "  warnings.warn(msg, category=FutureWarning)\n",
            "/usr/local/lib/python3.6/dist-packages/sklearn/utils/deprecation.py:87: FutureWarning: Function safe_indexing is deprecated; safe_indexing is deprecated in version 0.22 and will be removed in version 0.24.\n",
            "  warnings.warn(msg, category=FutureWarning)\n",
            "/usr/local/lib/python3.6/dist-packages/sklearn/utils/deprecation.py:87: FutureWarning: Function safe_indexing is deprecated; safe_indexing is deprecated in version 0.22 and will be removed in version 0.24.\n",
            "  warnings.warn(msg, category=FutureWarning)\n",
            "/usr/local/lib/python3.6/dist-packages/sklearn/utils/deprecation.py:87: FutureWarning: Function safe_indexing is deprecated; safe_indexing is deprecated in version 0.22 and will be removed in version 0.24.\n",
            "  warnings.warn(msg, category=FutureWarning)\n",
            "/usr/local/lib/python3.6/dist-packages/sklearn/utils/deprecation.py:87: FutureWarning: Function safe_indexing is deprecated; safe_indexing is deprecated in version 0.22 and will be removed in version 0.24.\n",
            "  warnings.warn(msg, category=FutureWarning)\n",
            "/usr/local/lib/python3.6/dist-packages/sklearn/utils/deprecation.py:87: FutureWarning: Function safe_indexing is deprecated; safe_indexing is deprecated in version 0.22 and will be removed in version 0.24.\n",
            "  warnings.warn(msg, category=FutureWarning)\n",
            "/usr/local/lib/python3.6/dist-packages/sklearn/utils/deprecation.py:87: FutureWarning: Function safe_indexing is deprecated; safe_indexing is deprecated in version 0.22 and will be removed in version 0.24.\n",
            "  warnings.warn(msg, category=FutureWarning)\n",
            "/usr/local/lib/python3.6/dist-packages/sklearn/utils/deprecation.py:87: FutureWarning: Function safe_indexing is deprecated; safe_indexing is deprecated in version 0.22 and will be removed in version 0.24.\n",
            "  warnings.warn(msg, category=FutureWarning)\n",
            "/usr/local/lib/python3.6/dist-packages/sklearn/utils/deprecation.py:87: FutureWarning: Function safe_indexing is deprecated; safe_indexing is deprecated in version 0.22 and will be removed in version 0.24.\n",
            "  warnings.warn(msg, category=FutureWarning)\n",
            "/usr/local/lib/python3.6/dist-packages/sklearn/utils/deprecation.py:87: FutureWarning: Function safe_indexing is deprecated; safe_indexing is deprecated in version 0.22 and will be removed in version 0.24.\n",
            "  warnings.warn(msg, category=FutureWarning)\n",
            "/usr/local/lib/python3.6/dist-packages/sklearn/utils/deprecation.py:87: FutureWarning: Function safe_indexing is deprecated; safe_indexing is deprecated in version 0.22 and will be removed in version 0.24.\n",
            "  warnings.warn(msg, category=FutureWarning)\n",
            "/usr/local/lib/python3.6/dist-packages/sklearn/utils/deprecation.py:87: FutureWarning: Function safe_indexing is deprecated; safe_indexing is deprecated in version 0.22 and will be removed in version 0.24.\n",
            "  warnings.warn(msg, category=FutureWarning)\n",
            "/usr/local/lib/python3.6/dist-packages/sklearn/utils/deprecation.py:87: FutureWarning: Function safe_indexing is deprecated; safe_indexing is deprecated in version 0.22 and will be removed in version 0.24.\n",
            "  warnings.warn(msg, category=FutureWarning)\n",
            "/usr/local/lib/python3.6/dist-packages/sklearn/utils/deprecation.py:87: FutureWarning: Function safe_indexing is deprecated; safe_indexing is deprecated in version 0.22 and will be removed in version 0.24.\n",
            "  warnings.warn(msg, category=FutureWarning)\n",
            "/usr/local/lib/python3.6/dist-packages/sklearn/utils/deprecation.py:87: FutureWarning: Function safe_indexing is deprecated; safe_indexing is deprecated in version 0.22 and will be removed in version 0.24.\n",
            "  warnings.warn(msg, category=FutureWarning)\n",
            "/usr/local/lib/python3.6/dist-packages/sklearn/utils/deprecation.py:87: FutureWarning: Function safe_indexing is deprecated; safe_indexing is deprecated in version 0.22 and will be removed in version 0.24.\n",
            "  warnings.warn(msg, category=FutureWarning)\n",
            "/usr/local/lib/python3.6/dist-packages/sklearn/utils/deprecation.py:87: FutureWarning: Function safe_indexing is deprecated; safe_indexing is deprecated in version 0.22 and will be removed in version 0.24.\n",
            "  warnings.warn(msg, category=FutureWarning)\n",
            "/usr/local/lib/python3.6/dist-packages/sklearn/utils/deprecation.py:87: FutureWarning: Function safe_indexing is deprecated; safe_indexing is deprecated in version 0.22 and will be removed in version 0.24.\n",
            "  warnings.warn(msg, category=FutureWarning)\n",
            "/usr/local/lib/python3.6/dist-packages/sklearn/utils/deprecation.py:87: FutureWarning: Function safe_indexing is deprecated; safe_indexing is deprecated in version 0.22 and will be removed in version 0.24.\n",
            "  warnings.warn(msg, category=FutureWarning)\n"
          ],
          "name": "stderr"
        }
      ]
    },
    {
      "cell_type": "code",
      "metadata": {
        "id": "xyzRBcq3LZ5x",
        "outputId": "36a984fd-e479-4703-abe6-650edb334480",
        "colab": {
          "base_uri": "https://localhost:8080/"
        }
      },
      "source": [
        "forest1 = LogisticRegression(random_state=1,max_iter=1000,C=10000)\n",
        "forest1.fit(X_train_res, Y_train_res)\n",
        "Y_pred = forest1.predict(list(X_test))\n",
        "Y_train_pred=forest1.predict(list(X_train))\n",
        "print('Accuracy (forest): %.5f' % accuracy_score(Y_train, Y_train_pred))\n",
        "print('Accuracy (forest): %.5f' % accuracy_score(Y_test, Y_pred))"
      ],
      "execution_count": 32,
      "outputs": [
        {
          "output_type": "stream",
          "text": [
            "/usr/local/lib/python3.6/dist-packages/sklearn/linear_model/_logistic.py:940: ConvergenceWarning: lbfgs failed to converge (status=1):\n",
            "STOP: TOTAL NO. of ITERATIONS REACHED LIMIT.\n",
            "\n",
            "Increase the number of iterations (max_iter) or scale the data as shown in:\n",
            "    https://scikit-learn.org/stable/modules/preprocessing.html\n",
            "Please also refer to the documentation for alternative solver options:\n",
            "    https://scikit-learn.org/stable/modules/linear_model.html#logistic-regression\n",
            "  extra_warning_msg=_LOGISTIC_SOLVER_CONVERGENCE_MSG)\n"
          ],
          "name": "stderr"
        },
        {
          "output_type": "stream",
          "text": [
            "Accuracy (forest): 0.99931\n",
            "Accuracy (forest): 0.67500\n"
          ],
          "name": "stdout"
        }
      ]
    },
    {
      "cell_type": "code",
      "metadata": {
        "id": "dtHq7slGLZ9A",
        "outputId": "f8891811-e765-4a80-f259-c8c825ff7191",
        "colab": {
          "base_uri": "https://localhost:8080/"
        }
      },
      "source": [
        "x_train, x_test, y_train, y_test = train_test_split(new_train, np.array(train[\"a08a02\"]), test_size=0.1, random_state=1,stratify=np.array(train[\"a08a01\"]),shuffle=True)\n",
        "sm = SMOTE(random_state=12,k_neighbors=5)\n",
        "x_train_res, y_train_res = sm.fit_sample(list(x_train), y_train)\n",
        "\n",
        "\n",
        "forest2 = LogisticRegression(random_state=0,max_iter=1000,C=10000)\n",
        "forest2.fit(x_train_res, y_train_res)\n",
        "y_pred = forest2.predict(list(x_test))\n",
        "y_train_pred=forest2.predict(list(x_train))\n",
        "print('Accuracy (forest): %.5f' % accuracy_score(y_train, y_train_pred))\n",
        "print('Accuracy (forest): %.5f' % accuracy_score(y_test, y_pred))"
      ],
      "execution_count": 33,
      "outputs": [
        {
          "output_type": "stream",
          "text": [
            "/usr/local/lib/python3.6/dist-packages/sklearn/utils/deprecation.py:87: FutureWarning: Function safe_indexing is deprecated; safe_indexing is deprecated in version 0.22 and will be removed in version 0.24.\n",
            "  warnings.warn(msg, category=FutureWarning)\n",
            "/usr/local/lib/python3.6/dist-packages/sklearn/utils/deprecation.py:87: FutureWarning: Function safe_indexing is deprecated; safe_indexing is deprecated in version 0.22 and will be removed in version 0.24.\n",
            "  warnings.warn(msg, category=FutureWarning)\n",
            "/usr/local/lib/python3.6/dist-packages/sklearn/utils/deprecation.py:87: FutureWarning: Function safe_indexing is deprecated; safe_indexing is deprecated in version 0.22 and will be removed in version 0.24.\n",
            "  warnings.warn(msg, category=FutureWarning)\n",
            "/usr/local/lib/python3.6/dist-packages/sklearn/utils/deprecation.py:87: FutureWarning: Function safe_indexing is deprecated; safe_indexing is deprecated in version 0.22 and will be removed in version 0.24.\n",
            "  warnings.warn(msg, category=FutureWarning)\n",
            "/usr/local/lib/python3.6/dist-packages/sklearn/utils/deprecation.py:87: FutureWarning: Function safe_indexing is deprecated; safe_indexing is deprecated in version 0.22 and will be removed in version 0.24.\n",
            "  warnings.warn(msg, category=FutureWarning)\n",
            "/usr/local/lib/python3.6/dist-packages/sklearn/utils/deprecation.py:87: FutureWarning: Function safe_indexing is deprecated; safe_indexing is deprecated in version 0.22 and will be removed in version 0.24.\n",
            "  warnings.warn(msg, category=FutureWarning)\n",
            "/usr/local/lib/python3.6/dist-packages/sklearn/utils/deprecation.py:87: FutureWarning: Function safe_indexing is deprecated; safe_indexing is deprecated in version 0.22 and will be removed in version 0.24.\n",
            "  warnings.warn(msg, category=FutureWarning)\n",
            "/usr/local/lib/python3.6/dist-packages/sklearn/utils/deprecation.py:87: FutureWarning: Function safe_indexing is deprecated; safe_indexing is deprecated in version 0.22 and will be removed in version 0.24.\n",
            "  warnings.warn(msg, category=FutureWarning)\n",
            "/usr/local/lib/python3.6/dist-packages/sklearn/utils/deprecation.py:87: FutureWarning: Function safe_indexing is deprecated; safe_indexing is deprecated in version 0.22 and will be removed in version 0.24.\n",
            "  warnings.warn(msg, category=FutureWarning)\n",
            "/usr/local/lib/python3.6/dist-packages/sklearn/utils/deprecation.py:87: FutureWarning: Function safe_indexing is deprecated; safe_indexing is deprecated in version 0.22 and will be removed in version 0.24.\n",
            "  warnings.warn(msg, category=FutureWarning)\n",
            "/usr/local/lib/python3.6/dist-packages/sklearn/utils/deprecation.py:87: FutureWarning: Function safe_indexing is deprecated; safe_indexing is deprecated in version 0.22 and will be removed in version 0.24.\n",
            "  warnings.warn(msg, category=FutureWarning)\n",
            "/usr/local/lib/python3.6/dist-packages/sklearn/utils/deprecation.py:87: FutureWarning: Function safe_indexing is deprecated; safe_indexing is deprecated in version 0.22 and will be removed in version 0.24.\n",
            "  warnings.warn(msg, category=FutureWarning)\n",
            "/usr/local/lib/python3.6/dist-packages/sklearn/utils/deprecation.py:87: FutureWarning: Function safe_indexing is deprecated; safe_indexing is deprecated in version 0.22 and will be removed in version 0.24.\n",
            "  warnings.warn(msg, category=FutureWarning)\n",
            "/usr/local/lib/python3.6/dist-packages/sklearn/utils/deprecation.py:87: FutureWarning: Function safe_indexing is deprecated; safe_indexing is deprecated in version 0.22 and will be removed in version 0.24.\n",
            "  warnings.warn(msg, category=FutureWarning)\n",
            "/usr/local/lib/python3.6/dist-packages/sklearn/utils/deprecation.py:87: FutureWarning: Function safe_indexing is deprecated; safe_indexing is deprecated in version 0.22 and will be removed in version 0.24.\n",
            "  warnings.warn(msg, category=FutureWarning)\n",
            "/usr/local/lib/python3.6/dist-packages/sklearn/utils/deprecation.py:87: FutureWarning: Function safe_indexing is deprecated; safe_indexing is deprecated in version 0.22 and will be removed in version 0.24.\n",
            "  warnings.warn(msg, category=FutureWarning)\n",
            "/usr/local/lib/python3.6/dist-packages/sklearn/utils/deprecation.py:87: FutureWarning: Function safe_indexing is deprecated; safe_indexing is deprecated in version 0.22 and will be removed in version 0.24.\n",
            "  warnings.warn(msg, category=FutureWarning)\n",
            "/usr/local/lib/python3.6/dist-packages/sklearn/utils/deprecation.py:87: FutureWarning: Function safe_indexing is deprecated; safe_indexing is deprecated in version 0.22 and will be removed in version 0.24.\n",
            "  warnings.warn(msg, category=FutureWarning)\n",
            "/usr/local/lib/python3.6/dist-packages/sklearn/utils/deprecation.py:87: FutureWarning: Function safe_indexing is deprecated; safe_indexing is deprecated in version 0.22 and will be removed in version 0.24.\n",
            "  warnings.warn(msg, category=FutureWarning)\n",
            "/usr/local/lib/python3.6/dist-packages/sklearn/utils/deprecation.py:87: FutureWarning: Function safe_indexing is deprecated; safe_indexing is deprecated in version 0.22 and will be removed in version 0.24.\n",
            "  warnings.warn(msg, category=FutureWarning)\n",
            "/usr/local/lib/python3.6/dist-packages/sklearn/utils/deprecation.py:87: FutureWarning: Function safe_indexing is deprecated; safe_indexing is deprecated in version 0.22 and will be removed in version 0.24.\n",
            "  warnings.warn(msg, category=FutureWarning)\n",
            "/usr/local/lib/python3.6/dist-packages/sklearn/utils/deprecation.py:87: FutureWarning: Function safe_indexing is deprecated; safe_indexing is deprecated in version 0.22 and will be removed in version 0.24.\n",
            "  warnings.warn(msg, category=FutureWarning)\n",
            "/usr/local/lib/python3.6/dist-packages/sklearn/utils/deprecation.py:87: FutureWarning: Function safe_indexing is deprecated; safe_indexing is deprecated in version 0.22 and will be removed in version 0.24.\n",
            "  warnings.warn(msg, category=FutureWarning)\n",
            "/usr/local/lib/python3.6/dist-packages/sklearn/utils/deprecation.py:87: FutureWarning: Function safe_indexing is deprecated; safe_indexing is deprecated in version 0.22 and will be removed in version 0.24.\n",
            "  warnings.warn(msg, category=FutureWarning)\n",
            "/usr/local/lib/python3.6/dist-packages/sklearn/utils/deprecation.py:87: FutureWarning: Function safe_indexing is deprecated; safe_indexing is deprecated in version 0.22 and will be removed in version 0.24.\n",
            "  warnings.warn(msg, category=FutureWarning)\n",
            "/usr/local/lib/python3.6/dist-packages/sklearn/utils/deprecation.py:87: FutureWarning: Function safe_indexing is deprecated; safe_indexing is deprecated in version 0.22 and will be removed in version 0.24.\n",
            "  warnings.warn(msg, category=FutureWarning)\n",
            "/usr/local/lib/python3.6/dist-packages/sklearn/utils/deprecation.py:87: FutureWarning: Function safe_indexing is deprecated; safe_indexing is deprecated in version 0.22 and will be removed in version 0.24.\n",
            "  warnings.warn(msg, category=FutureWarning)\n",
            "/usr/local/lib/python3.6/dist-packages/sklearn/utils/deprecation.py:87: FutureWarning: Function safe_indexing is deprecated; safe_indexing is deprecated in version 0.22 and will be removed in version 0.24.\n",
            "  warnings.warn(msg, category=FutureWarning)\n",
            "/usr/local/lib/python3.6/dist-packages/sklearn/utils/deprecation.py:87: FutureWarning: Function safe_indexing is deprecated; safe_indexing is deprecated in version 0.22 and will be removed in version 0.24.\n",
            "  warnings.warn(msg, category=FutureWarning)\n",
            "/usr/local/lib/python3.6/dist-packages/sklearn/utils/deprecation.py:87: FutureWarning: Function safe_indexing is deprecated; safe_indexing is deprecated in version 0.22 and will be removed in version 0.24.\n",
            "  warnings.warn(msg, category=FutureWarning)\n",
            "/usr/local/lib/python3.6/dist-packages/sklearn/utils/deprecation.py:87: FutureWarning: Function safe_indexing is deprecated; safe_indexing is deprecated in version 0.22 and will be removed in version 0.24.\n",
            "  warnings.warn(msg, category=FutureWarning)\n",
            "/usr/local/lib/python3.6/dist-packages/sklearn/utils/deprecation.py:87: FutureWarning: Function safe_indexing is deprecated; safe_indexing is deprecated in version 0.22 and will be removed in version 0.24.\n",
            "  warnings.warn(msg, category=FutureWarning)\n",
            "/usr/local/lib/python3.6/dist-packages/sklearn/utils/deprecation.py:87: FutureWarning: Function safe_indexing is deprecated; safe_indexing is deprecated in version 0.22 and will be removed in version 0.24.\n",
            "  warnings.warn(msg, category=FutureWarning)\n",
            "/usr/local/lib/python3.6/dist-packages/sklearn/utils/deprecation.py:87: FutureWarning: Function safe_indexing is deprecated; safe_indexing is deprecated in version 0.22 and will be removed in version 0.24.\n",
            "  warnings.warn(msg, category=FutureWarning)\n",
            "/usr/local/lib/python3.6/dist-packages/sklearn/utils/deprecation.py:87: FutureWarning: Function safe_indexing is deprecated; safe_indexing is deprecated in version 0.22 and will be removed in version 0.24.\n",
            "  warnings.warn(msg, category=FutureWarning)\n",
            "/usr/local/lib/python3.6/dist-packages/sklearn/utils/deprecation.py:87: FutureWarning: Function safe_indexing is deprecated; safe_indexing is deprecated in version 0.22 and will be removed in version 0.24.\n",
            "  warnings.warn(msg, category=FutureWarning)\n",
            "/usr/local/lib/python3.6/dist-packages/sklearn/utils/deprecation.py:87: FutureWarning: Function safe_indexing is deprecated; safe_indexing is deprecated in version 0.22 and will be removed in version 0.24.\n",
            "  warnings.warn(msg, category=FutureWarning)\n",
            "/usr/local/lib/python3.6/dist-packages/sklearn/utils/deprecation.py:87: FutureWarning: Function safe_indexing is deprecated; safe_indexing is deprecated in version 0.22 and will be removed in version 0.24.\n",
            "  warnings.warn(msg, category=FutureWarning)\n",
            "/usr/local/lib/python3.6/dist-packages/sklearn/utils/deprecation.py:87: FutureWarning: Function safe_indexing is deprecated; safe_indexing is deprecated in version 0.22 and will be removed in version 0.24.\n",
            "  warnings.warn(msg, category=FutureWarning)\n",
            "/usr/local/lib/python3.6/dist-packages/sklearn/utils/deprecation.py:87: FutureWarning: Function safe_indexing is deprecated; safe_indexing is deprecated in version 0.22 and will be removed in version 0.24.\n",
            "  warnings.warn(msg, category=FutureWarning)\n",
            "/usr/local/lib/python3.6/dist-packages/sklearn/utils/deprecation.py:87: FutureWarning: Function safe_indexing is deprecated; safe_indexing is deprecated in version 0.22 and will be removed in version 0.24.\n",
            "  warnings.warn(msg, category=FutureWarning)\n",
            "/usr/local/lib/python3.6/dist-packages/sklearn/utils/deprecation.py:87: FutureWarning: Function safe_indexing is deprecated; safe_indexing is deprecated in version 0.22 and will be removed in version 0.24.\n",
            "  warnings.warn(msg, category=FutureWarning)\n",
            "/usr/local/lib/python3.6/dist-packages/sklearn/utils/deprecation.py:87: FutureWarning: Function safe_indexing is deprecated; safe_indexing is deprecated in version 0.22 and will be removed in version 0.24.\n",
            "  warnings.warn(msg, category=FutureWarning)\n",
            "/usr/local/lib/python3.6/dist-packages/sklearn/utils/deprecation.py:87: FutureWarning: Function safe_indexing is deprecated; safe_indexing is deprecated in version 0.22 and will be removed in version 0.24.\n",
            "  warnings.warn(msg, category=FutureWarning)\n",
            "/usr/local/lib/python3.6/dist-packages/sklearn/utils/deprecation.py:87: FutureWarning: Function safe_indexing is deprecated; safe_indexing is deprecated in version 0.22 and will be removed in version 0.24.\n",
            "  warnings.warn(msg, category=FutureWarning)\n",
            "/usr/local/lib/python3.6/dist-packages/sklearn/utils/deprecation.py:87: FutureWarning: Function safe_indexing is deprecated; safe_indexing is deprecated in version 0.22 and will be removed in version 0.24.\n",
            "  warnings.warn(msg, category=FutureWarning)\n",
            "/usr/local/lib/python3.6/dist-packages/sklearn/utils/deprecation.py:87: FutureWarning: Function safe_indexing is deprecated; safe_indexing is deprecated in version 0.22 and will be removed in version 0.24.\n",
            "  warnings.warn(msg, category=FutureWarning)\n",
            "/usr/local/lib/python3.6/dist-packages/sklearn/utils/deprecation.py:87: FutureWarning: Function safe_indexing is deprecated; safe_indexing is deprecated in version 0.22 and will be removed in version 0.24.\n",
            "  warnings.warn(msg, category=FutureWarning)\n",
            "/usr/local/lib/python3.6/dist-packages/sklearn/utils/deprecation.py:87: FutureWarning: Function safe_indexing is deprecated; safe_indexing is deprecated in version 0.22 and will be removed in version 0.24.\n",
            "  warnings.warn(msg, category=FutureWarning)\n",
            "/usr/local/lib/python3.6/dist-packages/sklearn/utils/deprecation.py:87: FutureWarning: Function safe_indexing is deprecated; safe_indexing is deprecated in version 0.22 and will be removed in version 0.24.\n",
            "  warnings.warn(msg, category=FutureWarning)\n",
            "/usr/local/lib/python3.6/dist-packages/sklearn/utils/deprecation.py:87: FutureWarning: Function safe_indexing is deprecated; safe_indexing is deprecated in version 0.22 and will be removed in version 0.24.\n",
            "  warnings.warn(msg, category=FutureWarning)\n",
            "/usr/local/lib/python3.6/dist-packages/sklearn/utils/deprecation.py:87: FutureWarning: Function safe_indexing is deprecated; safe_indexing is deprecated in version 0.22 and will be removed in version 0.24.\n",
            "  warnings.warn(msg, category=FutureWarning)\n",
            "/usr/local/lib/python3.6/dist-packages/sklearn/utils/deprecation.py:87: FutureWarning: Function safe_indexing is deprecated; safe_indexing is deprecated in version 0.22 and will be removed in version 0.24.\n",
            "  warnings.warn(msg, category=FutureWarning)\n",
            "/usr/local/lib/python3.6/dist-packages/sklearn/utils/deprecation.py:87: FutureWarning: Function safe_indexing is deprecated; safe_indexing is deprecated in version 0.22 and will be removed in version 0.24.\n",
            "  warnings.warn(msg, category=FutureWarning)\n",
            "/usr/local/lib/python3.6/dist-packages/sklearn/utils/deprecation.py:87: FutureWarning: Function safe_indexing is deprecated; safe_indexing is deprecated in version 0.22 and will be removed in version 0.24.\n",
            "  warnings.warn(msg, category=FutureWarning)\n",
            "/usr/local/lib/python3.6/dist-packages/sklearn/utils/deprecation.py:87: FutureWarning: Function safe_indexing is deprecated; safe_indexing is deprecated in version 0.22 and will be removed in version 0.24.\n",
            "  warnings.warn(msg, category=FutureWarning)\n",
            "/usr/local/lib/python3.6/dist-packages/sklearn/utils/deprecation.py:87: FutureWarning: Function safe_indexing is deprecated; safe_indexing is deprecated in version 0.22 and will be removed in version 0.24.\n",
            "  warnings.warn(msg, category=FutureWarning)\n",
            "/usr/local/lib/python3.6/dist-packages/sklearn/utils/deprecation.py:87: FutureWarning: Function safe_indexing is deprecated; safe_indexing is deprecated in version 0.22 and will be removed in version 0.24.\n",
            "  warnings.warn(msg, category=FutureWarning)\n",
            "/usr/local/lib/python3.6/dist-packages/sklearn/utils/deprecation.py:87: FutureWarning: Function safe_indexing is deprecated; safe_indexing is deprecated in version 0.22 and will be removed in version 0.24.\n",
            "  warnings.warn(msg, category=FutureWarning)\n",
            "/usr/local/lib/python3.6/dist-packages/sklearn/utils/deprecation.py:87: FutureWarning: Function safe_indexing is deprecated; safe_indexing is deprecated in version 0.22 and will be removed in version 0.24.\n",
            "  warnings.warn(msg, category=FutureWarning)\n",
            "/usr/local/lib/python3.6/dist-packages/sklearn/utils/deprecation.py:87: FutureWarning: Function safe_indexing is deprecated; safe_indexing is deprecated in version 0.22 and will be removed in version 0.24.\n",
            "  warnings.warn(msg, category=FutureWarning)\n",
            "/usr/local/lib/python3.6/dist-packages/sklearn/utils/deprecation.py:87: FutureWarning: Function safe_indexing is deprecated; safe_indexing is deprecated in version 0.22 and will be removed in version 0.24.\n",
            "  warnings.warn(msg, category=FutureWarning)\n",
            "/usr/local/lib/python3.6/dist-packages/sklearn/utils/deprecation.py:87: FutureWarning: Function safe_indexing is deprecated; safe_indexing is deprecated in version 0.22 and will be removed in version 0.24.\n",
            "  warnings.warn(msg, category=FutureWarning)\n",
            "/usr/local/lib/python3.6/dist-packages/sklearn/utils/deprecation.py:87: FutureWarning: Function safe_indexing is deprecated; safe_indexing is deprecated in version 0.22 and will be removed in version 0.24.\n",
            "  warnings.warn(msg, category=FutureWarning)\n",
            "/usr/local/lib/python3.6/dist-packages/sklearn/utils/deprecation.py:87: FutureWarning: Function safe_indexing is deprecated; safe_indexing is deprecated in version 0.22 and will be removed in version 0.24.\n",
            "  warnings.warn(msg, category=FutureWarning)\n",
            "/usr/local/lib/python3.6/dist-packages/sklearn/utils/deprecation.py:87: FutureWarning: Function safe_indexing is deprecated; safe_indexing is deprecated in version 0.22 and will be removed in version 0.24.\n",
            "  warnings.warn(msg, category=FutureWarning)\n",
            "/usr/local/lib/python3.6/dist-packages/sklearn/utils/deprecation.py:87: FutureWarning: Function safe_indexing is deprecated; safe_indexing is deprecated in version 0.22 and will be removed in version 0.24.\n",
            "  warnings.warn(msg, category=FutureWarning)\n",
            "/usr/local/lib/python3.6/dist-packages/sklearn/utils/deprecation.py:87: FutureWarning: Function safe_indexing is deprecated; safe_indexing is deprecated in version 0.22 and will be removed in version 0.24.\n",
            "  warnings.warn(msg, category=FutureWarning)\n",
            "/usr/local/lib/python3.6/dist-packages/sklearn/utils/deprecation.py:87: FutureWarning: Function safe_indexing is deprecated; safe_indexing is deprecated in version 0.22 and will be removed in version 0.24.\n",
            "  warnings.warn(msg, category=FutureWarning)\n",
            "/usr/local/lib/python3.6/dist-packages/sklearn/utils/deprecation.py:87: FutureWarning: Function safe_indexing is deprecated; safe_indexing is deprecated in version 0.22 and will be removed in version 0.24.\n",
            "  warnings.warn(msg, category=FutureWarning)\n",
            "/usr/local/lib/python3.6/dist-packages/sklearn/utils/deprecation.py:87: FutureWarning: Function safe_indexing is deprecated; safe_indexing is deprecated in version 0.22 and will be removed in version 0.24.\n",
            "  warnings.warn(msg, category=FutureWarning)\n",
            "/usr/local/lib/python3.6/dist-packages/sklearn/utils/deprecation.py:87: FutureWarning: Function safe_indexing is deprecated; safe_indexing is deprecated in version 0.22 and will be removed in version 0.24.\n",
            "  warnings.warn(msg, category=FutureWarning)\n",
            "/usr/local/lib/python3.6/dist-packages/sklearn/utils/deprecation.py:87: FutureWarning: Function safe_indexing is deprecated; safe_indexing is deprecated in version 0.22 and will be removed in version 0.24.\n",
            "  warnings.warn(msg, category=FutureWarning)\n",
            "/usr/local/lib/python3.6/dist-packages/sklearn/utils/deprecation.py:87: FutureWarning: Function safe_indexing is deprecated; safe_indexing is deprecated in version 0.22 and will be removed in version 0.24.\n",
            "  warnings.warn(msg, category=FutureWarning)\n",
            "/usr/local/lib/python3.6/dist-packages/sklearn/utils/deprecation.py:87: FutureWarning: Function safe_indexing is deprecated; safe_indexing is deprecated in version 0.22 and will be removed in version 0.24.\n",
            "  warnings.warn(msg, category=FutureWarning)\n",
            "/usr/local/lib/python3.6/dist-packages/sklearn/utils/deprecation.py:87: FutureWarning: Function safe_indexing is deprecated; safe_indexing is deprecated in version 0.22 and will be removed in version 0.24.\n",
            "  warnings.warn(msg, category=FutureWarning)\n",
            "/usr/local/lib/python3.6/dist-packages/sklearn/utils/deprecation.py:87: FutureWarning: Function safe_indexing is deprecated; safe_indexing is deprecated in version 0.22 and will be removed in version 0.24.\n",
            "  warnings.warn(msg, category=FutureWarning)\n",
            "/usr/local/lib/python3.6/dist-packages/sklearn/utils/deprecation.py:87: FutureWarning: Function safe_indexing is deprecated; safe_indexing is deprecated in version 0.22 and will be removed in version 0.24.\n",
            "  warnings.warn(msg, category=FutureWarning)\n",
            "/usr/local/lib/python3.6/dist-packages/sklearn/utils/deprecation.py:87: FutureWarning: Function safe_indexing is deprecated; safe_indexing is deprecated in version 0.22 and will be removed in version 0.24.\n",
            "  warnings.warn(msg, category=FutureWarning)\n",
            "/usr/local/lib/python3.6/dist-packages/sklearn/utils/deprecation.py:87: FutureWarning: Function safe_indexing is deprecated; safe_indexing is deprecated in version 0.22 and will be removed in version 0.24.\n",
            "  warnings.warn(msg, category=FutureWarning)\n",
            "/usr/local/lib/python3.6/dist-packages/sklearn/utils/deprecation.py:87: FutureWarning: Function safe_indexing is deprecated; safe_indexing is deprecated in version 0.22 and will be removed in version 0.24.\n",
            "  warnings.warn(msg, category=FutureWarning)\n",
            "/usr/local/lib/python3.6/dist-packages/sklearn/utils/deprecation.py:87: FutureWarning: Function safe_indexing is deprecated; safe_indexing is deprecated in version 0.22 and will be removed in version 0.24.\n",
            "  warnings.warn(msg, category=FutureWarning)\n",
            "/usr/local/lib/python3.6/dist-packages/sklearn/utils/deprecation.py:87: FutureWarning: Function safe_indexing is deprecated; safe_indexing is deprecated in version 0.22 and will be removed in version 0.24.\n",
            "  warnings.warn(msg, category=FutureWarning)\n",
            "/usr/local/lib/python3.6/dist-packages/sklearn/utils/deprecation.py:87: FutureWarning: Function safe_indexing is deprecated; safe_indexing is deprecated in version 0.22 and will be removed in version 0.24.\n",
            "  warnings.warn(msg, category=FutureWarning)\n",
            "/usr/local/lib/python3.6/dist-packages/sklearn/utils/deprecation.py:87: FutureWarning: Function safe_indexing is deprecated; safe_indexing is deprecated in version 0.22 and will be removed in version 0.24.\n",
            "  warnings.warn(msg, category=FutureWarning)\n",
            "/usr/local/lib/python3.6/dist-packages/sklearn/utils/deprecation.py:87: FutureWarning: Function safe_indexing is deprecated; safe_indexing is deprecated in version 0.22 and will be removed in version 0.24.\n",
            "  warnings.warn(msg, category=FutureWarning)\n",
            "/usr/local/lib/python3.6/dist-packages/sklearn/utils/deprecation.py:87: FutureWarning: Function safe_indexing is deprecated; safe_indexing is deprecated in version 0.22 and will be removed in version 0.24.\n",
            "  warnings.warn(msg, category=FutureWarning)\n",
            "/usr/local/lib/python3.6/dist-packages/sklearn/utils/deprecation.py:87: FutureWarning: Function safe_indexing is deprecated; safe_indexing is deprecated in version 0.22 and will be removed in version 0.24.\n",
            "  warnings.warn(msg, category=FutureWarning)\n",
            "/usr/local/lib/python3.6/dist-packages/sklearn/utils/deprecation.py:87: FutureWarning: Function safe_indexing is deprecated; safe_indexing is deprecated in version 0.22 and will be removed in version 0.24.\n",
            "  warnings.warn(msg, category=FutureWarning)\n",
            "/usr/local/lib/python3.6/dist-packages/sklearn/utils/deprecation.py:87: FutureWarning: Function safe_indexing is deprecated; safe_indexing is deprecated in version 0.22 and will be removed in version 0.24.\n",
            "  warnings.warn(msg, category=FutureWarning)\n",
            "/usr/local/lib/python3.6/dist-packages/sklearn/utils/deprecation.py:87: FutureWarning: Function safe_indexing is deprecated; safe_indexing is deprecated in version 0.22 and will be removed in version 0.24.\n",
            "  warnings.warn(msg, category=FutureWarning)\n",
            "/usr/local/lib/python3.6/dist-packages/sklearn/utils/deprecation.py:87: FutureWarning: Function safe_indexing is deprecated; safe_indexing is deprecated in version 0.22 and will be removed in version 0.24.\n",
            "  warnings.warn(msg, category=FutureWarning)\n",
            "/usr/local/lib/python3.6/dist-packages/sklearn/utils/deprecation.py:87: FutureWarning: Function safe_indexing is deprecated; safe_indexing is deprecated in version 0.22 and will be removed in version 0.24.\n",
            "  warnings.warn(msg, category=FutureWarning)\n",
            "/usr/local/lib/python3.6/dist-packages/sklearn/utils/deprecation.py:87: FutureWarning: Function safe_indexing is deprecated; safe_indexing is deprecated in version 0.22 and will be removed in version 0.24.\n",
            "  warnings.warn(msg, category=FutureWarning)\n",
            "/usr/local/lib/python3.6/dist-packages/sklearn/utils/deprecation.py:87: FutureWarning: Function safe_indexing is deprecated; safe_indexing is deprecated in version 0.22 and will be removed in version 0.24.\n",
            "  warnings.warn(msg, category=FutureWarning)\n",
            "/usr/local/lib/python3.6/dist-packages/sklearn/utils/deprecation.py:87: FutureWarning: Function safe_indexing is deprecated; safe_indexing is deprecated in version 0.22 and will be removed in version 0.24.\n",
            "  warnings.warn(msg, category=FutureWarning)\n",
            "/usr/local/lib/python3.6/dist-packages/sklearn/utils/deprecation.py:87: FutureWarning: Function safe_indexing is deprecated; safe_indexing is deprecated in version 0.22 and will be removed in version 0.24.\n",
            "  warnings.warn(msg, category=FutureWarning)\n",
            "/usr/local/lib/python3.6/dist-packages/sklearn/utils/deprecation.py:87: FutureWarning: Function safe_indexing is deprecated; safe_indexing is deprecated in version 0.22 and will be removed in version 0.24.\n",
            "  warnings.warn(msg, category=FutureWarning)\n",
            "/usr/local/lib/python3.6/dist-packages/sklearn/utils/deprecation.py:87: FutureWarning: Function safe_indexing is deprecated; safe_indexing is deprecated in version 0.22 and will be removed in version 0.24.\n",
            "  warnings.warn(msg, category=FutureWarning)\n",
            "/usr/local/lib/python3.6/dist-packages/sklearn/utils/deprecation.py:87: FutureWarning: Function safe_indexing is deprecated; safe_indexing is deprecated in version 0.22 and will be removed in version 0.24.\n",
            "  warnings.warn(msg, category=FutureWarning)\n",
            "/usr/local/lib/python3.6/dist-packages/sklearn/utils/deprecation.py:87: FutureWarning: Function safe_indexing is deprecated; safe_indexing is deprecated in version 0.22 and will be removed in version 0.24.\n",
            "  warnings.warn(msg, category=FutureWarning)\n",
            "/usr/local/lib/python3.6/dist-packages/sklearn/utils/deprecation.py:87: FutureWarning: Function safe_indexing is deprecated; safe_indexing is deprecated in version 0.22 and will be removed in version 0.24.\n",
            "  warnings.warn(msg, category=FutureWarning)\n",
            "/usr/local/lib/python3.6/dist-packages/sklearn/utils/deprecation.py:87: FutureWarning: Function safe_indexing is deprecated; safe_indexing is deprecated in version 0.22 and will be removed in version 0.24.\n",
            "  warnings.warn(msg, category=FutureWarning)\n",
            "/usr/local/lib/python3.6/dist-packages/sklearn/utils/deprecation.py:87: FutureWarning: Function safe_indexing is deprecated; safe_indexing is deprecated in version 0.22 and will be removed in version 0.24.\n",
            "  warnings.warn(msg, category=FutureWarning)\n",
            "/usr/local/lib/python3.6/dist-packages/sklearn/utils/deprecation.py:87: FutureWarning: Function safe_indexing is deprecated; safe_indexing is deprecated in version 0.22 and will be removed in version 0.24.\n",
            "  warnings.warn(msg, category=FutureWarning)\n",
            "/usr/local/lib/python3.6/dist-packages/sklearn/utils/deprecation.py:87: FutureWarning: Function safe_indexing is deprecated; safe_indexing is deprecated in version 0.22 and will be removed in version 0.24.\n",
            "  warnings.warn(msg, category=FutureWarning)\n",
            "/usr/local/lib/python3.6/dist-packages/sklearn/utils/deprecation.py:87: FutureWarning: Function safe_indexing is deprecated; safe_indexing is deprecated in version 0.22 and will be removed in version 0.24.\n",
            "  warnings.warn(msg, category=FutureWarning)\n",
            "/usr/local/lib/python3.6/dist-packages/sklearn/utils/deprecation.py:87: FutureWarning: Function safe_indexing is deprecated; safe_indexing is deprecated in version 0.22 and will be removed in version 0.24.\n",
            "  warnings.warn(msg, category=FutureWarning)\n",
            "/usr/local/lib/python3.6/dist-packages/sklearn/utils/deprecation.py:87: FutureWarning: Function safe_indexing is deprecated; safe_indexing is deprecated in version 0.22 and will be removed in version 0.24.\n",
            "  warnings.warn(msg, category=FutureWarning)\n",
            "/usr/local/lib/python3.6/dist-packages/sklearn/utils/deprecation.py:87: FutureWarning: Function safe_indexing is deprecated; safe_indexing is deprecated in version 0.22 and will be removed in version 0.24.\n",
            "  warnings.warn(msg, category=FutureWarning)\n",
            "/usr/local/lib/python3.6/dist-packages/sklearn/utils/deprecation.py:87: FutureWarning: Function safe_indexing is deprecated; safe_indexing is deprecated in version 0.22 and will be removed in version 0.24.\n",
            "  warnings.warn(msg, category=FutureWarning)\n",
            "/usr/local/lib/python3.6/dist-packages/sklearn/utils/deprecation.py:87: FutureWarning: Function safe_indexing is deprecated; safe_indexing is deprecated in version 0.22 and will be removed in version 0.24.\n",
            "  warnings.warn(msg, category=FutureWarning)\n",
            "/usr/local/lib/python3.6/dist-packages/sklearn/utils/deprecation.py:87: FutureWarning: Function safe_indexing is deprecated; safe_indexing is deprecated in version 0.22 and will be removed in version 0.24.\n",
            "  warnings.warn(msg, category=FutureWarning)\n",
            "/usr/local/lib/python3.6/dist-packages/sklearn/utils/deprecation.py:87: FutureWarning: Function safe_indexing is deprecated; safe_indexing is deprecated in version 0.22 and will be removed in version 0.24.\n",
            "  warnings.warn(msg, category=FutureWarning)\n",
            "/usr/local/lib/python3.6/dist-packages/sklearn/utils/deprecation.py:87: FutureWarning: Function safe_indexing is deprecated; safe_indexing is deprecated in version 0.22 and will be removed in version 0.24.\n",
            "  warnings.warn(msg, category=FutureWarning)\n",
            "/usr/local/lib/python3.6/dist-packages/sklearn/utils/deprecation.py:87: FutureWarning: Function safe_indexing is deprecated; safe_indexing is deprecated in version 0.22 and will be removed in version 0.24.\n",
            "  warnings.warn(msg, category=FutureWarning)\n",
            "/usr/local/lib/python3.6/dist-packages/sklearn/utils/deprecation.py:87: FutureWarning: Function safe_indexing is deprecated; safe_indexing is deprecated in version 0.22 and will be removed in version 0.24.\n",
            "  warnings.warn(msg, category=FutureWarning)\n",
            "/usr/local/lib/python3.6/dist-packages/sklearn/utils/deprecation.py:87: FutureWarning: Function safe_indexing is deprecated; safe_indexing is deprecated in version 0.22 and will be removed in version 0.24.\n",
            "  warnings.warn(msg, category=FutureWarning)\n",
            "/usr/local/lib/python3.6/dist-packages/sklearn/linear_model/_logistic.py:940: ConvergenceWarning: lbfgs failed to converge (status=1):\n",
            "STOP: TOTAL NO. of ITERATIONS REACHED LIMIT.\n",
            "\n",
            "Increase the number of iterations (max_iter) or scale the data as shown in:\n",
            "    https://scikit-learn.org/stable/modules/preprocessing.html\n",
            "Please also refer to the documentation for alternative solver options:\n",
            "    https://scikit-learn.org/stable/modules/linear_model.html#logistic-regression\n",
            "  extra_warning_msg=_LOGISTIC_SOLVER_CONVERGENCE_MSG)\n"
          ],
          "name": "stderr"
        },
        {
          "output_type": "stream",
          "text": [
            "Accuracy (forest): 0.99965\n",
            "Accuracy (forest): 0.63438\n"
          ],
          "name": "stdout"
        }
      ]
    },
    {
      "cell_type": "code",
      "metadata": {
        "id": "IDHGGO9YLaAx",
        "outputId": "b5d36eed-f245-488b-e81d-aa3cfd1fb6c9",
        "colab": {
          "base_uri": "https://localhost:8080/"
        }
      },
      "source": [
        "final_score=(0.67500+0.63438)/2\n",
        "print(\"My final score=%.5f\" %final_score)"
      ],
      "execution_count": 47,
      "outputs": [
        {
          "output_type": "stream",
          "text": [
            "My final score=0.65469\n"
          ],
          "name": "stdout"
        }
      ]
    },
    {
      "cell_type": "markdown",
      "metadata": {
        "id": "DzePWPhYqKC3"
      },
      "source": [
        "**It was not an easy problem;however,by trial and error,my final score in testing data is above simple baseline in the end.**"
      ]
    },
    {
      "cell_type": "markdown",
      "metadata": {
        "id": "Wec10nubpz69"
      },
      "source": [
        "\n",
        "<![simple baseline.png](data:image/png;base64,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)"
      ]
    },
    {
      "cell_type": "code",
      "metadata": {
        "id": "aoMfzZybo0pl"
      },
      "source": [
        ""
      ],
      "execution_count": 46,
      "outputs": []
    },
    {
      "cell_type": "code",
      "metadata": {
        "id": "QovM8C2qp1Yx"
      },
      "source": [
        ""
      ],
      "execution_count": null,
      "outputs": []
    }
  ]
}