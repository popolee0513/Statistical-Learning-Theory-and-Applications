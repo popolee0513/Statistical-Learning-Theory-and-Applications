{
  "nbformat": 4,
  "nbformat_minor": 0,
  "metadata": {
    "colab": {
      "name": "Statistical Learning-inclass-competition.ipynb",
      "provenance": [],
      "collapsed_sections": []
    },
    "kernelspec": {
      "name": "python3",
      "display_name": "Python 3"
    }
  },
  "cells": [
    {
      "cell_type": "code",
      "metadata": {
        "colab": {
          "base_uri": "https://localhost:8080/"
        },
        "id": "w_t2Hoqqn9b0",
        "outputId": "3cfcd6bb-ad56-49d7-c1e5-bb4e2eb9c98b"
      },
      "source": [
        "from google.colab import drive\n",
        "drive.mount('/content/drive')"
      ],
      "execution_count": 1,
      "outputs": [
        {
          "output_type": "stream",
          "text": [
            "Drive already mounted at /content/drive; to attempt to forcibly remount, call drive.mount(\"/content/drive\", force_remount=True).\n"
          ],
          "name": "stdout"
        }
      ]
    },
    {
      "cell_type": "code",
      "metadata": {
        "id": "JtWh1niZoVHh"
      },
      "source": [
        "import pandas as pd\n",
        "train=pd.read_excel(\"/content/drive/My Drive/train.xlsx\")\n",
        "test=pd.read_excel(\"/content/drive/My Drive/test.xlsx\")"
      ],
      "execution_count": 2,
      "outputs": []
    },
    {
      "cell_type": "code",
      "metadata": {
        "colab": {
          "base_uri": "https://localhost:8080/",
          "height": 202
        },
        "id": "qZ1ICQoBof68",
        "outputId": "117a2713-9cc0-466d-cf24-6f0c6cd28421"
      },
      "source": [
        "train.head()"
      ],
      "execution_count": 3,
      "outputs": [
        {
          "output_type": "execute_result",
          "data": {
            "text/html": [
              "<div>\n",
              "<style scoped>\n",
              "    .dataframe tbody tr th:only-of-type {\n",
              "        vertical-align: middle;\n",
              "    }\n",
              "\n",
              "    .dataframe tbody tr th {\n",
              "        vertical-align: top;\n",
              "    }\n",
              "\n",
              "    .dataframe thead th {\n",
              "        text-align: right;\n",
              "    }\n",
              "</style>\n",
              "<table border=\"1\" class=\"dataframe\">\n",
              "  <thead>\n",
              "    <tr style=\"text-align: right;\">\n",
              "      <th></th>\n",
              "      <th>x01</th>\n",
              "      <th>a08a01</th>\n",
              "      <th>a08a02</th>\n",
              "      <th>k_a08a_1</th>\n",
              "      <th>k_a08a_2</th>\n",
              "      <th>k_a08a_3</th>\n",
              "      <th>k_a08a_4</th>\n",
              "      <th>k_a08a_5</th>\n",
              "      <th>fix</th>\n",
              "    </tr>\n",
              "  </thead>\n",
              "  <tbody>\n",
              "    <tr>\n",
              "      <th>0</th>\n",
              "      <td>100202</td>\n",
              "      <td>47</td>\n",
              "      <td>4311</td>\n",
              "      <td>大潤發總公司</td>\n",
              "      <td>大賣場</td>\n",
              "      <td>會計部</td>\n",
              "      <td>會計</td>\n",
              "      <td>總計發票</td>\n",
              "      <td>0</td>\n",
              "    </tr>\n",
              "    <tr>\n",
              "      <th>1</th>\n",
              "      <td>100221</td>\n",
              "      <td>47</td>\n",
              "      <td>5140</td>\n",
              "      <td>台灣資生堂股份有限公司</td>\n",
              "      <td>化粧品販售</td>\n",
              "      <td>無</td>\n",
              "      <td>美容顧問</td>\n",
              "      <td>販售化粧品丶護膚</td>\n",
              "      <td>0</td>\n",
              "    </tr>\n",
              "    <tr>\n",
              "      <th>2</th>\n",
              "      <td>100401</td>\n",
              "      <td>26</td>\n",
              "      <td>7993</td>\n",
              "      <td>宏偉科技</td>\n",
              "      <td>Ic加工</td>\n",
              "      <td>品管</td>\n",
              "      <td>無</td>\n",
              "      <td>檢查完成品</td>\n",
              "      <td>0</td>\n",
              "    </tr>\n",
              "    <tr>\n",
              "      <th>3</th>\n",
              "      <td>100411</td>\n",
              "      <td>56</td>\n",
              "      <td>5296</td>\n",
              "      <td>台灣第一家塩酥雞</td>\n",
              "      <td>食物</td>\n",
              "      <td>無</td>\n",
              "      <td>無</td>\n",
              "      <td>炸料收錢</td>\n",
              "      <td>0</td>\n",
              "    </tr>\n",
              "    <tr>\n",
              "      <th>4</th>\n",
              "      <td>100421</td>\n",
              "      <td>47</td>\n",
              "      <td>5220</td>\n",
              "      <td>统一超商</td>\n",
              "      <td>零售日用品</td>\n",
              "      <td>無</td>\n",
              "      <td>店員</td>\n",
              "      <td>收銀排貨售貨</td>\n",
              "      <td>0</td>\n",
              "    </tr>\n",
              "  </tbody>\n",
              "</table>\n",
              "</div>"
            ],
            "text/plain": [
              "      x01  a08a01  a08a02     k_a08a_1  ... k_a08a_3 k_a08a_4  k_a08a_5 fix\n",
              "0  100202      47    4311       大潤發總公司  ...      會計部       會計      總計發票   0\n",
              "1  100221      47    5140  台灣資生堂股份有限公司  ...        無     美容顧問  販售化粧品丶護膚   0\n",
              "2  100401      26    7993         宏偉科技  ...       品管        無     檢查完成品   0\n",
              "3  100411      56    5296     台灣第一家塩酥雞  ...        無        無      炸料收錢   0\n",
              "4  100421      47    5220         统一超商  ...        無       店員    收銀排貨售貨   0\n",
              "\n",
              "[5 rows x 9 columns]"
            ]
          },
          "metadata": {
            "tags": []
          },
          "execution_count": 3
        }
      ]
    },
    {
      "cell_type": "code",
      "metadata": {
        "colab": {
          "base_uri": "https://localhost:8080/"
        },
        "id": "g_lYBQ4-oj1z",
        "outputId": "2bdbf55d-bd8a-4c1f-c7d3-773f66f1f523"
      },
      "source": [
        "#!pip install -U ckiptagger[tfgpu,gdown]\n",
        "from ckiptagger import data_utils\n",
        "data_utils.download_data_gdown(\"./\")"
      ],
      "execution_count": 4,
      "outputs": [
        {
          "output_type": "stream",
          "text": [
            "Downloading...\n",
            "From: https://drive.google.com/uc?id=1efHsY16pxK0lBD2gYCgCTnv1Swstq771\n",
            "To: /content/data.zip\n",
            "1.88GB [00:32, 58.0MB/s]\n"
          ],
          "name": "stderr"
        }
      ]
    },
    {
      "cell_type": "code",
      "metadata": {
        "id": "ElEQkQqzoxCM"
      },
      "source": [
        "from ckiptagger import WS, POS, NER\n",
        "pos = POS(\"./data\")\n",
        "ws = WS(\"./data\")"
      ],
      "execution_count": 5,
      "outputs": []
    },
    {
      "cell_type": "code",
      "metadata": {
        "id": "xdKsPu5Ypfh7"
      },
      "source": [
        "train=train.drop(\"fix\",axis=1)\n",
        "test=test.drop(\"fix\",axis=1)"
      ],
      "execution_count": 6,
      "outputs": []
    },
    {
      "cell_type": "code",
      "metadata": {
        "id": "a1ZrCX2wpim1"
      },
      "source": [
        "import re\n",
        "def remove_punctuation(line):\n",
        "    rule = re.compile(r\"[^0-9丶()a-zA-Z\\u4e00-\\u9fa5]\")\n",
        "    line = rule.sub('',line)\n",
        "    return line\n",
        "for i in [\"1\",\"2\",\"3\",\"4\",\"5\"]:\n",
        "    train[\"k_a08a_\"+i]=train[\"k_a08a_\"+i].replace(\"無\",\"\").apply(remove_punctuation)\n",
        "    train[\"k_a08a_\"+i]=train[\"k_a08a_\"+i].replace(\"不知道\",\"\").apply(remove_punctuation)\n",
        "    test[\"k_a08a_\"+i]=test[\"k_a08a_\"+i].replace(\"無\",\"\").apply(remove_punctuation)\n",
        "    test[\"k_a08a_\"+i]=test[\"k_a08a_\"+i].replace(\"不知道\",\"\").apply(remove_punctuation)\n",
        "train[\"k_a08a_4\"]=train[\"k_a08a_4\"].apply(lambda x:x.replace(\"闆\",\"板\"))\n",
        "test[\"k_a08a_4\"]=test[\"k_a08a_4\"].apply(lambda x:x.replace(\"闆\",\"板\"))\n",
        "train[\"k_a08a_3\"]=train[\"k_a08a_3\"].apply(lambda x:x.replace(\"部\",\"\")).apply(lambda x:x.replace(\"課\",\"\"))\n",
        "test[\"k_a08a_3\"]=test[\"k_a08a_3\"].apply(lambda x:x.replace(\"部\",\"\")).apply(lambda x:x.replace(\"課\",\"\"))"
      ],
      "execution_count": 7,
      "outputs": []
    },
    {
      "cell_type": "code",
      "metadata": {
        "id": "g42tGVLiprN1"
      },
      "source": [
        "\n",
        "train[\"k_a08a_1\"]=train[\"k_a08a_1\"].apply(lambda x:x.replace(\"股份有限公司\",\"\")).apply(lambda x:x.replace(\"有限公司\",\"\")).apply(lambda x:x.replace(\"總公司\",\"\")).apply(lambda x:x.replace(\"分公司\",\"\")).apply(lambda x:x.replace(\"股公司\",\"\"))\n",
        "test[\"k_a08a_1\"]=test[\"k_a08a_1\"].apply(lambda x:x.replace(\"股份有限公司\",\"\")).apply(lambda x:x.replace(\"有限公司\",\"\")).apply(lambda x:x.replace(\"總公司\",\"\")).apply(lambda x:x.replace(\"分公司\",\"\")).apply(lambda x:x.replace(\"股公司\",\"\"))\n",
        "\n",
        "train[\"k_a08a_1\"]=train[\"k_a08a_1\"].apply(lambda x:x.replace(\"公司\",\"\")).apply(lambda x:x.replace(\"企業社\",\"\")).apply(lambda x:x.replace(\"企業\",\"\"))\n",
        "test[\"k_a08a_1\"]=test[\"k_a08a_1\"].apply(lambda x:x.replace(\"公司\",\"\")).apply(lambda x:x.replace(\"企業社\",\"\")).apply(lambda x:x.replace(\"企業\",\"\"))\n",
        "\n"
      ],
      "execution_count": 8,
      "outputs": []
    },
    {
      "cell_type": "code",
      "metadata": {
        "id": "zBP0weUAqI1P"
      },
      "source": [
        "train[\"word cut1\"]=train[\"k_a08a_1\"].apply(lambda x:ws([x]))\n",
        "test[\"word cut1\"]=test[\"k_a08a_1\"].apply(lambda x:ws([x]))\n",
        "train[\"pos1\"]=train[\"word cut1\"].apply(lambda x:pos(x))\n",
        "test[\"pos1\"]=test[\"word cut1\"].apply(lambda x:pos(x))"
      ],
      "execution_count": 9,
      "outputs": []
    },
    {
      "cell_type": "code",
      "metadata": {
        "colab": {
          "base_uri": "https://localhost:8080/"
        },
        "id": "NcVtCcFwqPWE",
        "outputId": "dea64653-ba1e-4a96-d8d5-ec1a7faf3fc3"
      },
      "source": [
        "'''\n",
        "Here I used name entity recognition to acquire some unrelated entity types\n",
        "such as \n",
        "GPE:Countries, cities, states\n",
        "LOC:Non-GPE locations, mountain ranges, bodies of water\n",
        "ORDINAL:“first”, “second”\n",
        "MONEY:Monetary values, including unit\n",
        "'''\n",
        "drop_list=['蘇伊士',\n",
        " '台北',\n",
        " '台中市',\n",
        " '十元',\n",
        " '華盛頓',\n",
        " '一年多',\n",
        " '永康',\n",
        " '後壁',\n",
        " '臺灣',\n",
        " '九份',\n",
        " '基隆市',\n",
        " '埔心鄉',\n",
        " '英國',\n",
        " '北誠',\n",
        " '中西',\n",
        " '義大利',\n",
        " '桃園市',\n",
        " '億元',\n",
        " '西式',\n",
        " '舒帛',\n",
        " '雲林縣長',\n",
        " '新竹',\n",
        " '華東',\n",
        " '第四',\n",
        " '中華',\n",
        " '中國',\n",
        " '台中',\n",
        " '蘇州',\n",
        " '亞太',\n",
        " '東山地區',\n",
        " '新北市',\n",
        " '九月',\n",
        " '長春',\n",
        " '四週',\n",
        " '興美',\n",
        " '寧波',\n",
        " '哥倫比亞',\n",
        " '美商',\n",
        " '法國',\n",
        " '豐原',\n",
        " '杭州',\n",
        " '中壢',\n",
        " '白河',\n",
        " '塩水',\n",
        " '富春',\n",
        " '韓國',\n",
        " '白河區',\n",
        " '春天',\n",
        " '東市',\n",
        " '南港',\n",
        " '基隆',\n",
        " '台南市',\n",
        " '茄渼',\n",
        " '泰國',\n",
        " '華林',\n",
        " '台中市東勢區',\n",
        " '台北市',\n",
        " '三天',\n",
        " '中式',\n",
        " '第一',\n",
        " '第七',\n",
        " '吉賀',\n",
        " '日式',\n",
        " '台中商圈',\n",
        " '台南',\n",
        " '中港',\n",
        " '三重',\n",
        " '基隆廟口',\n",
        " '第六',\n",
        " '第五',\n",
        " '第四十二',\n",
        " '台灣',\n",
        " '南投縣',\n",
        " '泰式',\n",
        " '彰化縣',\n",
        " '南亞',\n",
        " '南陵',\n",
        " '五天',\n",
        " '花東',\n",
        " '關廟',\n",
        " '上海',\n",
        " '英屬',\n",
        " '明鎮',\n",
        " '高雄',\n",
        " '嘉義',\n",
        " '板橋區',\n",
        " '聚典',\n",
        " '太平洋']\n",
        "print(len(drop_list))"
      ],
      "execution_count": 10,
      "outputs": [
        {
          "output_type": "stream",
          "text": [
            "88\n"
          ],
          "name": "stdout"
        }
      ]
    },
    {
      "cell_type": "code",
      "metadata": {
        "id": "gRXEGJrIq0XF"
      },
      "source": [
        "import numpy as np\n",
        "train[\"feature_a08a02\"]=train['k_a08a_2']+train['k_a08a_2']+train['k_a08a_3']+train['k_a08a_4']+train['k_a08a_4']+train['k_a08a_5']+train['k_a08a_5']\n",
        "train=train[train['feature_a08a02'].notna()]\n",
        "\n",
        "test[\"feature_a08a02\"]=test['k_a08a_2']+test['k_a08a_2']+test['k_a08a_3']+test['k_a08a_4']+train['k_a08a_4']+test['k_a08a_5']+test['k_a08a_5']\n",
        "test[\"feature_a08a02\"]=test[\"feature_a08a02\"].replace(np.nan, \"nan\")\n",
        "\n",
        "train[\"feature_a08a01\"]=train['k_a08a_2']+train['k_a08a_2']+train['k_a08a_3']+train['k_a08a_4']+train['k_a08a_5']+train['k_a08a_5']\n",
        "train=train[train['feature_a08a01'].notna()]\n",
        "\n",
        "test[\"feature_a08a01\"]=test['k_a08a_2']+test['k_a08a_2']+test['k_a08a_3']+test['k_a08a_4']+test['k_a08a_5']+test['k_a08a_5']\n",
        "test[\"feature_a08a01\"]=test[\"feature_a08a01\"].replace(np.nan, \"nan\")"
      ],
      "execution_count": 11,
      "outputs": []
    },
    {
      "cell_type": "code",
      "metadata": {
        "id": "GwoAaOPMrW9x"
      },
      "source": [
        "train[\"word cut2_a08a02\"]=train[\"feature_a08a02\"].apply(lambda x:ws([x]))\n",
        "test[\"word cut2_a08a02\"]=test[\"feature_a08a02\"].apply(lambda x:ws([x]))\n",
        "train[\"pos2_a08a02\"]=train[\"word cut2_a08a02\"].apply(lambda x:pos(x))\n",
        "test[\"pos2_a08a02\"]=test[\"word cut2_a08a02\"].apply(lambda x:pos(x))\n",
        "\n",
        "train[\"word cut2_a08a01\"]=train[\"feature_a08a01\"].apply(lambda x:ws([x]))\n",
        "test[\"word cut2_a08a01\"]=test[\"feature_a08a01\"].apply(lambda x:ws([x]))\n",
        "train[\"pos2_a08a01\"]=train[\"word cut2_a08a01\"].apply(lambda x:pos(x))\n",
        "test[\"pos2_a08a01\"]=test[\"word cut2_a08a01\"].apply(lambda x:pos(x))"
      ],
      "execution_count": 12,
      "outputs": []
    },
    {
      "cell_type": "code",
      "metadata": {
        "id": "T8E5w1HVrrki"
      },
      "source": [
        "import itertools\n",
        "flatten = itertools.chain.from_iterable\n",
        "#list(flatten(l))\n",
        "remove_tag=[\n",
        "\"Nb\",\n",
        "\"Neu\",\n",
        "\"Caa\",\n",
        "\"Cab\",\n",
        "\"Cba\",\n",
        "\"Cbb\",\n",
        "\"P\",\n",
        "\"DE\",\n",
        "\"D\",\n",
        "\"VH\",\n",
        "\"Da\",\n",
        "\"Dfa\",\n",
        "\"Dfb\",\n",
        "\"Di\",\n",
        "\"Dk\",\n",
        "\"DM\",\n",
        "\"V_2\",\n",
        "\"SHI\"\n",
        "]"
      ],
      "execution_count": 13,
      "outputs": []
    },
    {
      "cell_type": "code",
      "metadata": {
        "id": "Ecr5_9vQsbK_"
      },
      "source": [
        "clean_word=[]\n",
        "for i in range(len(train)):\n",
        "    f1=list(flatten(train[\"word cut1\"].iloc[i]))\n",
        "    p1=list(flatten(train[\"pos1\"].iloc[i]))\n",
        "    f2=list(flatten(train[\"word cut2_a08a02\"].iloc[i]))\n",
        "    p2=list(flatten(train[\"pos2_a08a02\"].iloc[i]))\n",
        "\n",
        "    c1=[]\n",
        "    for i in range(len(p1)):\n",
        "        if p1[i]  in [\"Na\",\"Nc\"]:\n",
        "            if f1[i] not in drop_list:\n",
        "                c1.append(f1[i])\n",
        "    for i in range(len(p2)):\n",
        "        if p2[i] not in remove_tag:\n",
        "            if f2[i] not in drop_list:\n",
        "                c1.append(f2[i])\n",
        "    clean_word.append(c1)\n",
        "\n",
        "train[\"clean_word_a08a02\"]=clean_word  \n",
        "\n",
        "clean_word=[]\n",
        "for i in range(len(test)):\n",
        "    f1=list(flatten(test[\"word cut1\"].iloc[i]))\n",
        "    p1=list(flatten(test[\"pos1\"].iloc[i]))\n",
        "    f2=list(flatten(test[\"word cut2_a08a02\"].iloc[i]))\n",
        "    p2=list(flatten(test[\"pos2_a08a02\"].iloc[i]))\n",
        "\n",
        "    c1=[]\n",
        "    for i in range(len(p1)):\n",
        "        if p1[i]  in [\"Na\",\"Nc\"]:\n",
        "            if f1[i] not in drop_list:\n",
        "                c1.append(f1[i])\n",
        "    for i in range(len(p2)):\n",
        "        if p2[i] not in remove_tag:\n",
        "            if f2[i] not in drop_list:\n",
        "                c1.append(f2[i])\n",
        "    \n",
        "    clean_word.append(c1)\n",
        "\n",
        "test[\"clean_word_a08a02\"]=clean_word\n",
        "\n",
        "\n",
        "\n",
        "clean_word=[]\n",
        "for i in range(len(train)):\n",
        "    f1=list(flatten(train[\"word cut1\"].iloc[i]))\n",
        "    p1=list(flatten(train[\"pos1\"].iloc[i]))\n",
        "    f2=list(flatten(train[\"word cut2_a08a01\"].iloc[i]))\n",
        "    p2=list(flatten(train[\"pos2_a08a01\"].iloc[i]))\n",
        "\n",
        "    c1=[]\n",
        "    for i in range(len(p1)):\n",
        "        if p1[i]  in [\"Na\",\"Nc\"]:\n",
        "            if f1[i] not in drop_list:\n",
        "                c1.append(f1[i])\n",
        "    for i in range(len(p2)):\n",
        "        if p2[i] not in remove_tag:\n",
        "            if f2[i] not in drop_list:\n",
        "                c1.append(f2[i])\n",
        "    clean_word.append(c1)\n",
        "\n",
        "train[\"clean_word_a08a01\"]=clean_word  \n",
        "\n",
        "clean_word=[]\n",
        "for i in range(len(test)):\n",
        "    f1=list(flatten(test[\"word cut1\"].iloc[i]))\n",
        "    p1=list(flatten(test[\"pos1\"].iloc[i]))\n",
        "    f2=list(flatten(test[\"word cut2_a08a01\"].iloc[i]))\n",
        "    p2=list(flatten(test[\"pos2_a08a01\"].iloc[i]))\n",
        "\n",
        "    c1=[]\n",
        "    for i in range(len(p1)):\n",
        "        if p1[i]  in [\"Na\",\"Nc\"]:\n",
        "            if f1[i] not in drop_list:\n",
        "                c1.append(f1[i])\n",
        "    for i in range(len(p2)):\n",
        "        if p2[i] not in remove_tag:\n",
        "            if f2[i] not in drop_list:\n",
        "                c1.append(f2[i])\n",
        "    \n",
        "    clean_word.append(c1)\n",
        "\n",
        "test[\"clean_word_a08a01\"]=clean_word"
      ],
      "execution_count": 14,
      "outputs": []
    },
    {
      "cell_type": "code",
      "metadata": {
        "id": "xfQ1wsBFsd0e"
      },
      "source": [
        "temp_a08a02=pd.concat([train[\"clean_word_a08a02\"],test[\"clean_word_a08a02\"]],axis=0)\n",
        "temp_a08a01=pd.concat([train[\"clean_word_a08a01\"],test[\"clean_word_a08a01\"]],axis=0)"
      ],
      "execution_count": 15,
      "outputs": []
    },
    {
      "cell_type": "code",
      "metadata": {
        "id": "hDB_Ixf0shIs",
        "colab": {
          "base_uri": "https://localhost:8080/"
        },
        "outputId": "b2eb4c49-4fc0-4c2c-c242-085d809fa144"
      },
      "source": [
        "from sklearn.feature_extraction.text import TfidfVectorizer\n",
        "from sklearn.decomposition import TruncatedSVD\n",
        "def dummy(data):\n",
        "    return str(data)\n",
        "vectorizer =TfidfVectorizer(preprocessor=dummy)\n",
        "tfidf1 = vectorizer.fit_transform(temp_a08a01)\n",
        "print(tfidf1.shape)\n",
        "n_components = 3000\n",
        "tsvd = TruncatedSVD(n_components=n_components)\n",
        "tsvd_result = tsvd.fit_transform(tfidf1)\n",
        "explained_variance = tsvd.explained_variance_ratio_.sum()\n",
        "# The svd explains only a tiny portion of the variance\n",
        "print(\"Explained variance %f\" % (explained_variance))\n",
        "print(tsvd_result.shape)\n",
        "train[\"tsvd_result1_a08a01\"]=list(tsvd_result)[:3200]\n",
        "test[\"tsvd_result1_a08a01\"]=list(tsvd_result)[3200:]\n",
        "\n",
        "tfidf1 = vectorizer.fit_transform(temp_a08a02)\n",
        "print(tfidf1.shape)\n",
        "n_components = 3000\n",
        "tsvd = TruncatedSVD(n_components=n_components)\n",
        "tsvd_result = tsvd.fit_transform(tfidf1)\n",
        "explained_variance = tsvd.explained_variance_ratio_.sum()\n",
        "# The svd explains only a tiny portion of the variance\n",
        "print(\"Explained variance %f\" % (explained_variance))\n",
        "print(tsvd_result.shape)\n",
        "train[\"tsvd_result1_a08a02\"]=list(tsvd_result)[:3200]\n",
        "test[\"tsvd_result1_a08a02\"]=list(tsvd_result)[3200:]"
      ],
      "execution_count": 16,
      "outputs": [
        {
          "output_type": "stream",
          "text": [
            "(3943, 5886)\n",
            "Explained variance 0.995003\n",
            "(3943, 3000)\n",
            "(3943, 5935)\n",
            "Explained variance 0.994706\n",
            "(3943, 3000)\n"
          ],
          "name": "stdout"
        }
      ]
    },
    {
      "cell_type": "code",
      "metadata": {
        "id": "_ziKHe4i0wSG",
        "colab": {
          "base_uri": "https://localhost:8080/"
        },
        "outputId": "c4848c10-b69b-440e-ab5e-9b6cde0b7a09"
      },
      "source": [
        "import jieba\n",
        "import jieba.analyse\n",
        "from gensim.models import Word2Vec\n",
        "def pad5(x):\n",
        "    if len(x)==0:\n",
        "        x=[\"nan\",\"nan\",\"nan\",\"nan\",\"nan\"]\n",
        "    init=0\n",
        "    while len(x)<5:\n",
        "        x.append(x[init])\n",
        "        init+=1\n",
        "    return x\n",
        "\n",
        "train[\"key_info\"]=train[\"feature_a08a02\"].apply(lambda x:jieba.analyse.extract_tags(x, topK=5))\n",
        "train[\"key_info\"]=train[\"key_info\"].apply(pad5)\n",
        "test[\"key_info\"]=test[\"feature_a08a02\"].apply(lambda x:jieba.analyse.extract_tags(x, topK=5))\n",
        "test[\"key_info\"]=test[\"key_info\"].apply(pad5)\n",
        "voc=list(train[\"key_info\"])+list(test[\"key_info\"])\n",
        "mymodel = Word2Vec(voc*2,size=250, min_count=2,workers=4,sg=1)\n",
        "mymodel.save(\"modelnew\")\n",
        "def w2v_vector(text_list):\n",
        "    new=[]\n",
        "    for word in text_list:\n",
        "        new=new+list(mymodel[word])\n",
        "    new=np.array(new,dtype=float)\n",
        "    return new\n",
        "train[\"answer_a08a02\"]=train[\"key_info\"].apply(w2v_vector)\n",
        "test[\"answer_a08a02\"]=test[\"key_info\"].apply(w2v_vector)\n",
        "\n",
        "\n",
        "\n",
        "train[\"key_info\"]=train[\"feature_a08a01\"].apply(lambda x:jieba.analyse.extract_tags(x, topK=5))\n",
        "train[\"key_info\"]=train[\"key_info\"].apply(pad5)\n",
        "test[\"key_info\"]=test[\"feature_a08a01\"].apply(lambda x:jieba.analyse.extract_tags(x, topK=5))\n",
        "test[\"key_info\"]=test[\"key_info\"].apply(pad5)\n",
        "voc=list(train[\"key_info\"])+list(test[\"key_info\"])\n",
        "mymodel = Word2Vec(voc*2,size=250, min_count=2,workers=4,sg=1)\n",
        "mymodel.save(\"modelnew\")\n",
        "def w2v_vector(text_list):\n",
        "    new=[]\n",
        "    for word in text_list:\n",
        "        new=new+list(mymodel[word])\n",
        "    new=np.array(new,dtype=float)\n",
        "    return new\n",
        "train[\"answer_a08a01\"]=train[\"key_info\"].apply(w2v_vector)\n",
        "test[\"answer_a08a01\"]=test[\"key_info\"].apply(w2v_vector)"
      ],
      "execution_count": 17,
      "outputs": [
        {
          "output_type": "stream",
          "text": [
            "Building prefix dict from the default dictionary ...\n",
            "Loading model from cache /tmp/jieba.cache\n",
            "Loading model cost 0.759 seconds.\n",
            "Prefix dict has been built successfully.\n",
            "/usr/local/lib/python3.6/dist-packages/ipykernel_launcher.py:23: DeprecationWarning: Call to deprecated `__getitem__` (Method will be removed in 4.0.0, use self.wv.__getitem__() instead).\n",
            "/usr/local/lib/python3.6/dist-packages/ipykernel_launcher.py:41: DeprecationWarning: Call to deprecated `__getitem__` (Method will be removed in 4.0.0, use self.wv.__getitem__() instead).\n"
          ],
          "name": "stderr"
        }
      ]
    },
    {
      "cell_type": "code",
      "metadata": {
        "id": "r0_U6Biqytab"
      },
      "source": [
        "#train.head()"
      ],
      "execution_count": 18,
      "outputs": []
    },
    {
      "cell_type": "code",
      "metadata": {
        "id": "uH9WFbbg1GK8",
        "colab": {
          "base_uri": "https://localhost:8080/"
        },
        "outputId": "96057031-f7e8-40df-ce70-450b38cf5501"
      },
      "source": [
        "new_train_a08a02=[]\n",
        "for i in range(len(train)):\n",
        "    a1=train[\"answer_a08a02\"][i]\n",
        "    a1=list(a1)+list(train[\"tsvd_result1_a08a02\"][i])\n",
        "    new_train_a08a02.append(a1)\n",
        "\n",
        "new_test_a08a02=[]\n",
        "for i in range(len(test)):\n",
        "    a1=test[\"answer_a08a02\"][i]\n",
        "    a1=list(a1)+list(test[\"tsvd_result1_a08a02\"][i])\n",
        "    new_test_a08a02.append(a1)\n",
        "    \n",
        "print(np.array(new_train_a08a02).shape)\n",
        "print(np.array(new_test_a08a02).shape)\n",
        "\n",
        "new_train_a08a01=[]\n",
        "for i in range(len(train)):\n",
        "    a1=train[\"answer_a08a01\"][i]\n",
        "    a1=list(a1)+list(train[\"tsvd_result1_a08a01\"][i])\n",
        "    new_train_a08a01.append(a1)\n",
        "\n",
        "new_test_a08a01=[]\n",
        "for i in range(len(test)):\n",
        "    a1=test[\"answer_a08a01\"][i]\n",
        "    a1=list(a1)+list(test[\"tsvd_result1_a08a01\"][i])\n",
        "    new_test_a08a01.append(a1)\n",
        "    \n",
        "print(np.array(new_train_a08a01).shape)\n",
        "print(np.array(new_test_a08a01).shape)"
      ],
      "execution_count": 19,
      "outputs": [
        {
          "output_type": "stream",
          "text": [
            "(3200, 4250)\n",
            "(743, 4250)\n",
            "(3200, 4250)\n",
            "(743, 4250)\n"
          ],
          "name": "stdout"
        }
      ]
    },
    {
      "cell_type": "code",
      "metadata": {
        "id": "rpAZdFQFt4bk"
      },
      "source": [
        "from sklearn.linear_model import LogisticRegression\n",
        "from sklearn.model_selection import train_test_split\n",
        "from sklearn.metrics import accuracy_score"
      ],
      "execution_count": 20,
      "outputs": []
    },
    {
      "cell_type": "code",
      "metadata": {
        "id": "3_CA4XXjuNGY"
      },
      "source": [
        "train[\"a08a02\"]=train[\"a08a02\"].astype('category')\n",
        "train[\"a08a01\"]=train[\"a08a01\"].astype('category')"
      ],
      "execution_count": 21,
      "outputs": []
    },
    {
      "cell_type": "code",
      "metadata": {
        "id": "DsGLFer3uP_A",
        "colab": {
          "base_uri": "https://localhost:8080/"
        },
        "outputId": "9d817bf0-077f-4fee-8f0d-5567a4e8a35b"
      },
      "source": [
        "from imblearn.over_sampling import SMOTE\n",
        "import warnings\n",
        "warnings.filterwarnings('ignore')\n",
        "x_train, x_test, y_train, y_test = train_test_split(new_train_a08a02, np.array(train[\"a08a01\"]), test_size=0.25, random_state=1,shuffle=True)\n",
        "print(np.array(x_train).shape,np.array(x_test).shape)\n",
        "sm = SMOTE(random_state=12,k_neighbors=3)\n",
        "x_train_res, y_train_res = sm.fit_sample(list(x_train), y_train)\n",
        "print(x_train_res.shape)"
      ],
      "execution_count": 30,
      "outputs": [
        {
          "output_type": "stream",
          "text": [
            "(2400, 4250) (800, 4250)\n",
            "(12544, 4250)\n"
          ],
          "name": "stdout"
        }
      ]
    },
    {
      "cell_type": "code",
      "metadata": {
        "id": "MtqrbnXkuZVm",
        "colab": {
          "base_uri": "https://localhost:8080/"
        },
        "outputId": "e1294dea-face-4657-fbcc-4528fd79c234"
      },
      "source": [
        "forest = LogisticRegression(random_state=0,max_iter=1000,C=10000)\n",
        "forest.fit(x_train_res, y_train_res)\n",
        "y_pred = forest.predict(list(x_test))\n",
        "y_train_pred=forest.predict(list(x_train))\n",
        "print('Accuracy (forest): %.5f' % accuracy_score(y_train, y_train_pred))\n",
        "print('Accuracy (forest): %.5f' % accuracy_score(y_test, y_pred))"
      ],
      "execution_count": 28,
      "outputs": [
        {
          "output_type": "stream",
          "text": [
            "Accuracy (forest): 0.99875\n",
            "Accuracy (forest): 0.65625\n"
          ],
          "name": "stdout"
        }
      ]
    },
    {
      "cell_type": "code",
      "metadata": {
        "id": "y7BpzXnyxZ0H",
        "colab": {
          "base_uri": "https://localhost:8080/"
        },
        "outputId": "bebf3b0d-1075-4f3d-8799-32696d42912a"
      },
      "source": [
        "warnings.filterwarnings('ignore')\n",
        "x_train, x_test, y_train, y_test = train_test_split(new_train_a08a01, np.array(train[\"a08a01\"]), test_size=0.2, random_state=1,stratify=np.array(train[\"a08a01\"]),shuffle=True)\n",
        "print(np.array(x_train).shape,np.array(x_test).shape)\n",
        "sm = SMOTE(random_state=12,k_neighbors=2)\n",
        "x_train_res, y_train_res = sm.fit_sample(list(x_train), y_train)\n",
        "print(x_train_res.shape)\n",
        "\n",
        "forest1 = LogisticRegression(random_state=0,max_iter=1000,C=10000)\n",
        "forest1.fit(x_train_res, y_train_res)\n",
        "y_pred = forest1.predict(list(x_test))\n",
        "y_train_pred=forest1.predict(list(x_train))\n",
        "print('Accuracy (forest): %.5f' % accuracy_score(y_train, y_train_pred))\n",
        "print('Accuracy (forest): %.5f' % accuracy_score(y_test, y_pred))"
      ],
      "execution_count": 33,
      "outputs": [
        {
          "output_type": "stream",
          "text": [
            "(2560, 4250) (640, 4250)\n",
            "(12736, 4250)\n",
            "Accuracy (forest): 0.99922\n",
            "Accuracy (forest): 0.69531\n"
          ],
          "name": "stdout"
        }
      ]
    },
    {
      "cell_type": "code",
      "metadata": {
        "id": "w_0bC63A45QP",
        "colab": {
          "base_uri": "https://localhost:8080/"
        },
        "outputId": "bd365738-107f-4be2-a562-377615ccd178"
      },
      "source": [
        "final_score=(0.65625+0.69531)/2\n",
        "print(\"My final score=%.5f\" %final_score)"
      ],
      "execution_count": 34,
      "outputs": [
        {
          "output_type": "stream",
          "text": [
            "My final score=0.67578\n"
          ],
          "name": "stdout"
        }
      ]
    },
    {
      "cell_type": "markdown",
      "metadata": {
        "id": "9zH2fbSvdS65"
      },
      "source": [
        "It was not an easy problem;however,by trial and error,my final score in testing data is above simple baseline in the end.![leadboard.png](data:image/png;base64,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)"
      ]
    }
  ]
}