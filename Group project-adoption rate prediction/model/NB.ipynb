{
 "cells": [
  {
   "cell_type": "code",
   "execution_count": 1,
   "metadata": {},
   "outputs": [],
   "source": [
    "import pandas as pd\n",
    "import os"
   ]
  },
  {
   "cell_type": "code",
   "execution_count": 2,
   "metadata": {},
   "outputs": [],
   "source": [
    "path=os.path.abspath('..')"
   ]
  },
  {
   "cell_type": "code",
   "execution_count": 3,
   "metadata": {},
   "outputs": [
    {
     "data": {
      "text/plain": [
       "Index(['Type', 'Name', 'Breed1', 'Gender', 'Color1', 'Color2', 'Color3',\n",
       "       'MaturitySize', 'FurLength', 'Vaccinated', 'Dewormed', 'Sterilized',\n",
       "       'Health', 'Fee', 'VideoAmt', 'PhotoAmt', 'AdoptionSpeed', 'newAge',\n",
       "       'state_gdp', 'state_population', 'TSVD_0', 'TSVD_1', 'TSVD_2', 'TSVD_3',\n",
       "       'TSVD_4', 'TSVD_5', 'TSVD_6', 'TSVD_7', 'TSVD_8', 'TSVD_9', 'TSVD_10',\n",
       "       'TSVD_11', 'TSVD_12', 'TSVD_13', 'TSVD_14', 'TSVD_15', 'TSVD_16',\n",
       "       'TSVD_17', 'TSVD_18', 'TSVD_19', 'TSVD_20', 'TSVD_21', 'TSVD_22',\n",
       "       'TSVD_23', 'TSVD_24', 'TSVD_25', 'TSVD_26', 'TSVD_27', 'TSVD_28',\n",
       "       'TSVD_29', 'TSVD_30', 'TSVD_31', 'TSVD_32', 'TSVD_33', 'TSVD_34',\n",
       "       'TSVD_35', 'TSVD_36', 'TSVD_37', 'TSVD_38', 'TSVD_39', 'TSVD_40',\n",
       "       'TSVD_41', 'TSVD_42', 'TSVD_43', 'TSVD_44', 'TSVD_45', 'TSVD_46',\n",
       "       'TSVD_47', 'TSVD_48', 'TSVD_49', '95481e953f8aed9ec3d16fc4509537e8',\n",
       "       'aa66486163b6cbc25ea62a34b11c9b91', 'b53c34474d9e24574bcec6a3d3306a0d',\n",
       "       'b770bac0ca797cf1433c48a35d30c4cb', 'c00756f2bdd8fa88fc9f07a8309f7d5d',\n",
       "       'ee2747ce26468ec44c7194e7d1d9dad9', 'fa90fa5b1ee11c86938398b60abc32cb',\n",
       "       'others', 'desc_len'],\n",
       "      dtype='object')"
      ]
     },
     "execution_count": 3,
     "metadata": {},
     "output_type": "execute_result"
    }
   ],
   "source": [
    "data = pd.read_csv(path+'\\\\data\\\\data.csv')\n",
    "data.columns"
   ]
  },
  {
   "cell_type": "code",
   "execution_count": 4,
   "metadata": {},
   "outputs": [],
   "source": [
    "category = ['Type', 'Name', 'Breed1', 'Gender', 'Color1', 'Color2',\n",
    "       'Color3', 'MaturitySize', 'FurLength', 'Vaccinated', 'Dewormed',\n",
    "       'Sterilized', 'Health']\n",
    "for i in category:\n",
    "    data[i]=data[i].astype(\"category\")"
   ]
  },
  {
   "cell_type": "code",
   "execution_count": 5,
   "metadata": {},
   "outputs": [],
   "source": [
    "df1 = pd.get_dummies(data[['Type', 'Name', 'Breed1', 'Gender', 'Color1', 'Color2',\n",
    "       'Color3', 'MaturitySize', 'FurLength', 'Vaccinated', 'Dewormed',\n",
    "       'Sterilized', 'Health']])\n",
    "data = pd.concat((data, df1), axis = 1)\n",
    "data.drop(['Type', 'Name', 'Breed1', 'Gender', 'Color1', 'Color2',\n",
    "       'Color3', 'MaturitySize', 'FurLength', 'Vaccinated', 'Dewormed',\n",
    "       'Sterilized', 'Health'], axis=1, inplace=True)"
   ]
  },
  {
   "cell_type": "code",
   "execution_count": 6,
   "metadata": {},
   "outputs": [],
   "source": [
    "from sklearn.model_selection import train_test_split\n",
    "x = data.drop(['AdoptionSpeed'], axis = 1)\n",
    "y = data['AdoptionSpeed']\n",
    "X_train, X_test, y_train, y_test = train_test_split(x, y, test_size=0.25, random_state=42)"
   ]
  },
  {
   "cell_type": "code",
   "execution_count": 7,
   "metadata": {},
   "outputs": [
    {
     "data": {
      "text/plain": [
       "0.3606295012003201"
      ]
     },
     "execution_count": 7,
     "metadata": {},
     "output_type": "execute_result"
    }
   ],
   "source": [
    "from sklearn.naive_bayes import BernoulliNB\n",
    "clf = BernoulliNB()\n",
    "clf.fit(X_train, y_train)\n",
    "predict = pd.DataFrame(clf.predict(X_test))\n",
    "clf.score(X_test, y_test)"
   ]
  },
  {
   "cell_type": "code",
   "execution_count": 8,
   "metadata": {},
   "outputs": [],
   "source": [
    "predict[0].to_csv(path+\"\\\\result\\\\NB_with_des.csv\", index=False)"
   ]
  },
  {
   "cell_type": "code",
   "execution_count": 9,
   "metadata": {},
   "outputs": [
    {
     "data": {
      "text/plain": [
       "Index(['Type', 'Name', 'Breed1', 'Gender', 'Color1', 'Color2', 'Color3',\n",
       "       'MaturitySize', 'FurLength', 'Vaccinated', 'Dewormed', 'Sterilized',\n",
       "       'Health', 'Fee', 'VideoAmt', 'PhotoAmt', 'AdoptionSpeed', 'newAge',\n",
       "       'state_gdp', 'state_population', '95481e953f8aed9ec3d16fc4509537e8',\n",
       "       'aa66486163b6cbc25ea62a34b11c9b91', 'b53c34474d9e24574bcec6a3d3306a0d',\n",
       "       'b770bac0ca797cf1433c48a35d30c4cb', 'c00756f2bdd8fa88fc9f07a8309f7d5d',\n",
       "       'ee2747ce26468ec44c7194e7d1d9dad9', 'fa90fa5b1ee11c86938398b60abc32cb',\n",
       "       'others', 'desc_len'],\n",
       "      dtype='object')"
      ]
     },
     "execution_count": 9,
     "metadata": {},
     "output_type": "execute_result"
    }
   ],
   "source": [
    "data = pd.read_csv(path+'\\\\data\\\\data.csv')\n",
    "data2 = data.drop(data.columns[20:20+50], axis=1)\n",
    "data2.columns"
   ]
  },
  {
   "cell_type": "code",
   "execution_count": 10,
   "metadata": {},
   "outputs": [],
   "source": [
    "category = ['Type', 'Name', 'Breed1', 'Gender', 'Color1', 'Color2',\n",
    "       'Color3', 'MaturitySize', 'FurLength', 'Vaccinated', 'Dewormed',\n",
    "       'Sterilized', 'Health']\n",
    "for i in category:\n",
    "    data2[i]=data2[i].astype(\"category\")"
   ]
  },
  {
   "cell_type": "code",
   "execution_count": 11,
   "metadata": {},
   "outputs": [],
   "source": [
    "df1 = pd.get_dummies(data2[['Type', 'Name', 'Breed1', 'Gender', 'Color1', 'Color2',\n",
    "       'Color3', 'MaturitySize', 'FurLength', 'Vaccinated', 'Dewormed',\n",
    "       'Sterilized', 'Health']])\n",
    "data2 = pd.concat((data2, df1), axis = 1)\n",
    "data2.drop(['Type', 'Name', 'Breed1', 'Gender', 'Color1', 'Color2',\n",
    "       'Color3', 'MaturitySize', 'FurLength', 'Vaccinated', 'Dewormed',\n",
    "       'Sterilized', 'Health'], axis=1, inplace=True)"
   ]
  },
  {
   "cell_type": "code",
   "execution_count": 12,
   "metadata": {},
   "outputs": [],
   "source": [
    "x = data2.drop(['AdoptionSpeed'], axis = 1)\n",
    "y = data2['AdoptionSpeed']\n",
    "X_train, X_test, y_train, y_test = train_test_split(x, y, test_size=0.25, random_state=42)"
   ]
  },
  {
   "cell_type": "code",
   "execution_count": 13,
   "metadata": {},
   "outputs": [
    {
     "data": {
      "text/plain": [
       "0.3547612696719125"
      ]
     },
     "execution_count": 13,
     "metadata": {},
     "output_type": "execute_result"
    }
   ],
   "source": [
    "clf = BernoulliNB()\n",
    "clf.fit(X_train, y_train)\n",
    "predict = pd.DataFrame(clf.predict(X_test))\n",
    "clf.score(X_test, y_test)"
   ]
  },
  {
   "cell_type": "code",
   "execution_count": 14,
   "metadata": {},
   "outputs": [],
   "source": [
    "predict[0].to_csv(path+\"\\\\result\\\\NB_without_des.csv\", index=False)"
   ]
  }
 ],
 "metadata": {
  "kernelspec": {
   "display_name": "Python 3",
   "language": "python",
   "name": "python3"
  },
  "language_info": {
   "codemirror_mode": {
    "name": "ipython",
    "version": 3
   },
   "file_extension": ".py",
   "mimetype": "text/x-python",
   "name": "python",
   "nbconvert_exporter": "python",
   "pygments_lexer": "ipython3",
   "version": "3.6.5"
  }
 },
 "nbformat": 4,
 "nbformat_minor": 2
}
