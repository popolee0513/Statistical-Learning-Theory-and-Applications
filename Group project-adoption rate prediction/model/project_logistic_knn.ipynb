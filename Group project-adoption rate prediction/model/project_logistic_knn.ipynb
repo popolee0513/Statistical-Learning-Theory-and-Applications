{
 "cells": [
  {
   "cell_type": "code",
   "execution_count": 73,
   "metadata": {},
   "outputs": [],
   "source": [
    "import pystan\n",
    "import pandas as pd\n",
    "import numpy as np\n",
    "from scipy import stats\n",
    "import os"
   ]
  },
  {
   "cell_type": "code",
   "execution_count": 131,
   "metadata": {},
   "outputs": [],
   "source": [
    "path=os.path.abspath('..')\n",
    "data = pd.read_csv(path+'\\\\data\\\\data.csv')"
   ]
  },
  {
   "cell_type": "code",
   "execution_count": 132,
   "metadata": {},
   "outputs": [],
   "source": [
    "category = ['Type', 'Name', 'Breed1', 'Gender', 'Color1', 'Color2',\n",
    "       'Color3', 'MaturitySize', 'FurLength', 'Vaccinated', 'Dewormed',\n",
    "       'Sterilized', 'Health']\n",
    "for i in category:\n",
    "    data[i]=data[i].astype(\"category\")"
   ]
  },
  {
   "cell_type": "code",
   "execution_count": 133,
   "metadata": {},
   "outputs": [],
   "source": [
    "df1 = pd.get_dummies(data[['Type', 'Name', 'Breed1', 'Gender', 'Color1', 'Color2',\n",
    "       'Color3', 'MaturitySize', 'FurLength', 'Vaccinated', 'Dewormed',\n",
    "       'Sterilized', 'Health']])\n",
    "data = pd.concat((data, df1), axis = 1)\n",
    "data.drop(['Type', 'Name', 'Breed1', 'Gender', 'Color1', 'Color2',\n",
    "       'Color3', 'MaturitySize', 'FurLength', 'Vaccinated', 'Dewormed',\n",
    "       'Sterilized', 'Health'], axis=1, inplace=True)"
   ]
  },
  {
   "cell_type": "code",
   "execution_count": 134,
   "metadata": {},
   "outputs": [],
   "source": [
    "from sklearn.model_selection import train_test_split\n",
    "x = data.drop(['AdoptionSpeed'], axis = 1)\n",
    "y = data[['AdoptionSpeed']].replace([0,1,2,3,4],[1,2,3,4,5])\n",
    "X_train, X_test, y_train, y_test = train_test_split(x, y, test_size=0.25, random_state=42)"
   ]
  },
  {
   "cell_type": "code",
   "execution_count": 135,
   "metadata": {},
   "outputs": [
    {
     "name": "stdout",
     "output_type": "stream",
     "text": [
      "X_train (11244, 284)\n",
      "X_test (3749, 284)\n",
      "y_train (11244, 1)\n",
      "y_test (3749, 1)\n"
     ]
    }
   ],
   "source": [
    "print(\"X_train\", X_train.shape)\n",
    "print(\"X_test\", X_test.shape)\n",
    "print(\"y_train\", y_train.shape)\n",
    "print(\"y_test\", y_test.shape)"
   ]
  },
  {
   "cell_type": "code",
   "execution_count": 87,
   "metadata": {},
   "outputs": [
    {
     "name": "stderr",
     "output_type": "stream",
     "text": [
      "INFO:pystan:COMPILING THE C++ CODE FOR MODEL anon_model_c4a4e092e16b4480764975468afe633c NOW.\n",
      "/anaconda3/envs/stan/lib/python3.6/site-packages/Cython/Compiler/Main.py:367: FutureWarning: Cython directive 'language_level' not set, using 2 for now (Py2). This will change in a later release! File: /var/folders/5x/wfnp8bln0p3bzww1zfyvqc500000gn/T/tmprsbvyhvy/stanfit4anon_model_c4a4e092e16b4480764975468afe633c_8700643195881584623.pyx\n",
      "  tree = Parsing.p_module(s, pxd, full_module_name)\n"
     ]
    }
   ],
   "source": [
    "m_logit = '''\n",
    "   data {\n",
    "    int K; \n",
    "    int<lower=1000> N; \n",
    "    int<lower=1> N2;\n",
    "    int D; \n",
    "    int y[N]; \n",
    "    vector[D] x[N]; \n",
    "    vector[D] x_test[N2]; \n",
    "    }\n",
    "  \n",
    "  parameters {\n",
    "    matrix[K, D] beta; \n",
    "  }\n",
    "  \n",
    "  model {\n",
    "  // prior for beta \n",
    "  for (c in 1:K)\n",
    "    beta[c] ~ normal(0,5);\n",
    "\n",
    "  // likelihood of outcome\n",
    "  for (i in 1:N)\n",
    "    y[i] ~ categorical_logit(beta * x[i]); //softmax\n",
    "  \n",
    "    }\n",
    "    generated quantities{\n",
    "      vector[N2] output;\n",
    "      for(i in 1:N2){\n",
    "        output[i] = categorical_logit_rng(beta * x_test[i]);\n",
    "    }\n",
    "  }\n",
    "'''\n",
    "m_logit = pystan.StanModel(model_code = m_logit)"
   ]
  },
  {
   "cell_type": "code",
   "execution_count": 88,
   "metadata": {},
   "outputs": [],
   "source": [
    "# Test\n",
    "dat_logit = {\n",
    "  'N': X_train.shape[0],\n",
    "  'K': 5,\n",
    "  'D': X_train.shape[1],\n",
    "  'y': y_train.AdoptionSpeed,\n",
    "  'x': X_train,\n",
    "  'N2': X_test.shape[0], \n",
    "  'x_test': X_test\n",
    "}"
   ]
  },
  {
   "cell_type": "code",
   "execution_count": 89,
   "metadata": {},
   "outputs": [
    {
     "name": "stderr",
     "output_type": "stream",
     "text": [
      "WARNING:pystan:Automatic Differentiation Variational Inference (ADVI) is an EXPERIMENTAL ALGORITHM.\n",
      "WARNING:pystan:ADVI samples may be found on the filesystem in the file `/var/folders/5x/wfnp8bln0p3bzww1zfyvqc500000gn/T/tmp3iqcdal4/output.csv`\n"
     ]
    }
   ],
   "source": [
    "result_logit = m_logit.sampling(data=dat_logit, iter=1000, chains=4)"
   ]
  },
  {
   "cell_type": "code",
   "execution_count": 90,
   "metadata": {},
   "outputs": [],
   "source": [
    "post_logit_path = result_logit['args']['sample_file'].decode(\"utf-8\") \n",
    "post_logit = pd.read_csv(post_logit_path , skiprows=19).dropna()\n",
    "\n",
    "pred_logit = post_logit.loc[:, post_logit.columns.str.contains('output')].apply(lambda x: stats.mode(x)[0][0], axis=0)\n",
    "pred_logit_test = [int(i) for i in pred_logit]"
   ]
  },
  {
   "cell_type": "code",
   "execution_count": 91,
   "metadata": {},
   "outputs": [],
   "source": [
    "# Train\n",
    "dat_logit = {\n",
    "  'N': X_train.shape[0],\n",
    "  'K': 5,\n",
    "  'D': X_train.shape[1],\n",
    "  'y': y_train.AdoptionSpeed,\n",
    "  'x': X_train,\n",
    "  'N2': X_train.shape[0], \n",
    "  'x_test': X_train\n",
    "}"
   ]
  },
  {
   "cell_type": "code",
   "execution_count": 94,
   "metadata": {},
   "outputs": [
    {
     "name": "stderr",
     "output_type": "stream",
     "text": [
      "WARNING:pystan:Automatic Differentiation Variational Inference (ADVI) is an EXPERIMENTAL ALGORITHM.\n",
      "WARNING:pystan:ADVI samples may be found on the filesystem in the file `/var/folders/5x/wfnp8bln0p3bzww1zfyvqc500000gn/T/tmp1uszj__m/output.csv`\n"
     ]
    }
   ],
   "source": [
    "result_logit = m_logit.sampling(data=dat_logit, , iter=1000, chains=4)"
   ]
  },
  {
   "cell_type": "code",
   "execution_count": 97,
   "metadata": {},
   "outputs": [],
   "source": [
    "post_logit_path = result_logit['args']['sample_file'].decode(\"utf-8\") \n",
    "post_logit = pd.read_csv(post_logit_path , skiprows=19).dropna()\n",
    "\n",
    "pred_logit = post_logit.loc[:, post_logit.columns.str.contains('output')].apply(lambda x: stats.mode(x)[0][0], axis=0)\n",
    "pred_logit_train = [int(i) for i in pred_logit]"
   ]
  },
  {
   "cell_type": "code",
   "execution_count": 104,
   "metadata": {},
   "outputs": [
    {
     "name": "stdout",
     "output_type": "stream",
     "text": [
      "Test accuracy of Logistic Classification is 0.3078154174446519\n",
      "Train accuracy of Logistic Classification is 0.35645677694770544\n"
     ]
    }
   ],
   "source": [
    "from sklearn.metrics import accuracy_score\n",
    "print(\"Test accuracy of Logistic Classification is\", accuracy_score(y_test, pred_logit_test))\n",
    "print(\"Train accuracy of Logistic Classification is\", accuracy_score(y_train, pred_logit_train))"
   ]
  },
  {
   "cell_type": "markdown",
   "metadata": {},
   "source": [
    "## Export to csv"
   ]
  },
  {
   "cell_type": "code",
   "execution_count": 127,
   "metadata": {},
   "outputs": [],
   "source": [
    "df = pd.DataFrame(pred_logit_test)\n",
    "df.to_csv(path+'\\\\result\\\\logistic_des.csv', index=False)"
   ]
  },
  {
   "cell_type": "markdown",
   "metadata": {},
   "source": [
    "## w/o description"
   ]
  },
  {
   "cell_type": "code",
   "execution_count": 117,
   "metadata": {},
   "outputs": [],
   "source": [
    "data2 = data.drop(data.columns[7:7+50], axis=1)"
   ]
  },
  {
   "cell_type": "code",
   "execution_count": 122,
   "metadata": {},
   "outputs": [],
   "source": [
    "from sklearn.model_selection import train_test_split\n",
    "x = data2.drop(['AdoptionSpeed'], axis = 1)\n",
    "y = data2[['AdoptionSpeed']].replace([0,1,2,3,4],[1,2,3,4,5])\n",
    "X_train, X_test, y_train, y_test = train_test_split(x, y, test_size=0.25, random_state=42)"
   ]
  },
  {
   "cell_type": "code",
   "execution_count": 123,
   "metadata": {},
   "outputs": [
    {
     "name": "stdout",
     "output_type": "stream",
     "text": [
      "X_train (11244, 234)\n",
      "X_test (3749, 234)\n",
      "y_train (11244, 1)\n",
      "y_test (3749, 1)\n"
     ]
    }
   ],
   "source": [
    "print(\"X_train\", X_train.shape)\n",
    "print(\"X_test\", X_test.shape)\n",
    "print(\"y_train\", y_train.shape)\n",
    "print(\"y_test\", y_test.shape)"
   ]
  },
  {
   "cell_type": "code",
   "execution_count": 124,
   "metadata": {},
   "outputs": [
    {
     "name": "stderr",
     "output_type": "stream",
     "text": [
      "WARNING:pystan:Automatic Differentiation Variational Inference (ADVI) is an EXPERIMENTAL ALGORITHM.\n",
      "WARNING:pystan:ADVI samples may be found on the filesystem in the file `/var/folders/5x/wfnp8bln0p3bzww1zfyvqc500000gn/T/tmpsr411tls/output.csv`\n"
     ]
    }
   ],
   "source": [
    "# Test\n",
    "dat_logit = {\n",
    "  'N': X_train.shape[0],\n",
    "  'K': 5,\n",
    "  'D': X_train.shape[1],\n",
    "  'y': y_train.AdoptionSpeed,\n",
    "  'x': X_train,\n",
    "  'N2': X_test.shape[0], \n",
    "  'x_test': X_test\n",
    "}\n",
    "\n",
    "result_logit = m_logit.sampling(data=dat_logit, iter=1000, chains=4)\n",
    "\n",
    "post_logit_path = result_logit['args']['sample_file'].decode(\"utf-8\") \n",
    "post_logit = pd.read_csv(post_logit_path , skiprows=19).dropna()\n",
    "\n",
    "pred_logit = post_logit.loc[:, post_logit.columns.str.contains('output')].apply(lambda x: stats.mode(x)[0][0], axis=0)\n",
    "pred_logit_test2 = [int(i) for i in pred_logit]"
   ]
  },
  {
   "cell_type": "code",
   "execution_count": 125,
   "metadata": {},
   "outputs": [
    {
     "name": "stderr",
     "output_type": "stream",
     "text": [
      "WARNING:pystan:Automatic Differentiation Variational Inference (ADVI) is an EXPERIMENTAL ALGORITHM.\n",
      "WARNING:pystan:ADVI samples may be found on the filesystem in the file `/var/folders/5x/wfnp8bln0p3bzww1zfyvqc500000gn/T/tmpmwnlitnw/output.csv`\n"
     ]
    }
   ],
   "source": [
    "# Train\n",
    "dat_logit = {\n",
    "  'N': X_train.shape[0],\n",
    "  'K': 5,\n",
    "  'D': X_train.shape[1],\n",
    "  'y': y_train.AdoptionSpeed,\n",
    "  'x': X_train,\n",
    "  'N2': X_train.shape[0], \n",
    "  'x_test': X_train\n",
    "}\n",
    "\n",
    "result_logit = m_logit.sampling(data=dat_logit, iter=1000, chains=4)\n",
    "\n",
    "post_logit_path = result_logit['args']['sample_file'].decode(\"utf-8\") \n",
    "post_logit = pd.read_csv(post_logit_path , skiprows=19).dropna()\n",
    "\n",
    "pred_logit = post_logit.loc[:, post_logit.columns.str.contains('output')].apply(lambda x: stats.mode(x)[0][0], axis=0)\n",
    "pred_logit_train2 = [int(i) for i in pred_logit]"
   ]
  },
  {
   "cell_type": "code",
   "execution_count": 126,
   "metadata": {},
   "outputs": [
    {
     "name": "stdout",
     "output_type": "stream",
     "text": [
      "Test accuracy of Logistic Classification is 0.3835689517204588\n",
      "Train accuracy of Logistic Classification is 0.37513340448239063\n"
     ]
    }
   ],
   "source": [
    "from sklearn.metrics import accuracy_score\n",
    "print(\"Test accuracy of Logistic Classification is\", accuracy_score(y_test, pred_logit_test2))\n",
    "print(\"Train accuracy of Logistic Classification is\", accuracy_score(y_train, pred_logit_train2))"
   ]
  },
  {
   "cell_type": "code",
   "execution_count": 128,
   "metadata": {},
   "outputs": [],
   "source": [
    "df = pd.DataFrame(pred_logit_test2)\n",
    "df.to_csv(path+'\\\\result\\\\logistic_nodes.csv', index=False)"
   ]
  },
  {
   "cell_type": "markdown",
   "metadata": {},
   "source": [
    "## KNN"
   ]
  },
  {
   "cell_type": "markdown",
   "metadata": {},
   "source": [
    "w/o description"
   ]
  },
  {
   "cell_type": "code",
   "execution_count": 130,
   "metadata": {},
   "outputs": [
    {
     "name": "stderr",
     "output_type": "stream",
     "text": [
      "/anaconda3/envs/stan/lib/python3.6/site-packages/ipykernel_launcher.py:3: DataConversionWarning: A column-vector y was passed when a 1d array was expected. Please change the shape of y to (n_samples, ), for example using ravel().\n",
      "  This is separate from the ipykernel package so we can avoid doing imports until\n"
     ]
    },
    {
     "name": "stdout",
     "output_type": "stream",
     "text": [
      "Test accuracy of Knn Classification is 0.3083488930381435\n",
      "Train accuracy of Knn Classification is 0.5381536819637139\n"
     ]
    }
   ],
   "source": [
    "from sklearn.neighbors import KNeighborsClassifier\n",
    "knn = KNeighborsClassifier(n_neighbors=5)\n",
    "knn.fit(X_train, y_train)\n",
    "y_pred_test = knn.predict(X_test)\n",
    "y_pred_train = knn.predict(X_train)\n",
    "print(\"Test accuracy of Knn Classification is\", accuracy_score(y_test, y_pred_test))\n",
    "print(\"Train accuracy of Knn Classification is\", accuracy_score(y_train, y_pred_train))"
   ]
  },
  {
   "cell_type": "markdown",
   "metadata": {},
   "source": [
    "with description"
   ]
  },
  {
   "cell_type": "code",
   "execution_count": 136,
   "metadata": {},
   "outputs": [
    {
     "name": "stderr",
     "output_type": "stream",
     "text": [
      "/anaconda3/envs/stan/lib/python3.6/site-packages/ipykernel_launcher.py:3: DataConversionWarning: A column-vector y was passed when a 1d array was expected. Please change the shape of y to (n_samples, ), for example using ravel().\n",
      "  This is separate from the ipykernel package so we can avoid doing imports until\n"
     ]
    },
    {
     "name": "stdout",
     "output_type": "stream",
     "text": [
      "Test accuracy of Knn Classification is 0.3134169111763137\n",
      "Train accuracy of Knn Classification is 0.5403770900035575\n"
     ]
    }
   ],
   "source": [
    "from sklearn.neighbors import KNeighborsClassifier\n",
    "knn = KNeighborsClassifier(n_neighbors=5)\n",
    "knn.fit(X_train, y_train)\n",
    "y_pred_test = knn.predict(X_test)\n",
    "y_pred_train = knn.predict(X_train)\n",
    "print(\"Test accuracy of Knn Classification is\", accuracy_score(y_test, y_pred_test))\n",
    "print(\"Train accuracy of Knn Classification is\", accuracy_score(y_train, y_pred_train))"
   ]
  },
  {
   "cell_type": "code",
   "execution_count": null,
   "metadata": {},
   "outputs": [],
   "source": []
  }
 ],
 "metadata": {
  "kernelspec": {
   "display_name": "Python 3",
   "language": "python",
   "name": "python3"
  },
  "language_info": {
   "codemirror_mode": {
    "name": "ipython",
    "version": 3
   },
   "file_extension": ".py",
   "mimetype": "text/x-python",
   "name": "python",
   "nbconvert_exporter": "python",
   "pygments_lexer": "ipython3",
   "version": "3.6.5"
  }
 },
 "nbformat": 4,
 "nbformat_minor": 2
}
