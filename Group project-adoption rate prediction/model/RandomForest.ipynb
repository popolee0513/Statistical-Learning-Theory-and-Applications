{
 "cells": [
  {
   "cell_type": "code",
   "execution_count": 1,
   "metadata": {},
   "outputs": [],
   "source": [
    "import pandas as pd\n",
    "import numpy as np\n",
    "import os"
   ]
  },
  {
   "cell_type": "code",
   "execution_count": 2,
   "metadata": {},
   "outputs": [],
   "source": [
    "data=pd.read_csv(path+\"\\\\data\\\\data.csv\")"
   ]
  },
  {
   "cell_type": "code",
   "execution_count": 3,
   "metadata": {},
   "outputs": [
    {
     "data": {
      "text/plain": [
       "Index(['Type', 'Name', 'Breed1', 'Gender', 'Color1', 'Color2', 'Color3',\n",
       "       'MaturitySize', 'FurLength', 'Vaccinated', 'Dewormed', 'Sterilized',\n",
       "       'Health', 'Fee', 'VideoAmt', 'PhotoAmt', 'AdoptionSpeed', 'newAge',\n",
       "       'state_gdp', 'state_population', 'TSVD_0', 'TSVD_1', 'TSVD_2', 'TSVD_3',\n",
       "       'TSVD_4', 'TSVD_5', 'TSVD_6', 'TSVD_7', 'TSVD_8', 'TSVD_9', 'TSVD_10',\n",
       "       'TSVD_11', 'TSVD_12', 'TSVD_13', 'TSVD_14', 'TSVD_15', 'TSVD_16',\n",
       "       'TSVD_17', 'TSVD_18', 'TSVD_19', 'TSVD_20', 'TSVD_21', 'TSVD_22',\n",
       "       'TSVD_23', 'TSVD_24', 'TSVD_25', 'TSVD_26', 'TSVD_27', 'TSVD_28',\n",
       "       'TSVD_29', 'TSVD_30', 'TSVD_31', 'TSVD_32', 'TSVD_33', 'TSVD_34',\n",
       "       'TSVD_35', 'TSVD_36', 'TSVD_37', 'TSVD_38', 'TSVD_39', 'TSVD_40',\n",
       "       'TSVD_41', 'TSVD_42', 'TSVD_43', 'TSVD_44', 'TSVD_45', 'TSVD_46',\n",
       "       'TSVD_47', 'TSVD_48', 'TSVD_49', '95481e953f8aed9ec3d16fc4509537e8',\n",
       "       'aa66486163b6cbc25ea62a34b11c9b91', 'b53c34474d9e24574bcec6a3d3306a0d',\n",
       "       'b770bac0ca797cf1433c48a35d30c4cb', 'c00756f2bdd8fa88fc9f07a8309f7d5d',\n",
       "       'ee2747ce26468ec44c7194e7d1d9dad9', 'fa90fa5b1ee11c86938398b60abc32cb',\n",
       "       'others', 'desc_len'],\n",
       "      dtype='object')"
      ]
     },
     "execution_count": 3,
     "metadata": {},
     "output_type": "execute_result"
    }
   ],
   "source": [
    "data.columns"
   ]
  },
  {
   "cell_type": "code",
   "execution_count": 4,
   "metadata": {},
   "outputs": [],
   "source": [
    "y = data['AdoptionSpeed']\n",
    "data.drop('AdoptionSpeed',axis=1,inplace=True)"
   ]
  },
  {
   "cell_type": "code",
   "execution_count": 5,
   "metadata": {},
   "outputs": [],
   "source": [
    "from sklearn.model_selection import train_test_split\n",
    "X_train, X_test, y_train, y_test = train_test_split(data, y, test_size=0.25, random_state=42)"
   ]
  },
  {
   "cell_type": "code",
   "execution_count": 6,
   "metadata": {},
   "outputs": [
    {
     "data": {
      "text/plain": [
       "(11244, 78)"
      ]
     },
     "execution_count": 6,
     "metadata": {},
     "output_type": "execute_result"
    }
   ],
   "source": [
    "X_train.shape"
   ]
  },
  {
   "cell_type": "code",
   "execution_count": 7,
   "metadata": {},
   "outputs": [
    {
     "data": {
      "text/plain": [
       "(3749, 78)"
      ]
     },
     "execution_count": 7,
     "metadata": {},
     "output_type": "execute_result"
    }
   ],
   "source": [
    "X_test.shape"
   ]
  },
  {
   "cell_type": "code",
   "execution_count": 8,
   "metadata": {},
   "outputs": [
    {
     "data": {
      "text/plain": [
       "(11244,)"
      ]
     },
     "execution_count": 8,
     "metadata": {},
     "output_type": "execute_result"
    }
   ],
   "source": [
    "y_train.shape"
   ]
  },
  {
   "cell_type": "code",
   "execution_count": 9,
   "metadata": {},
   "outputs": [
    {
     "data": {
      "text/plain": [
       "(3749,)"
      ]
     },
     "execution_count": 9,
     "metadata": {},
     "output_type": "execute_result"
    }
   ],
   "source": [
    "y_test.shape"
   ]
  },
  {
   "cell_type": "markdown",
   "metadata": {},
   "source": [
    "## RandomForest"
   ]
  },
  {
   "cell_type": "code",
   "execution_count": 32,
   "metadata": {},
   "outputs": [],
   "source": [
    "from sklearn.ensemble import RandomForestClassifier\n",
    "from sklearn.metrics import accuracy_score"
   ]
  },
  {
   "cell_type": "code",
   "execution_count": 43,
   "metadata": {},
   "outputs": [],
   "source": [
    "n_estimators = [30, 50, 100, 150, 200, 250, 300, 350, 400, 450, 500, 550, 600, 650, 700, 800, 900, 1000]"
   ]
  },
  {
   "cell_type": "code",
   "execution_count": 44,
   "metadata": {},
   "outputs": [],
   "source": [
    "train_scores = []\n",
    "test_scores = []\n",
    "predictions = []\n",
    "feature_importances = []"
   ]
  },
  {
   "cell_type": "code",
   "execution_count": 45,
   "metadata": {},
   "outputs": [],
   "source": [
    "for n in n_estimators:\n",
    "    clf = RandomForestClassifier(n_estimators=n)\n",
    "    clf.fit(X_train, y_train)\n",
    "    # feature_importances\n",
    "    feature_importances.append(clf.feature_importances_)\n",
    "    # traning data score\n",
    "    prediction = clf.predict(X_test)\n",
    "    predictions.append(prediction)\n",
    "    test_scores.append(accuracy_score(y_test, prediction))\n",
    "    # test data score\n",
    "    score = clf.score(X_train, y_train)\n",
    "    train_scores.append(score)"
   ]
  },
  {
   "cell_type": "code",
   "execution_count": 46,
   "metadata": {},
   "outputs": [
    {
     "data": {
      "text/plain": [
       "[0.9982212735681252,\n",
       " 0.998310209889719,\n",
       " 0.9983991462113126,\n",
       " 0.9983991462113126,\n",
       " 0.9983991462113126,\n",
       " 0.9983991462113126,\n",
       " 0.9983991462113126,\n",
       " 0.9983991462113126,\n",
       " 0.9983991462113126,\n",
       " 0.9983991462113126,\n",
       " 0.9983991462113126,\n",
       " 0.9983991462113126,\n",
       " 0.9983991462113126,\n",
       " 0.9983991462113126,\n",
       " 0.9983991462113126,\n",
       " 0.9983991462113126,\n",
       " 0.9983991462113126,\n",
       " 0.9983991462113126]"
      ]
     },
     "execution_count": 46,
     "metadata": {},
     "output_type": "execute_result"
    }
   ],
   "source": [
    "train_scores"
   ]
  },
  {
   "cell_type": "code",
   "execution_count": 47,
   "metadata": {},
   "outputs": [
    {
     "data": {
      "text/plain": [
       "[0.40090690850893573,\n",
       " 0.4382502000533476,\n",
       " 0.4382502000533476,\n",
       " 0.44785276073619634,\n",
       " 0.4462523339557215,\n",
       " 0.44358495598826353,\n",
       " 0.45638837023206186,\n",
       " 0.4601226993865031,\n",
       " 0.4585222726060283,\n",
       " 0.4529207788743665,\n",
       " 0.45612163243531606,\n",
       " 0.4579887970125367,\n",
       " 0.4531875166711123,\n",
       " 0.4571885836222993,\n",
       " 0.4547879434515871,\n",
       " 0.4537209922646039,\n",
       " 0.4577220592157909,\n",
       " 0.4547879434515871]"
      ]
     },
     "execution_count": 47,
     "metadata": {},
     "output_type": "execute_result"
    }
   ],
   "source": [
    "test_scores"
   ]
  },
  {
   "cell_type": "code",
   "execution_count": 48,
   "metadata": {},
   "outputs": [],
   "source": [
    "import scipy.interpolate as interpolate"
   ]
  },
  {
   "cell_type": "code",
   "execution_count": 54,
   "metadata": {},
   "outputs": [],
   "source": [
    "xnew = np.arange(30, 1000, 5)\n",
    "func = interpolate.interp1d(n_estimators, test_scores, kind='cubic')\n",
    "ynew = func(xnew)"
   ]
  },
  {
   "cell_type": "code",
   "execution_count": 64,
   "metadata": {},
   "outputs": [
    {
     "data": {
      "image/png": "[encoded data removed]",
      "text/plain": [
       "<Figure size 720x432 with 1 Axes>"
      ]
     },
     "metadata": {},
     "output_type": "display_data"
    }
   ],
   "source": [
    "import matplotlib.pyplot as plt\n",
    "%matplotlib inline\n",
    "plt.rcParams[\"figure.figsize\"] = (10, 6)\n",
    "plt.plot(xnew, ynew)\n",
    "plt.show()"
   ]
  },
  {
   "cell_type": "code",
   "execution_count": 62,
   "metadata": {},
   "outputs": [
    {
     "data": {
      "text/plain": [
       "<matplotlib.axes._subplots.AxesSubplot at 0x10e3a8ba8>"
      ]
     },
     "execution_count": 62,
     "metadata": {},
     "output_type": "execute_result"
    },
    {
     "data": {
      "image/png": "[encoded data removed]",
      "text/plain": [
       "<Figure size 720x576 with 1 Axes>"
      ]
     },
     "metadata": {},
     "output_type": "display_data"
    }
   ],
   "source": [
    "### choose highest score tree to plot feature importance\n",
    "plt.rcParams[\"figure.figsize\"] = (10, 8)\n",
    "feat_importances = pd.Series(feature_importances[7], index=data.columns)\n",
    "feat_importances.nlargest(15).plot(kind='barh')"
   ]
  },
  {
   "cell_type": "code",
   "execution_count": 67,
   "metadata": {},
   "outputs": [
    {
     "name": "stderr",
     "output_type": "stream",
     "text": [
      "/anaconda3/lib/python3.6/site-packages/ipykernel_launcher.py:2: FutureWarning: The signature of `Series.to_csv` was aligned to that of `DataFrame.to_csv`, and argument 'header' will change its default value from False to True: please pass an explicit value to suppress this warning.\n",
      "  \n"
     ]
    }
   ],
   "source": [
    "RF_prediction = pd.Series(predictions[7])\n",
    "RF_prediction.to_csv(path+'\\\\result\\\\RF_prediction.csv', index=False)"
   ]
  },
  {
   "cell_type": "code",
   "execution_count": null,
   "metadata": {},
   "outputs": [],
   "source": []
  }
 ],
 "metadata": {
  "kernelspec": {
   "display_name": "Python 3",
   "language": "python",
   "name": "python3"
  },
  "language_info": {
   "codemirror_mode": {
    "name": "ipython",
    "version": 3
   },
   "file_extension": ".py",
   "mimetype": "text/x-python",
   "name": "python",
   "nbconvert_exporter": "python",
   "pygments_lexer": "ipython3",
   "version": "3.6.5"
  }
 },
 "nbformat": 4,
 "nbformat_minor": 2
}
