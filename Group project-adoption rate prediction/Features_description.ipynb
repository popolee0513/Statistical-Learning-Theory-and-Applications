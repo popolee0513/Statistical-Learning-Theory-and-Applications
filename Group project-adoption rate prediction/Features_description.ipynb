{
 "cells": [
  {
   "cell_type": "code",
   "execution_count": 1,
   "metadata": {},
   "outputs": [],
   "source": [
    "import pandas as pd"
   ]
  },
  {
   "cell_type": "code",
   "execution_count": 2,
   "metadata": {},
   "outputs": [],
   "source": [
    "train = pd.read_csv(\"data/train.csv\")\n",
    "test = pd.read_csv(\"data/test/test.csv\")"
   ]
  },
  {
   "cell_type": "code",
   "execution_count": 3,
   "metadata": {},
   "outputs": [
    {
     "name": "stdout",
     "output_type": "stream",
     "text": [
      "(14993, 24)\n",
      "(3972, 23)\n"
     ]
    }
   ],
   "source": [
    "print(train.shape)\n",
    "print(test.shape)"
   ]
  },
  {
   "cell_type": "code",
   "execution_count": 4,
   "metadata": {},
   "outputs": [],
   "source": [
    "train_des = train[\"Description\"]\n",
    "test_des = test[\"Description\"]"
   ]
  },
  {
   "cell_type": "markdown",
   "metadata": {},
   "source": [
    "#### include training and testing data"
   ]
  },
  {
   "cell_type": "code",
   "execution_count": 5,
   "metadata": {},
   "outputs": [],
   "source": [
    "description = train_des.append(test_des)"
   ]
  },
  {
   "cell_type": "code",
   "execution_count": 6,
   "metadata": {},
   "outputs": [
    {
     "data": {
      "text/plain": [
       "(18965,)"
      ]
     },
     "execution_count": 6,
     "metadata": {},
     "output_type": "execute_result"
    }
   ],
   "source": [
    "description.shape"
   ]
  },
  {
   "cell_type": "code",
   "execution_count": 7,
   "metadata": {},
   "outputs": [
    {
     "data": {
      "text/plain": [
       "0    Nibble is a 3+ month old ball of cuteness. He ...\n",
       "1    I just found it alone yesterday near my apartm...\n",
       "2    Their pregnant mother was dumped by her irresp...\n",
       "3    Good guard dog, very alert, active, obedience ...\n",
       "4    This handsome yet cute boy is up for adoption....\n",
       "Name: Description, dtype: object"
      ]
     },
     "execution_count": 7,
     "metadata": {},
     "output_type": "execute_result"
    }
   ],
   "source": [
    "description.head()"
   ]
  },
  {
   "cell_type": "code",
   "execution_count": 8,
   "metadata": {},
   "outputs": [
    {
     "data": {
      "text/plain": [
       "3967    Found on the streets. Treated for mange. They ...\n",
       "3968    Very good guard dog. Healthy was found in Fron...\n",
       "3969    these cat's mother was killed when they was ne...\n",
       "3970    smokey is good family pet. very obedient,so lo...\n",
       "3971    Found abandoned with the mother at nearby shop...\n",
       "Name: Description, dtype: object"
      ]
     },
     "execution_count": 8,
     "metadata": {},
     "output_type": "execute_result"
    }
   ],
   "source": [
    "description.tail()"
   ]
  },
  {
   "cell_type": "markdown",
   "metadata": {},
   "source": [
    "#### deal with nan"
   ]
  },
  {
   "cell_type": "code",
   "execution_count": 9,
   "metadata": {},
   "outputs": [
    {
     "data": {
      "text/plain": [
       "13"
      ]
     },
     "execution_count": 9,
     "metadata": {},
     "output_type": "execute_result"
    }
   ],
   "source": [
    "description.isnull().sum()"
   ]
  },
  {
   "cell_type": "code",
   "execution_count": 10,
   "metadata": {},
   "outputs": [],
   "source": [
    "description.fillna(' ', inplace=True)"
   ]
  },
  {
   "cell_type": "code",
   "execution_count": 11,
   "metadata": {},
   "outputs": [
    {
     "data": {
      "text/plain": [
       "0"
      ]
     },
     "execution_count": 11,
     "metadata": {},
     "output_type": "execute_result"
    }
   ],
   "source": [
    "description.isnull().sum()"
   ]
  },
  {
   "cell_type": "code",
   "execution_count": 12,
   "metadata": {},
   "outputs": [],
   "source": [
    "def is_chinese(uchar):         \n",
    "    if u'\\u4e00' <= uchar<=u'\\u9fff':\n",
    "        return True\n",
    "    else:\n",
    "        return False"
   ]
  },
  {
   "cell_type": "markdown",
   "metadata": {},
   "source": [
    "#### divide data into two to avoid get banned by translater"
   ]
  },
  {
   "cell_type": "code",
   "execution_count": 13,
   "metadata": {},
   "outputs": [
    {
     "name": "stdout",
     "output_type": "stream",
     "text": [
      "9500\n"
     ]
    }
   ],
   "source": [
    "first_seg = description[:9500]\n",
    "print(len(first_seg))"
   ]
  },
  {
   "cell_type": "code",
   "execution_count": 14,
   "metadata": {},
   "outputs": [
    {
     "name": "stdout",
     "output_type": "stream",
     "text": [
      "9465\n"
     ]
    }
   ],
   "source": [
    "second_seg = description[9500:]\n",
    "print(len(second_seg))"
   ]
  },
  {
   "cell_type": "markdown",
   "metadata": {},
   "source": [
    "#### translate chinese description into English"
   ]
  },
  {
   "cell_type": "code",
   "execution_count": 15,
   "metadata": {},
   "outputs": [],
   "source": [
    "from googletrans import Translator"
   ]
  },
  {
   "cell_type": "code",
   "execution_count": 16,
   "metadata": {},
   "outputs": [],
   "source": [
    "translator = Translator()"
   ]
  },
  {
   "cell_type": "code",
   "execution_count": 17,
   "metadata": {},
   "outputs": [],
   "source": [
    "def get_translation(ori_text):\n",
    "    texts = ori_text.copy()\n",
    "    for i, tx in enumerate(texts):\n",
    "\n",
    "        isChinese = is_chinese(tx)\n",
    "        if isChinese:\n",
    "            try:\n",
    "                trans_obj = translator.translate(tx, dest='en', src='zh-cn')\n",
    "                texts.iloc[i] = trans_obj.text\n",
    "            except BaseException as e:\n",
    "                print(\"trans_err: \", i, tx)\n",
    "                print(e)\n",
    "        else:\n",
    "            pass\n",
    "    return texts"
   ]
  },
  {
   "cell_type": "code",
   "execution_count": 18,
   "metadata": {},
   "outputs": [
    {
     "name": "stdout",
     "output_type": "stream",
     "text": [
      "trans_err:  7255 好乖的猫咪，不舍得让她在外面流浪，希望您可以给她一个温暖的家，感恩🙏🏻 A very gentle and sweet kitty,hope you can give her a forever home, thank you.\n",
      "Expecting value: line 1 column 1 (char 0)\n"
     ]
    }
   ],
   "source": [
    "translation_list = get_translation(first_seg)"
   ]
  },
  {
   "cell_type": "code",
   "execution_count": 19,
   "metadata": {},
   "outputs": [],
   "source": [
    "### manually translate description with error\n",
    "translation_list.iloc[7255] = \"A very gentle and sweet kitty,hope you can give her a forever home, thank you.\""
   ]
  },
  {
   "cell_type": "code",
   "execution_count": 20,
   "metadata": {},
   "outputs": [
    {
     "name": "stdout",
     "output_type": "stream",
     "text": [
      "trans_err:  1875 有人要领养猫咪吗？ 大概6,7个月，母猫，已结扎，打了第一支预防针，一星期后要原放了。每一次要原放猫咪心情都七上八下的，很不忍心，无奈！唉！希望有缘人可以给孩子一个🏠。 蒲种区........\n",
      "Expecting value: line 1 column 1 (char 0)\n"
     ]
    }
   ],
   "source": [
    "translation_list1 = get_translation(second_seg)"
   ]
  },
  {
   "cell_type": "code",
   "execution_count": 21,
   "metadata": {},
   "outputs": [],
   "source": [
    "### manually translate description with error\n",
    "translation_list1.iloc[1875] = 'Does anyone want to adopt a cat? About 6 or 7 months, the female cat, has been ligated, hit the first vaccination, and will be released in a week. Every time I want to put my cat in the mood, I can’t bear it, but I can’t help it! Ugh! I hope that some people can give their children a jealousy. Puchong District'"
   ]
  },
  {
   "cell_type": "markdown",
   "metadata": {},
   "source": [
    "#### combine all translated data and check head and tail content"
   ]
  },
  {
   "cell_type": "code",
   "execution_count": 22,
   "metadata": {},
   "outputs": [
    {
     "name": "stdout",
     "output_type": "stream",
     "text": [
      "18965\n"
     ]
    }
   ],
   "source": [
    "after_trans = translation_list.append(translation_list1)\n",
    "print(len(after_trans))"
   ]
  },
  {
   "cell_type": "code",
   "execution_count": 23,
   "metadata": {},
   "outputs": [
    {
     "data": {
      "text/plain": [
       "0    Nibble is a 3+ month old ball of cuteness. He ...\n",
       "1    I just found it alone yesterday near my apartm...\n",
       "2    Their pregnant mother was dumped by her irresp...\n",
       "3    Good guard dog, very alert, active, obedience ...\n",
       "4    This handsome yet cute boy is up for adoption....\n",
       "Name: Description, dtype: object"
      ]
     },
     "execution_count": 23,
     "metadata": {},
     "output_type": "execute_result"
    }
   ],
   "source": [
    "after_trans.head()"
   ]
  },
  {
   "cell_type": "code",
   "execution_count": 24,
   "metadata": {},
   "outputs": [
    {
     "data": {
      "text/plain": [
       "3967    Found on the streets. Treated for mange. They ...\n",
       "3968    Very good guard dog. Healthy was found in Fron...\n",
       "3969    these cat's mother was killed when they was ne...\n",
       "3970    smokey is good family pet. very obedient,so lo...\n",
       "3971    Found abandoned with the mother at nearby shop...\n",
       "Name: Description, dtype: object"
      ]
     },
     "execution_count": 24,
     "metadata": {},
     "output_type": "execute_result"
    }
   ],
   "source": [
    "after_trans.tail()"
   ]
  },
  {
   "cell_type": "markdown",
   "metadata": {},
   "source": [
    "#### add translated description into datafram"
   ]
  },
  {
   "cell_type": "code",
   "execution_count": 25,
   "metadata": {},
   "outputs": [],
   "source": [
    "def add_to_df(data, c_name):\n",
    "    train_split = data[:14993]\n",
    "    test_split = data[14993:]\n",
    "    train[c_name] = train_split.values\n",
    "    test[c_name] = test_split.values\n",
    "    print(train.head(2))\n",
    "    print(test.head(2))"
   ]
  },
  {
   "cell_type": "code",
   "execution_count": 26,
   "metadata": {},
   "outputs": [
    {
     "name": "stdout",
     "output_type": "stream",
     "text": [
      "   Type         Name  Age  Breed1  Breed2  Gender  Color1  Color2  Color3  \\\n",
      "0     2       Nibble    3     299       0       1       1       7       0   \n",
      "1     2  No Name Yet    1     265       0       1       1       2       0   \n",
      "\n",
      "   MaturitySize  ...  Quantity  Fee  State                         RescuerID  \\\n",
      "0             1  ...         1  100  41326  8480853f516546f6cf33aa88cd76c379   \n",
      "1             2  ...         1    0  41401  3082c7125d8fb66f7dd4bff4192c8b14   \n",
      "\n",
      "   VideoAmt                                        Description      PetID  \\\n",
      "0         0  Nibble is a 3+ month old ball of cuteness. He ...  86e1089a3   \n",
      "1         0  I just found it alone yesterday near my apartm...  6296e909a   \n",
      "\n",
      "   PhotoAmt AdoptionSpeed                                         trans_desc  \n",
      "0       1.0             2  Nibble is a 3+ month old ball of cuteness. He ...  \n",
      "1       2.0             0  I just found it alone yesterday near my apartm...  \n",
      "\n",
      "[2 rows x 25 columns]\n",
      "   Type          Name  Age  Breed1  Breed2  Gender  Color1  Color2  Color3  \\\n",
      "0     2  Dopey & Grey    8     266     266       1       2       6       7   \n",
      "1     2       Chi Chi   36     285     264       2       1       4       7   \n",
      "\n",
      "   MaturitySize  ...  Health  Quantity  Fee  State  \\\n",
      "0             1  ...       1         2    0  41326   \n",
      "1             2  ...       2         1    0  41326   \n",
      "\n",
      "                          RescuerID  VideoAmt  \\\n",
      "0  2ece3b2573dcdcebd774e635dca15fd9         0   \n",
      "1  2ece3b2573dcdcebd774e635dca15fd9         0   \n",
      "\n",
      "                                         Description      PetID PhotoAmt  \\\n",
      "0  Dopey Age: 8mths old Male One half of a pair, ...  e2dfc2935      2.0   \n",
      "1  Please note that Chichi has been neutered, the...  f153b465f      1.0   \n",
      "\n",
      "                                          trans_desc  \n",
      "0  Dopey Age: 8mths old Male One half of a pair, ...  \n",
      "1  Please note that Chichi has been neutered, the...  \n",
      "\n",
      "[2 rows x 24 columns]\n"
     ]
    }
   ],
   "source": [
    "add_to_df(after_trans, 'trans_desc')"
   ]
  },
  {
   "cell_type": "code",
   "execution_count": 27,
   "metadata": {},
   "outputs": [],
   "source": [
    "# stop_w = {'had', '?', 'couldn', 'own', 'he', 'these', 'hasn', 'nor', 'dog', 'down', 'by', 'wasn', 'his', 'ours',\n",
    "#               'are', 'Please', '&', '3', 'until', 'aren', \"you'll\", 'theirs', 'why', 'further', 'yourself',\n",
    "#               'ourselves', '==================================================', 'give', 'again', \"shouldn't\",\n",
    "#               '...', \"won't\", 'against', 'off', 'o', 'ma', 'her', 'once', 'haven', 'have', '.', 'itself', \"you'd\",\n",
    "#               'them', 'm', 'those', 'has', 'out', 'because', 'it', 'from', 'when', 'hers', 'for', 've', \"mustn't\",\n",
    "#               'needn', \"you've\", 'himself', 'where', 'each', 'does', \"couldn't\", \"hadn't\", 'with', \"n't\", 'am',\n",
    "#               'should', \"you're\", ')', 'our', \"shan't\", \"she's\", 'isn', 'your', 'there', 'its', 'after', 'is',\n",
    "#               'yourselves', 'all', 'which', 'and', \"haven't\", 'more', 'up', 'mustn', 'not', 'an', 'before', 'you',\n",
    "#               'some', \"wouldn't\", 'find', 'were', 'she', 'what', 'both', 'or', 'shan', 'such', 'the', 'we',\n",
    "#               \"mightn't\", 'that', \"'s\", 'as', 'herself', 'too', 'if', \"didn't\", 'while', 's', 'this', 'only', 'under',\n",
    "#               'during', 'mightn', '-', 'puppy', 'did', \"aren't\", 'of', 'shouldn', \"that'll\", 'any', 'few', 'about',\n",
    "#               'i', 'ain', \"don't\", 'below', 'in', 'their', 'being', \"hasn't\", 'This', 'above', 'She', '2', 'will',\n",
    "#               'yours', ',', 'was', 'didn', 'kitten', 'into', 'hadn', 'me', 'll', 'been', 'can', \"needn't\", 'through',\n",
    "#               'The', 'weren', '(', 'they', 'most', 'just', 'but', 'd', 'I', 'who', ':', 'other', 'very',\n",
    "#               'found', 'themselves', '--', '!', 'home', 'same', 'than', \"should've\", 'a', 'so', 'how', 'doesn',\n",
    "#               'between', 'won', \"/'\", 'He', 'wouldn', 'whom', 'him', 'We', \"weren't\", 'no', 'take', 'over', \"wasn't\",\n",
    "#               'to', 'be', 'now', 'cat', 're', \"it's\", 'having', \"doesn't\", 'don', 'at', 'on', 'then', 'myself', 'here',\n",
    "#               \"isn't\", 'y', 'please', 'do', 't', 'doing', 'my', 'cats', 'xx',\n",
    "#           '___________________________________________________'}"
   ]
  },
  {
   "cell_type": "markdown",
   "metadata": {},
   "source": [
    "#### TF-IDF and decomposition (here we get first 10 components)"
   ]
  },
  {
   "cell_type": "code",
   "execution_count": 27,
   "metadata": {},
   "outputs": [],
   "source": [
    "# tfidf\n",
    "from sklearn.feature_extraction.text import TfidfVectorizer\n",
    "vectorizer = TfidfVectorizer(stop_words = 'english', min_df = 0.03)\n",
    "tfidf = vectorizer.fit_transform(after_trans)"
   ]
  },
  {
   "cell_type": "code",
   "execution_count": 28,
   "metadata": {},
   "outputs": [],
   "source": [
    "from sklearn.decomposition import TruncatedSVD\n",
    "n_components = 100\n",
    "tsvd = TruncatedSVD(n_components=n_components)\n",
    "tsvd_result = tsvd.fit_transform(tfidf)"
   ]
  },
  {
   "cell_type": "code",
   "execution_count": 29,
   "metadata": {},
   "outputs": [
    {
     "name": "stdout",
     "output_type": "stream",
     "text": [
      "(18965, 100)\n",
      "[0.01071213 0.02892911 0.02756955 0.02452338 0.01882002 0.01862574\n",
      " 0.01693355 0.01539339 0.01471959 0.01412999 0.01399633 0.01385101\n",
      " 0.01373969 0.01309817 0.0124615  0.01209028 0.01170602 0.01142621\n",
      " 0.01123687 0.01090908 0.01060678 0.01036192 0.01030329 0.01003128\n",
      " 0.00999283 0.00984638 0.00948974 0.00945657 0.00931554 0.00919457\n",
      " 0.0090966  0.00893956 0.00870177 0.00844811 0.00837035 0.00824876\n",
      " 0.00816253 0.00798287 0.00795346 0.00772559 0.00764185 0.00757077\n",
      " 0.00741161 0.00725917 0.00722453 0.00715738 0.00704053 0.00692393\n",
      " 0.00678426 0.00673337 0.00666859 0.00657107 0.00649423 0.00647099\n",
      " 0.00641897 0.00634278 0.00623371 0.00620686 0.00616674 0.00607102\n",
      " 0.00606768 0.00604848 0.00587693 0.00585102 0.00581999 0.00575285\n",
      " 0.00569299 0.0056003  0.00556028 0.00548377 0.00543796 0.00539539\n",
      " 0.00532816 0.00521701 0.00515791 0.00508675 0.00505039 0.00501883\n",
      " 0.00493436 0.00491358 0.00485744 0.00485121 0.00475495 0.00467481\n",
      " 0.00465134 0.00457923 0.00454593 0.00449648 0.00443563 0.00441322\n",
      " 0.00435585 0.00434203 0.00426475 0.0042108  0.00417672 0.00412036\n",
      " 0.00407273 0.00404607 0.00402535 0.00397493]\n",
      "[[ 0.32888227 -0.10391408  0.14000606 ... -0.05586505  0.07098585\n",
      "  -0.03886623]\n",
      " [ 0.20154185 -0.07713001 -0.02945629 ...  0.024137   -0.02691068\n",
      "   0.02940752]\n",
      " [ 0.34384691 -0.04949828 -0.09554191 ... -0.04418511 -0.06240603\n",
      "  -0.06975164]\n",
      " ...\n",
      " [ 0.28087664 -0.09305295  0.17761492 ...  0.05367606  0.0123195\n",
      "  -0.00630965]\n",
      " [ 0.25019888 -0.08763991 -0.06132526 ...  0.02040782  0.01071805\n",
      "  -0.04948713]\n",
      " [ 0.08744657 -0.01959565  0.02892164 ... -0.00874679 -0.02496579\n",
      "   0.07370529]]\n"
     ]
    }
   ],
   "source": [
    "print(tsvd_result.shape)\n",
    "print(tsvd.explained_variance_ratio_)\n",
    "print(tsvd_result)"
   ]
  },
  {
   "cell_type": "markdown",
   "metadata": {},
   "source": [
    "#### add 10 components into data"
   ]
  },
  {
   "cell_type": "code",
   "execution_count": 30,
   "metadata": {},
   "outputs": [
    {
     "name": "stdout",
     "output_type": "stream",
     "text": [
      "   Type         Name  Age  Breed1  Breed2  Gender  Color1  Color2  Color3  \\\n",
      "0     2       Nibble    3     299       0       1       1       7       0   \n",
      "1     2  No Name Yet    1     265       0       1       1       2       0   \n",
      "\n",
      "   MaturitySize  ...   TSVD_90   TSVD_91   TSVD_92   TSVD_93   TSVD_94  \\\n",
      "0             1  ...  0.011548 -0.017540 -0.032603 -0.015945 -0.049061   \n",
      "1             2  ... -0.030080  0.094446 -0.207372 -0.048833  0.103322   \n",
      "\n",
      "    TSVD_95   TSVD_96   TSVD_97   TSVD_98   TSVD_99  \n",
      "0  0.009972  0.118430 -0.055865  0.070986 -0.038866  \n",
      "1 -0.056185  0.018377  0.024137 -0.026911  0.029408  \n",
      "\n",
      "[2 rows x 125 columns]\n",
      "   Type          Name  Age  Breed1  Breed2  Gender  Color1  Color2  Color3  \\\n",
      "0     2  Dopey & Grey    8     266     266       1       2       6       7   \n",
      "1     2       Chi Chi   36     285     264       2       1       4       7   \n",
      "\n",
      "   MaturitySize  ...   TSVD_90   TSVD_91   TSVD_92   TSVD_93   TSVD_94  \\\n",
      "0             1  ... -0.073407 -0.052432  0.017348 -0.082061  0.131199   \n",
      "1             2  ...  0.022737 -0.041142 -0.047541 -0.075465  0.015056   \n",
      "\n",
      "    TSVD_95   TSVD_96   TSVD_97   TSVD_98   TSVD_99  \n",
      "0 -0.065047 -0.082429 -0.000261 -0.096922  0.015611  \n",
      "1  0.029457  0.055230  0.076640  0.029251 -0.096210  \n",
      "\n",
      "[2 rows x 124 columns]\n"
     ]
    }
   ],
   "source": [
    "for i in range(n_components):\n",
    "    feature_name = 'TSVD_{}'.format(i)\n",
    "    \n",
    "    train_split = tsvd_result[:,i][:14993]\n",
    "    test_split = tsvd_result[:,i][14993:]\n",
    "    train[feature_name] = train_split\n",
    "    test[feature_name] = test_split\n",
    "\n",
    "print(train.head(2))\n",
    "print(test.head(2))"
   ]
  },
  {
   "cell_type": "markdown",
   "metadata": {},
   "source": [
    "#### calculate description length and visualze length distribution"
   ]
  },
  {
   "cell_type": "code",
   "execution_count": 31,
   "metadata": {},
   "outputs": [],
   "source": [
    "description_word_len = after_trans.apply(lambda x: len(x.split(' ')))"
   ]
  },
  {
   "cell_type": "code",
   "execution_count": 32,
   "metadata": {},
   "outputs": [
    {
     "name": "stderr",
     "output_type": "stream",
     "text": [
      "/anaconda3/lib/python3.6/site-packages/matplotlib/axes/_axes.py:6462: UserWarning: The 'normed' kwarg is deprecated, and has been replaced by the 'density' kwarg.\n",
      "  warnings.warn(\"The 'normed' kwarg is deprecated, and has been \"\n"
     ]
    },
    {
     "data": {
      "image/png": "[encoded data removed]",
      "text/plain": [
       "<Figure size 1152x288 with 1 Axes>"
      ]
     },
     "metadata": {},
     "output_type": "display_data"
    }
   ],
   "source": [
    "import seaborn as sns \n",
    "import matplotlib.pyplot as plt\n",
    "%matplotlib inline\n",
    "fig,ax = plt.subplots(figsize=(16,4))\n",
    "ax = sns.distplot(description_word_len)"
   ]
  },
  {
   "cell_type": "code",
   "execution_count": 33,
   "metadata": {},
   "outputs": [
    {
     "name": "stdout",
     "output_type": "stream",
     "text": [
      "   Type         Name  Age  Breed1  Breed2  Gender  Color1  Color2  Color3  \\\n",
      "0     2       Nibble    3     299       0       1       1       7       0   \n",
      "1     2  No Name Yet    1     265       0       1       1       2       0   \n",
      "\n",
      "   MaturitySize  ...   TSVD_91   TSVD_92   TSVD_93   TSVD_94   TSVD_95  \\\n",
      "0             1  ... -0.017540 -0.032603 -0.015945 -0.049061  0.009972   \n",
      "1             2  ...  0.094446 -0.207372 -0.048833  0.103322 -0.056185   \n",
      "\n",
      "    TSVD_96   TSVD_97   TSVD_98   TSVD_99  desc_len  \n",
      "0  0.118430 -0.055865  0.070986 -0.038866        69  \n",
      "1  0.018377  0.024137 -0.026911  0.029408        23  \n",
      "\n",
      "[2 rows x 126 columns]\n",
      "   Type          Name  Age  Breed1  Breed2  Gender  Color1  Color2  Color3  \\\n",
      "0     2  Dopey & Grey    8     266     266       1       2       6       7   \n",
      "1     2       Chi Chi   36     285     264       2       1       4       7   \n",
      "\n",
      "   MaturitySize  ...   TSVD_91   TSVD_92   TSVD_93   TSVD_94   TSVD_95  \\\n",
      "0             1  ... -0.052432  0.017348 -0.082061  0.131199 -0.065047   \n",
      "1             2  ... -0.041142 -0.047541 -0.075465  0.015056  0.029457   \n",
      "\n",
      "    TSVD_96   TSVD_97   TSVD_98   TSVD_99  desc_len  \n",
      "0 -0.082429 -0.000261 -0.096922  0.015611        97  \n",
      "1  0.055230  0.076640  0.029251 -0.096210        77  \n",
      "\n",
      "[2 rows x 125 columns]\n"
     ]
    }
   ],
   "source": [
    "add_to_df(description_word_len, 'desc_len')"
   ]
  },
  {
   "cell_type": "markdown",
   "metadata": {},
   "source": [
    "#### export final data"
   ]
  },
  {
   "cell_type": "code",
   "execution_count": 34,
   "metadata": {},
   "outputs": [],
   "source": [
    "train.to_csv('train_tx.csv', index=False)\n",
    "test.to_csv('text_tx.csv', index=False)"
   ]
  },
  {
   "cell_type": "code",
   "execution_count": null,
   "metadata": {},
   "outputs": [],
   "source": []
  }
 ],
 "metadata": {
  "kernelspec": {
   "display_name": "Python 3",
   "language": "python",
   "name": "python3"
  },
  "language_info": {
   "codemirror_mode": {
    "name": "ipython",
    "version": 3
   },
   "file_extension": ".py",
   "mimetype": "text/x-python",
   "name": "python",
   "nbconvert_exporter": "python",
   "pygments_lexer": "ipython3",
   "version": "3.6.5"
  }
 },
 "nbformat": 4,
 "nbformat_minor": 2
}
