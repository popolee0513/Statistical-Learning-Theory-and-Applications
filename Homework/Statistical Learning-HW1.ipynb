{
 "cells": [
  {
   "cell_type": "markdown",
   "metadata": {},
   "source": [
    "# 統計學習初論 (Spring, 2019)"
   ]
  },
  {
   "cell_type": "markdown",
   "metadata": {},
   "source": [
    "Homework 1"
   ]
  },
  {
   "cell_type": "markdown",
   "metadata": {},
   "source": [
    "截止日期: 9AM, 2019/3/5\n",
    "請將HTML檔上傳至Ceiba作業區。回答作業時建議使用 \"三明治\" 答題法。也就是說，先說明要做什麼，然後列出程式碼與結果，最後說明這些結果的意義。作業自己做。嚴禁抄襲。不接受紙本繳交，不接受遲交。請以英文或中文作答。"
   ]
  },
  {
   "cell_type": "markdown",
   "metadata": {},
   "source": [
    "# 第一題 [myknn_regressor]"
   ]
  },
  {
   "cell_type": "markdown",
   "metadata": {},
   "source": [
    "(50%) K-nearest-neighbors (KNN) is a power method to construct nonparametric regression models. The goal of this question is to construct your own KNN regressor. To simplify the question, we are going to use the \"brute-force\" method to find nearest neighbors. That is, we are not going to use specialized data structures such as the K-D tree to speed up the process. Given a set of N training data points and a pre-defined hyper-parameter k, the prediction for a testing data point xa is computed by locating k data points in the training data that is cloest to xa. If the outcome values of the k nearest neighbors are ya={y1,y2,...,yk}, then the prediction is f(ya), where f is a real-valued function. We are going to consider two possible choices of f. The first option is f(ya)=1/k∑ki=1yi. This is referred to as the \"equal-weight\" case. The other option is to compute the mean after removing outliers. We define outliers as the data points that are outside of [Q1−1.5IQR,Q3+1.5IQR], where Q1 and Q3 are the first and third quantile of ya, and IQR=Q3−Q1. Since quantiles and IQR only make sense when there are enough neighbors, we allow the \"remove_outliers\" only if k>=10. If k<10, use the \"equal_weight\" f even if the user specify the other way.\n",
    "\n",
    "Creat a Python class named myknn_regressor that can do predictions given training data and hyper-parameters. It should take the k as the hyper-parameter for the number of neighbors. Moreover, the user can select f by passing \"equal_weight\" or \"remove_outliers\" to switch between the two possible cases for f.\n",
    "\n",
    "The sample usage should be like the following:"
   ]
  },
  {
   "cell_type": "raw",
   "metadata": {},
   "source": [
    "myknn = myknn_regressor(20, \"remove_outliers\")\n",
    "myknn.fit(X_train, Y_train)\n",
    "ypred = myknn.predict(X_test)"
   ]
  },
  {
   "cell_type": "markdown",
   "metadata": {},
   "source": [
    "The first line initiates an myknn_regressor object with  k=20  and selected \"remove_outliers\" for  f ; the second line train the model and the third line computes prediction.\n",
    "\n",
    "You are only allowed to use numpy in your own myknn_regressor class. You will receive a zero score if you adopted an existing KNN regressor such as those in scikit-learn. The input features and output predictions should be numpy arrays. If there is a tie in selecting neighbors, myknn_regressor should break the tie by choosing the data point that is located closer to the beginning of the training dataset.\n",
    "\n",
    "Dataset\n",
    "\n",
    "We are going to use a subset of the \"Million Songs Dataset\" in this question. The dataset has been pre-processed and the training and testing dataset has been splitted and stored in a dictionary data structure. You can load the data from msd_data1.pickle using pickle.load(). There are four elements in the dictionary: X_train, Y_train, X_test, Y_test. As indicated by their names, these four elements are training and testing data. The outcome variable (i.e.  y ) is the year a song was released, and the features are variables that characterize the sound of a song. The goal is to predict the release year given sound features.\n",
    "\n",
    "Answer the following questions:\n",
    "\n",
    "Q1.1 Create your myknn_regressor.\n",
    "\n",
    "Q1.2 Load data from msd_data1.pickle. You should standardized all feature values so that all features have a zero mean and a unit variance before training a KNN model. Make predictions using  k=20  and \"equal_weight\"  f . List the RMSE and the first 20 predictions in the testing data.\n",
    "\n",
    "Q1.3 Load data from msd_data1.pickle. Standardized all feature values so that all features have a zero mean and unit variance. Make predictions using  k=20  and \"remove_outier\"  f . List the RMSE and the first 20 predictions in the testing data."
   ]
  },
  {
   "cell_type": "code",
   "execution_count": 1,
   "metadata": {},
   "outputs": [],
   "source": [
    "#Q1.1 Create your myknn_regressor."
   ]
  },
  {
   "cell_type": "code",
   "execution_count": 2,
   "metadata": {},
   "outputs": [],
   "source": [
    "import numpy as np\n",
    "class myknn_regressor(object):\n",
    "    def __init__(self,k,method):\n",
    "        self.k =int(k)\n",
    "        self.method=method\n",
    "        if self.k<10:\n",
    "            self.method=\"equal_weight\"\n",
    "    def fit(self, X, y):\n",
    "        self.x=np.array(X)\n",
    "        self.y=np.array(y)\n",
    "    def predict(self,test):\n",
    "        if self.method==\"equal_weight\":\n",
    "            self.output=[]\n",
    "            for i in range(len(test)):\n",
    "                dist=[]\n",
    "                for j in range(len(self.x)):\n",
    "                    d=np.linalg.norm(test[i]-self.x[j])\n",
    "                    dist.append([d,int(j)])\n",
    "                dist=sorted(dist, key = lambda x : x[0])\n",
    "                index=np.array(dist[:self.k])[:,1].astype(\"int\")\n",
    "                self.output.append(self.y[index])\n",
    "            return np.mean(self.output,axis=1)\n",
    "            \n",
    "            \n",
    "        elif self.method==\"remove_outliers\":\n",
    "            self.output=[]\n",
    "            for i in range(len(test)):\n",
    "                dist=[]\n",
    "                for j in range(len(self.x)):\n",
    "                    d=np.linalg.norm(test[i]-self.x[j])\n",
    "                    dist.append([d,j])\n",
    "                dist=sorted(dist, key = lambda x : x[0])\n",
    "                index=np.array(dist[:self.k])[:,1].astype(\"int\")\n",
    "                self.output.append(self.y[index])\n",
    "            self.output=np.array(self.output)\n",
    "            Q1=np.percentile(self.output, 25,axis=1)\n",
    "            Q3=np.percentile(self.output,75,axis=1)\n",
    "            IQR=Q3-Q1\n",
    "            lower=Q1-1.5*IQR\n",
    "            upper=Q3+1.5*IQR\n",
    "            new=[]\n",
    "            for i in range(self.output.shape[0]):\n",
    "                ans=[]\n",
    "                for j in range(self.k):\n",
    "                    if lower[i]<=self.output[i][j]<=upper[i]:\n",
    "                        ans.append(self.output[i][j])\n",
    "                new.append(ans)\n",
    "            ans=[]\n",
    "            for j in range(len(new)):\n",
    "                ans.append(np.mean(new[j]))\n",
    "            return np.array(ans)\n",
    "        else:\n",
    "            print(\"error\")      "
   ]
  },
  {
   "cell_type": "code",
   "execution_count": 3,
   "metadata": {},
   "outputs": [],
   "source": [
    "import pickle\n",
    "infile = open(\"C://Users//POPO//Desktop//msd_data1.pickle\",'rb')\n",
    "new_dict = pickle.load(infile)\n",
    "X_train=new_dict[\"X_train\"]\n",
    "Y_train=new_dict[\"Y_train\"]\n",
    "X_test=new_dict[\"X_test\"]\n",
    "Y_test=new_dict[\"Y_test\"]"
   ]
  },
  {
   "cell_type": "code",
   "execution_count": 4,
   "metadata": {},
   "outputs": [
    {
     "name": "stdout",
     "output_type": "stream",
     "text": [
      "(5000, 90)\n",
      "(5000,)\n",
      "(3000, 90)\n"
     ]
    }
   ],
   "source": [
    "print(X_train.shape)\n",
    "print(Y_train.shape)\n",
    "print(X_test.shape)"
   ]
  },
  {
   "cell_type": "code",
   "execution_count": 5,
   "metadata": {},
   "outputs": [],
   "source": [
    "#Q1.2 Load data from msd_data1.pickle. \n",
    "#You should standardized all feature values so that all features have a zero mean and a unit variance before training a KNN model. \n",
    "#Make predictions using k=20 and \"equal_weight\" f . List the RMSE and the first 20 predictions in the testing data."
   ]
  },
  {
   "cell_type": "code",
   "execution_count": 6,
   "metadata": {},
   "outputs": [],
   "source": [
    "X_train=(X_train-np.mean(X_train,axis=0))/np.std(X_train,axis=0)\n",
    "X_test=(X_test-np.mean(X_train,axis=0))/np.std(X_train,axis=0)"
   ]
  },
  {
   "cell_type": "code",
   "execution_count": 7,
   "metadata": {},
   "outputs": [],
   "source": [
    "myknn = myknn_regressor(20, \"equal_weight\")\n",
    "myknn.fit(X_train, Y_train)\n",
    "ypred=myknn.predict(X_test)"
   ]
  },
  {
   "cell_type": "code",
   "execution_count": 8,
   "metadata": {},
   "outputs": [
    {
     "data": {
      "text/plain": [
       "array([2000.1 , 2002.55, 2001.8 , 1998.6 , 1999.75, 1998.5 , 2003.25,\n",
       "       2001.8 , 2003.2 , 1999.85, 2000.4 , 2000.95, 2000.15, 2000.6 ,\n",
       "       2003.15, 2002.2 , 1999.2 , 2000.  , 1999.1 , 2004.05])"
      ]
     },
     "execution_count": 8,
     "metadata": {},
     "output_type": "execute_result"
    }
   ],
   "source": [
    "ypred[:20]"
   ]
  },
  {
   "cell_type": "code",
   "execution_count": 9,
   "metadata": {},
   "outputs": [
    {
     "data": {
      "text/plain": [
       "11.410289435417491"
      ]
     },
     "execution_count": 9,
     "metadata": {},
     "output_type": "execute_result"
    }
   ],
   "source": [
    "from sklearn.metrics import mean_squared_error\n",
    "from math import sqrt\n",
    "rms = sqrt(mean_squared_error(ypred, Y_test))\n",
    "rms"
   ]
  },
  {
   "cell_type": "code",
   "execution_count": 10,
   "metadata": {},
   "outputs": [],
   "source": [
    "#Q1.3 Load data from msd_data1.pickle. Standardized all feature values so that all features have a zero mean and unit variance. \n",
    "#Make predictions using k=20 and \"remove_outier\" f . List the RMSE and the first 20 predictions in the testing data."
   ]
  },
  {
   "cell_type": "code",
   "execution_count": 11,
   "metadata": {},
   "outputs": [],
   "source": [
    "myknn = myknn_regressor(20, \"remove_outliers\")\n",
    "myknn.fit(X_train, Y_train)\n",
    "ypred = myknn.predict(X_test)"
   ]
  },
  {
   "cell_type": "code",
   "execution_count": 12,
   "metadata": {},
   "outputs": [
    {
     "data": {
      "text/plain": [
       "array([2003.55555556, 2004.61111111, 2002.89473684, 2000.78947368,\n",
       "       2003.16666667, 2001.77777778, 2004.66666667, 2002.89473684,\n",
       "       2004.61111111, 2002.10526316, 2002.68421053, 2003.26315789,\n",
       "       2003.61111111, 2002.89473684, 2004.        , 2002.2       ,\n",
       "       2002.55555556, 2003.44444444, 2002.44444444, 2006.52941176])"
      ]
     },
     "execution_count": 12,
     "metadata": {},
     "output_type": "execute_result"
    }
   ],
   "source": [
    "ypred[:20]"
   ]
  },
  {
   "cell_type": "code",
   "execution_count": 13,
   "metadata": {},
   "outputs": [
    {
     "data": {
      "text/plain": [
       "11.948127186003665"
      ]
     },
     "execution_count": 13,
     "metadata": {},
     "output_type": "execute_result"
    }
   ],
   "source": [
    "from sklearn.metrics import mean_squared_error\n",
    "from math import sqrt\n",
    "rms = sqrt(mean_squared_error(ypred, Y_test))\n",
    "rms"
   ]
  },
  {
   "cell_type": "markdown",
   "metadata": {},
   "source": [
    "# 第二題 [Tuning the Hyper-parameter]"
   ]
  },
  {
   "cell_type": "markdown",
   "metadata": {},
   "source": [
    "(50%) We are going to explore the issue of hyper-parameter tuning in this question. We are going to consider three cases in this question. Use the knn regressor from klearn.neighbors.KNeighborsRegressor for the first two cases, and your own myknn_regressor for the third cases.\n",
    "\n",
    "For each case, use the data from msd_data1.pickle to train and test the KNN models. Compute the RMSE on the testing dataset using k=1,2,3,4,5,10,15,20,25,30,35,40,45,50,55,60,80,100,120,140,160,180,200. In the first case, all feature values are standardize to have unit variances and zero means. As for the second case, do not apply feature scaling. The third case use standardized feature and adopted myknn_regressor with \"remove_outlier\" f to make prediction.\n",
    "\n",
    "For each case, plot a curve that shows the relations between k (x-axis) and RMSE (y-axis). If possible, plot the three curves in the same figure so that we can visually inspect their dynamics. Discuss your observations."
   ]
  },
  {
   "cell_type": "code",
   "execution_count": 14,
   "metadata": {},
   "outputs": [],
   "source": [
    "import pickle\n",
    "infile = open(\"C://Users//POPO//Desktop//msd_data1.pickle\",'rb')\n",
    "new_dict = pickle.load(infile)\n",
    "X_train=new_dict[\"X_train\"]\n",
    "Y_train=new_dict[\"Y_train\"]\n",
    "X_test=new_dict[\"X_test\"]\n",
    "Y_test=new_dict[\"Y_test\"]"
   ]
  },
  {
   "cell_type": "code",
   "execution_count": 15,
   "metadata": {},
   "outputs": [],
   "source": [
    "X_train_std=(X_train-np.mean(X_train,axis=0))/np.std(X_train,axis=0)\n",
    "X_test_std=(X_test-np.mean(X_train,axis=0))/np.std(X_train,axis=0)"
   ]
  },
  {
   "cell_type": "code",
   "execution_count": 16,
   "metadata": {},
   "outputs": [],
   "source": [
    "from sklearn.neighbors import KNeighborsRegressor\n",
    "case1=[]\n",
    "case2=[]\n",
    "case3=[]\n",
    "for k in [1,2,3,4,5,10,15,20,25,30,35,40,45,50,55,60,80,100,120,140,160,180,200]:\n",
    "    neigh = KNeighborsRegressor(n_neighbors=k)\n",
    "    neigh.fit(X_train_std, Y_train) \n",
    "    y_pred1=neigh.predict(X_test_std)\n",
    "    rms1 = sqrt(mean_squared_error(y_pred1, Y_test))\n",
    "    case1.append(rms1)\n",
    "    \n",
    "    neigh = KNeighborsRegressor(n_neighbors=k)\n",
    "    neigh.fit(X_train, Y_train) \n",
    "    y_pred2=neigh.predict(X_test)\n",
    "    rms2 = sqrt(mean_squared_error(y_pred2, Y_test))\n",
    "    case2.append(rms2)\n",
    "    \n",
    "    myknn = myknn_regressor(k, \"remove_outliers\")\n",
    "    myknn.fit(X_train_std, Y_train)\n",
    "    y_pred3 = myknn.predict(X_test_std)\n",
    "    rms3 = sqrt(mean_squared_error(y_pred3, Y_test))\n",
    "    case3.append(rms3)"
   ]
  },
  {
   "cell_type": "code",
   "execution_count": 22,
   "metadata": {},
   "outputs": [
    {
     "name": "stderr",
     "output_type": "stream",
     "text": [
      "C:\\Users\\POPO\\Anaconda3\\lib\\site-packages\\matplotlib\\figure.py:459: UserWarning: matplotlib is currently using a non-GUI backend, so cannot show the figure\n",
      "  \"matplotlib is currently using a non-GUI backend, \"\n"
     ]
    },
    {
     "data": {
      "image/png": "[encoded data removed]",
      "text/plain": [
       "<Figure size 432x288 with 1 Axes>"
      ]
     },
     "metadata": {},
     "output_type": "display_data"
    }
   ],
   "source": [
    "import matplotlib.pyplot as plt\n",
    "fig=plt.figure()\n",
    "fig.show()\n",
    "ax=fig.add_subplot(111)\n",
    "\n",
    "k=[1,2,3,4,5,10,15,20,25,30,35,40,45,50,55,60,80,100,120,140,160,180,200]\n",
    "ax.plot(k,case1,label=\".KNeighborsRegressor-std\")\n",
    "ax.plot(k,case2,label=\"KNeighborsRegressor\")\n",
    "ax.plot(k,case3,label=\"myknn\")\n",
    "\n",
    "\n",
    "plt.legend(loc=\"upper right\")\n",
    "plt.draw()"
   ]
  },
  {
   "cell_type": "code",
   "execution_count": 23,
   "metadata": {},
   "outputs": [],
   "source": [
    "#隨著K值增加，錯誤率會遞減，但是遞減到一定程度，遞減的幅度就沒有那麼明顯\n",
    "#有標準化的數據與沒有標準化的數據相比，有做標準化的數據表現的比較好\n",
    "#一開始三個模型表現都差不多，但隨著K值增加，另外兩個模型的表現程度明顯勝過沒有透過標準化的數據訓練出的模型\n",
    "#自己設計的myknn模型表現最優(有可能是因為有刪除outlier的緣故)"
   ]
  }
 ],
 "metadata": {
  "kernelspec": {
   "display_name": "Python 3",
   "language": "python",
   "name": "python3"
  },
  "language_info": {
   "codemirror_mode": {
    "name": "ipython",
    "version": 3
   },
   "file_extension": ".py",
   "mimetype": "text/x-python",
   "name": "python",
   "nbconvert_exporter": "python",
   "pygments_lexer": "ipython3",
   "version": "3.6.5"
  }
 },
 "nbformat": 4,
 "nbformat_minor": 2
}
