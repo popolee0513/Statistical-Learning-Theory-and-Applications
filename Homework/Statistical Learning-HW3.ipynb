{
 "cells": [
  {
   "cell_type": "markdown",
   "metadata": {},
   "source": [
    "# 統計學習初論 (Spring, 2019)"
   ]
  },
  {
   "cell_type": "markdown",
   "metadata": {},
   "source": [
    "Homework 3\n",
    "\n",
    "截止日期: 9AM, 2019/4/9\n",
    "    \n",
    "請將HTML檔上傳至Ceiba作業區。回答作業時建議使用 \"三明治\" 答題法。也就是說，先說明要做什麼，然後列出程式碼與結果，最後說明這些結果的意義。作業自己做。嚴禁抄襲。不接受紙本繳交，不接受遲交。請以英文或中文作答。"
   ]
  },
  {
   "cell_type": "markdown",
   "metadata": {},
   "source": [
    "# 第一題 [Classification via Generative Models]"
   ]
  },
  {
   "cell_type": "markdown",
   "metadata": {},
   "source": [
    "(50%) We are going to explore the problem of identifying smartphone position through probabilistic generative models. Motion sensors in smartphones provide valuable information for researchers to understand its owners. An interesting (and more challenging) task is to identify human activities through the data recorded by motion sensors. For example, we want to know whether the smartphone owner is walking, running, or biking. In this homework problem, we are going to tackle a simpler problem. We want to know the static position of the smartphone. There are six possible positions:\n",
    "\n",
    "Phoneonback: The phone is laying on the back of the phone with the screen pointing up (away from the ground).\n",
    "    \n",
    "Phoneonfront: The phone is laying on the back of the phone with the screen pointing towards the ground\n",
    "    \n",
    "Phoneonbottom: The phone is standing on the bottom of the screen, meaning the bottom is pointed towards the ground\n",
    "    \n",
    "Phoneontop: The phone is standing on the top of the screen, meaning the top is pointed towards the ground\n",
    "    \n",
    "Phoneonleft: The phone is laying on the left side of the screen.\n",
    "    \n",
    "Phoneonright: The phone is laying on the right side of the screen.\n",
    "    \n",
    "The input data is the reading of the accelerometer (cf. https://en.wikipedia.org/wiki/Accelerometer) in the smartphone. We have a training dataset that contains about 28,500 data points for phones in each of the six positions. The following is some basic information of the training dataset."
   ]
  },
  {
   "cell_type": "code",
   "execution_count": 1,
   "metadata": {},
   "outputs": [
    {
     "name": "stdout",
     "output_type": "stream",
     "text": [
      "The first few rows are:\n",
      "          x         y         z        label\n",
      "0  0.138809  0.074341  9.801056  Phoneonback\n",
      "1  0.164993  0.006500  9.690369  Phoneonback\n",
      "2  0.211411 -0.001831  9.755829  Phoneonback\n",
      "3  0.184036 -0.007782  9.774872  Phoneonback\n",
      "4  0.142380  0.005310  9.765350  Phoneonback\n",
      "\n",
      "Summary statistics:\n",
      "                   x              y              z\n",
      "count  167097.000000  167097.000000  167097.000000\n",
      "mean        0.357340       0.146807      -0.015550\n",
      "std         5.622396       5.552010       5.737150\n",
      "min        -9.770279      -9.966507      -9.908417\n",
      "25%         0.016617      -0.074875      -0.221497\n",
      "50%         0.142776       0.009628       0.025223\n",
      "75%         0.249893       0.295715       0.151032\n",
      "max        10.073685       9.980255      10.031113\n",
      "\n",
      "Label counts:\n",
      "Phoneonleft      29522\n",
      "Phoneonfront     29079\n",
      "Phoneonback      28566\n",
      "Phoneonbottom    27842\n",
      "Phoneontop       26401\n",
      "Phoneonright     25687\n",
      "Name: label, dtype: int64\n"
     ]
    }
   ],
   "source": [
    "%matplotlib inline\n",
    "import pandas as pd\n",
    "import pickle\n",
    "from PIL import Image\n",
    "a1= \"C://Users//POPO//Desktop//a1.png\"\n",
    "a1= Image.open(a1)\n",
    "a2= \"C://Users//POPO//Desktop//a2.png\"\n",
    "a2= Image.open(a2)\n",
    "a3= \"C://Users//POPO//Desktop//a3.png\"\n",
    "a3= Image.open(a3)\n",
    "\n",
    "with open('C://Users//POPO//Desktop//phone_train.pickle', 'rb') as fh1:\n",
    "    traindata = pickle.load(fh1)\n",
    "print(\"The first few rows are:\")\n",
    "print(traindata.head())\n",
    "print(\"\\nSummary statistics:\")\n",
    "print(traindata.describe())\n",
    "print(\"\\nLabel counts:\")\n",
    "print(traindata['label'].value_counts())"
   ]
  },
  {
   "cell_type": "markdown",
   "metadata": {},
   "source": [
    "It is obvious that the last column, label, is the target of our predictive model and the first three columns are the input features.\n",
    "\n",
    "We are going to train a model that can predict smartphone positions given its accelerometer readings. To achieve this goal, we are going to divide this question into two sub-questions. The first is about training a generative classifier, and the second is to predict smartphone positions.\n",
    "\n",
    "Creat a Python class named mygpc for this task. The sample usage for model training and testing should be like the following:"
   ]
  },
  {
   "cell_type": "markdown",
   "metadata": {},
   "source": [
    "pgc1 = mypgc()\n",
    "\n",
    "pgc1.fit(X_train, Y_train)\n",
    "\n",
    "ypred = pgc1.predict(X_test)"
   ]
  },
  {
   "cell_type": "markdown",
   "metadata": {},
   "source": [
    "Model Training\n",
    "To train probabilistic generative classifiers, we need to assume how the data are generated in one given position. Here we are going to adopt a simple assumption that the data are generated from multivariate Gaussian distributions. To train a model under this assumption, we need to compute the mean and covariance of features at each label in the training data.\n",
    "\n",
    "For each of the six labels, you should record the following information:\n",
    "\n",
    "mu: the mean vector.\n",
    "    \n",
    "cov: the covariance matrix.\n",
    "    \n",
    "prec: the inverse of covariance matrix.\n",
    "    \n",
    "detcov: logarithm of the determinant of the covariance matrix.\n",
    "    \n",
    "n: number of observations for this label.\n",
    "    \n",
    "prior: learned prior probability of this label.\n",
    "    \n",
    "You should store your learned parameters in a two-level dictionary structure. For example, you can access the precision of \"Phoneonback\" by amodel[\"Phoneonback\"][\"prec\"], where amodel is the learned model."
   ]
  },
  {
   "cell_type": "markdown",
   "metadata": {},
   "source": [
    "Prediction\n",
    "To predict phone positions, compute the posterior of each position given the trained model, and select the position with the largest probability. That is, given the reading  g=(gx,gy,gz)T , the probability that the phone position is k can be written as  Prob(POS=k│g)∝Prob(g│POS=k)Prob(POS=k) .\n",
    "\n",
    "The likelihood  Prob(g|POS=k)  is simply  N(g|μk,σk) , where  μk  and  σk  are learned from the training data.\n",
    "\n",
    "Answer the following questions:\n",
    "\n",
    "Q1.1: Create your mypgc class.\n",
    "    \n",
    "Q1.2: Load data from \"phone_train.picke\" and train your model. List your learned model parameters in a pretty, human readable way so that the TA can easily check the correctness of your results.\n",
    "    \n",
    "Q1.3: Load the test data from \"phone_test1.pickle\" and apply your predict method. List the first 20 predictions and well as the correct labels. Compute the accuracy for your model. Accuracy is the number of correct predictions divided by total number of data points.\n",
    "    \n",
    "Implementation Restrictions\n",
    "You are allowed to use the \"building block\" libraries including numpy and scipy in your own mypgc class. You will receive a zero score if you adopted an existing probabilistic generatic classifier in your answer. The input features and lables for the train method should be numpy arrays. The input features and output lables for the predict method should be numpy arrays."
   ]
  },
  {
   "cell_type": "code",
   "execution_count": 2,
   "metadata": {},
   "outputs": [],
   "source": [
    "#Q1.1: Create your mypgc class."
   ]
  },
  {
   "cell_type": "code",
   "execution_count": 3,
   "metadata": {},
   "outputs": [],
   "source": [
    "import numpy as np\n",
    "import matplotlib.pyplot as plt\n",
    "from scipy.stats import multivariate_normal\n",
    "class mypgc:\n",
    "    def __init__(self):\n",
    "        None\n",
    "        \n",
    "    def fit(self,X,Y):\n",
    "        self.new_dic = {}\n",
    "        self.new_dic[\"Phoneonback\"]={}\n",
    "        self.new_dic[\"Phoneonbottom\"]={}\n",
    "        self.new_dic[\"Phoneonfront\"]={}\n",
    "        self.new_dic[\"Phoneonleft\"]={}\n",
    "        self.new_dic[\"Phoneonright\"]={}\n",
    "        self.new_dic[\"Phoneontop\"]={}\n",
    "        \n",
    "        class_0 = X[X[\"label\"]==\"Phoneonback\"]\n",
    "        class_1 = X[X[\"label\"]==\"Phoneonbottom\"]\n",
    "        class_2 = X[X[\"label\"]==\"Phoneonfront\"]\n",
    "        class_3 = X[X[\"label\"]==\"Phoneonleft\"]\n",
    "        class_4 = X[X[\"label\"]==\"Phoneonright\"]\n",
    "        class_5 = X[X[\"label\"]==\"Phoneontop\"]\n",
    "        \n",
    "        #compute means for each class\n",
    "        mean0=class_0.mean(axis=0)\n",
    "        mean1=class_1.mean(axis=0)\n",
    "        mean2=class_2.mean(axis=0)\n",
    "        mean3=class_3.mean(axis=0)\n",
    "        mean4=class_4.mean(axis=0)\n",
    "        mean5=class_5.mean(axis=0)\n",
    "        \n",
    "        #compute covariance matrices, such that the columns are variables and rows are observations of variables\n",
    "        cov0=np.cov(class_0[class_0.columns[:3]],rowvar=0)\n",
    "        cov1=np.cov(class_1[class_1.columns[:3]],rowvar=0)\n",
    "        cov2=np.cov(class_2[class_2.columns[:3]],rowvar=0)\n",
    "        cov3=np.cov(class_3[class_3.columns[:3]],rowvar=0)\n",
    "        cov4=np.cov(class_4[class_4.columns[:3]],rowvar=0)\n",
    "        cov5=np.cov(class_5[class_5.columns[:3]],rowvar=0)\n",
    "        \n",
    "        #compute the inverse of covariance matrices\n",
    "        prec0=np.linalg.inv(cov0)\n",
    "        prec1=np.linalg.inv(cov1)\n",
    "        prec2=np.linalg.inv(cov2)\n",
    "        prec3=np.linalg.inv(cov3)\n",
    "        prec4=np.linalg.inv(cov4)\n",
    "        prec5=np.linalg.inv(cov5)\n",
    "        \n",
    "        #compute the number of observations for this label.\n",
    "        n0=traindata[\"label\"].value_counts()[\"Phoneonback\"]\n",
    "        n1=traindata[\"label\"].value_counts()[\"Phoneonbottom\"]\n",
    "        n2=traindata[\"label\"].value_counts()[\"Phoneonfront\"]\n",
    "        n3=traindata[\"label\"].value_counts()[\"Phoneonleft\"]\n",
    "        n4=traindata[\"label\"].value_counts()[\"Phoneonright\"]\n",
    "        n5=traindata[\"label\"].value_counts()[\"Phoneontop\"]\n",
    "        \n",
    "        total=n0+n1+n2+n3+n4+n5\n",
    "        \n",
    "        #compute the prior probability of this label.\n",
    "        p0=n0/total\n",
    "        p1=n1/total\n",
    "        p2=n2/total\n",
    "        p3=n3/total\n",
    "        p4=n4/total\n",
    "        p5=n5/total\n",
    "        \n",
    "        # compute logarithm of the determinant of the covariance matrix.\n",
    "        detcov0=np.log(np.linalg.det(cov0))\n",
    "        detcov1=np.log(np.linalg.det(cov1))\n",
    "        detcov2=np.log(np.linalg.det(cov2))\n",
    "        detcov3=np.log(np.linalg.det(cov3))\n",
    "        detcov4=np.log(np.linalg.det(cov4))\n",
    "        detcov5=np.log(np.linalg.det(cov5))\n",
    "        \n",
    "\n",
    "\n",
    "        #dictionary must include :cov,prec,detcov,n,prior\n",
    "        self.new_dic[\"Phoneonback\"][\"cov\"]=cov0\n",
    "        self.new_dic[\"Phoneonback\"][\"prec\"]=prec0\n",
    "        self.new_dic[\"Phoneonback\"][\"detcov\"]=detcov0\n",
    "        self.new_dic[\"Phoneonback\"][\"n\"]=n0\n",
    "        self.new_dic[\"Phoneonback\"][\"prior\"]=p0\n",
    "        self.new_dic[\"Phoneonback\"][\"mu\"]=mean0\n",
    "        \n",
    "        self.new_dic[\"Phoneonbottom\"][\"cov\"]=cov1\n",
    "        self.new_dic[\"Phoneonbottom\"][\"prec\"]=prec1\n",
    "        self.new_dic[\"Phoneonbottom\"][\"detcov\"]=detcov1\n",
    "        self.new_dic[\"Phoneonbottom\"][\"n\"]=n1\n",
    "        self.new_dic[\"Phoneonbottom\"][\"prior\"]=p1\n",
    "        self.new_dic[\"Phoneonbottom\"][\"mu\"]=mean1\n",
    "        \n",
    "        self.new_dic[\"Phoneonfront\"][\"cov\"]=cov2\n",
    "        self.new_dic[\"Phoneonfront\"][\"prec\"]=prec2\n",
    "        self.new_dic[\"Phoneonfront\"][\"detcov\"]=detcov2\n",
    "        self.new_dic[\"Phoneonfront\"][\"n\"]=n2\n",
    "        self.new_dic[\"Phoneonfront\"][\"prior\"]=p2\n",
    "        self.new_dic[\"Phoneonfront\"][\"mu\"]=mean2\n",
    "        \n",
    "        self.new_dic[\"Phoneonleft\"][\"cov\"]=cov3\n",
    "        self.new_dic[\"Phoneonleft\"][\"prec\"]=prec3\n",
    "        self.new_dic[\"Phoneonleft\"][\"detcov\"]=detcov3\n",
    "        self.new_dic[\"Phoneonleft\"][\"n\"]=n3\n",
    "        self.new_dic[\"Phoneonleft\"][\"prior\"]=p3\n",
    "        self.new_dic[\"Phoneonleft\"][\"mu\"]=mean3\n",
    "        \n",
    "        self.new_dic[\"Phoneonright\"][\"cov\"]=cov4\n",
    "        self.new_dic[\"Phoneonright\"][\"prec\"]=prec4\n",
    "        self.new_dic[\"Phoneonright\"][\"detcov\"]=detcov4\n",
    "        self.new_dic[\"Phoneonright\"][\"n\"]=n4\n",
    "        self.new_dic[\"Phoneonright\"][\"prior\"]=p4\n",
    "        self.new_dic[\"Phoneonright\"][\"mu\"]=mean4\n",
    "        \n",
    "        self.new_dic[\"Phoneontop\"][\"cov\"]=cov5\n",
    "        self.new_dic[\"Phoneontop\"][\"prec\"]=prec5\n",
    "        self.new_dic[\"Phoneontop\"][\"detcov\"]=detcov5\n",
    "        self.new_dic[\"Phoneontop\"][\"n\"]=n5\n",
    "        self.new_dic[\"Phoneontop\"][\"prior\"]=p5\n",
    "        self.new_dic[\"Phoneontop\"][\"mu\"]=mean5\n",
    "        return self.new_dic\n",
    "    def predict(self,X_test):\n",
    "        ans = np.ones([X_test.shape[0],1],dtype=int)\n",
    "        new_dic=self.new_dic\n",
    "        for i in range(len(X_test)):\n",
    "            px0=new_dic[\"Phoneonback\"][\"prior\"]*multivariate_normal.pdf(X_test.iloc[i][:3],mean=new_dic[\"Phoneonback\"][\"mu\"],cov=new_dic[\"Phoneonback\"][\"cov\"])\n",
    "            px1=new_dic[\"Phoneonbottom\"][\"prior\"]*multivariate_normal.pdf(X_test.iloc[i][:3],mean=new_dic[\"Phoneonbottom\"][\"mu\"],cov=new_dic[\"Phoneonbottom\"][\"cov\"])\n",
    "            px2=new_dic[\"Phoneonfront\"][\"prior\"]*multivariate_normal.pdf(X_test.iloc[i][:3],mean=new_dic[\"Phoneonfront\"][\"mu\"],cov=new_dic[\"Phoneonfront\"][\"cov\"])\n",
    "            px3=new_dic[\"Phoneonleft\"][\"prior\"]*multivariate_normal.pdf(X_test.iloc[i][:3],mean=new_dic[\"Phoneonleft\"][\"mu\"],cov=new_dic[\"Phoneonleft\"][\"cov\"])\n",
    "            px4=new_dic[\"Phoneonright\"][\"prior\"]*multivariate_normal.pdf(X_test.iloc[i][:3],mean=new_dic[\"Phoneonright\"][\"mu\"],cov=new_dic[\"Phoneonright\"][\"cov\"])\n",
    "            px5=new_dic[\"Phoneontop\"][\"prior\"]*multivariate_normal.pdf(X_test.iloc[i][:3],mean=new_dic[\"Phoneontop\"][\"mu\"],cov=new_dic[\"Phoneontop\"][\"cov\"])\n",
    "            \n",
    "            \n",
    "            m=np.argmax([px0,px1, px2, px3,px4,px5])\n",
    "            ans[i]=m\n",
    "            return ans   "
   ]
  },
  {
   "cell_type": "markdown",
   "metadata": {},
   "source": [
    "Q1.2: Load data from \"phone_train.picke\" and train your model. List your learned model parameters in a pretty, human readable way so that the TA can easily check the correctness of your results."
   ]
  },
  {
   "cell_type": "code",
   "execution_count": 4,
   "metadata": {},
   "outputs": [
    {
     "data": {
      "text/plain": [
       "{'Phoneonback': {'cov': array([[ 0.00299006, -0.00195813,  0.00284766],\n",
       "         [-0.00195813,  0.00229887, -0.0024254 ],\n",
       "         [ 0.00284766, -0.0024254 ,  0.0048876 ]]),\n",
       "  'prec': array([[ 943.63669582,  469.54782044, -316.78479596],\n",
       "         [ 469.54782044, 1146.63145078,  295.42598486],\n",
       "         [-316.78479596,  295.42598486,  535.76812508]]),\n",
       "  'detcov': -18.9875162403822,\n",
       "  'n': 28566,\n",
       "  'prior': 0.17095459523510295,\n",
       "  'mu': x    0.206933\n",
       "  y   -0.026152\n",
       "  z    9.796376\n",
       "  dtype: float64},\n",
       " 'Phoneonbottom': {'cov': array([[ 0.00273883, -0.0044379 ,  0.00151984],\n",
       "         [-0.0044379 ,  0.01026786, -0.00328148],\n",
       "         [ 0.00151984, -0.00328148,  0.00247968]]),\n",
       "  'prec': array([[1229.24902343,  503.42022589,  -87.22678994],\n",
       "         [ 503.42022589,  374.93550309,  187.61601574],\n",
       "         [ -87.22678994,  187.61601574,  705.02302834]]),\n",
       "  'detcov': -18.24230757192601,\n",
       "  'n': 27842,\n",
       "  'prior': 0.1666217825574367,\n",
       "  'mu': x    0.190768\n",
       "  y    9.785847\n",
       "  z    0.146557\n",
       "  dtype: float64},\n",
       " 'Phoneonfront': {'cov': array([[ 0.00173617, -0.00562249,  0.00071319],\n",
       "         [-0.00562249,  0.03069977, -0.00386164],\n",
       "         [ 0.00071319, -0.00386164,  0.00185582]]),\n",
       "  'prec': array([[1415.5956848 ,  258.4845593 ,   -6.15206605],\n",
       "         [ 258.4845593 ,   91.32078358,   90.68682325],\n",
       "         [  -6.15206605,   90.68682325,  729.91124637]]),\n",
       "  'detcov': -17.331692277173115,\n",
       "  'n': 29079,\n",
       "  'prior': 0.1740246683064328,\n",
       "  'mu': x    0.112704\n",
       "  y    0.142651\n",
       "  z   -9.735796\n",
       "  dtype: float64},\n",
       " 'Phoneonleft': {'cov': array([[ 0.00192839, -0.00619274,  0.00063551],\n",
       "         [-0.00619274,  0.03200844, -0.00317611],\n",
       "         [ 0.00063551, -0.00317611,  0.00171996]]),\n",
       "  'prec': array([[1369.95113577,  263.0134811 ,  -20.49603676],\n",
       "         [ 263.0134811 ,   88.74589895,   66.6992188 ],\n",
       "         [ -20.49603676,   66.6992188 ,  712.14869845]]),\n",
       "  'detcov': -17.232141935734493,\n",
       "  'n': 29522,\n",
       "  'prior': 0.17667582302494958,\n",
       "  'mu': x    9.926394\n",
       "  y    0.092757\n",
       "  z   -0.019335\n",
       "  dtype: float64},\n",
       " 'Phoneonright': {'cov': array([[ 0.00076675, -0.00067075,  0.00068673],\n",
       "         [-0.00067075,  0.00682422, -0.00627087],\n",
       "         [ 0.00068673, -0.00627087,  0.00773266]]),\n",
       "  'prec': array([[1432.0246564 ,   93.75083518,  -51.14931824],\n",
       "         [  93.75083518,  581.24293978,  463.03773646],\n",
       "         [ -51.14931824,  463.03773646,  509.36831176]]),\n",
       "  'detcov': -18.48369965825519,\n",
       "  'n': 25687,\n",
       "  'prior': 0.1537250818386925,\n",
       "  'mu': x   -9.649160\n",
       "  y    0.078687\n",
       "  z   -0.007718\n",
       "  dtype: float64},\n",
       " 'Phoneontop': {'cov': array([[ 0.00184664,  0.00529325, -0.00601384],\n",
       "         [ 0.00529325,  0.02519526, -0.02792123],\n",
       "         [-0.00601384, -0.02792123,  0.0331182 ]]),\n",
       "  'prec': array([[1380.20106989, -186.01874711,   93.79832935],\n",
       "         [-186.01874711,  629.12383998,  496.62195539],\n",
       "         [  93.79832935,  496.62195539,  465.9185559 ]]),\n",
       "  'detcov': -17.041318559528115,\n",
       "  'n': 26401,\n",
       "  'prior': 0.15799804903738546,\n",
       "  'mu': x    0.000814\n",
       "  y   -9.699908\n",
       "  z   -0.100216\n",
       "  dtype: float64}}"
      ]
     },
     "execution_count": 4,
     "metadata": {},
     "output_type": "execute_result"
    }
   ],
   "source": [
    "X_train=traindata\n",
    "mapping={\"Phoneonback\":0,\"Phoneonbottom\":1,\"Phoneonfront\":2,\"Phoneonleft\":3,\"Phoneonright\":4,\"Phoneontop\":5}\n",
    "Y_train=pd.DataFrame([])\n",
    "Y_train[\"newlabel\"]=X_train[\"label\"].map(mapping)\n",
    "pgc1 = mypgc()\n",
    "pgc1.fit(X_train, Y_train)"
   ]
  },
  {
   "cell_type": "markdown",
   "metadata": {},
   "source": [
    "Q1.3: Load the test data from \"phone_test1.pickle\" and apply your predict method. List the first 20 predictions and well as the correct labels. Compute the accuracy for your model. Accuracy is the number of correct predictions divided by total number of data points."
   ]
  },
  {
   "cell_type": "code",
   "execution_count": 5,
   "metadata": {},
   "outputs": [],
   "source": [
    "with open('C://Users//POPO//Desktop//phone_test1.pickle', 'rb') as fh1:\n",
    "    testdata = pickle.load(fh1)\n",
    "X_test=testdata\n",
    "mapping={\"Phoneonback\":0,\"Phoneonbottom\":1,\"Phoneonfront\":2,\"Phoneonleft\":3,\"Phoneonright\":4,\"Phoneontop\":5}\n",
    "Y_test=pd.DataFrame([])\n",
    "Y_test[\"newlabel\"]=X_test[\"label\"].map(mapping)"
   ]
  },
  {
   "cell_type": "code",
   "execution_count": 6,
   "metadata": {},
   "outputs": [
    {
     "data": {
      "text/plain": [
       "array([[2],\n",
       "       [1],\n",
       "       [1],\n",
       "       [1],\n",
       "       [1],\n",
       "       [1],\n",
       "       [1],\n",
       "       [1],\n",
       "       [1],\n",
       "       [1],\n",
       "       [1],\n",
       "       [1],\n",
       "       [1],\n",
       "       [1],\n",
       "       [1],\n",
       "       [1],\n",
       "       [1],\n",
       "       [1],\n",
       "       [1],\n",
       "       [1]])"
      ]
     },
     "execution_count": 6,
     "metadata": {},
     "output_type": "execute_result"
    }
   ],
   "source": [
    "ypred = pgc1.predict(X_test)\n",
    "ypred[:20]"
   ]
  },
  {
   "cell_type": "code",
   "execution_count": 7,
   "metadata": {},
   "outputs": [
    {
     "data": {
      "text/html": [
       "<div>\n",
       "<style scoped>\n",
       "    .dataframe tbody tr th:only-of-type {\n",
       "        vertical-align: middle;\n",
       "    }\n",
       "\n",
       "    .dataframe tbody tr th {\n",
       "        vertical-align: top;\n",
       "    }\n",
       "\n",
       "    .dataframe thead th {\n",
       "        text-align: right;\n",
       "    }\n",
       "</style>\n",
       "<table border=\"1\" class=\"dataframe\">\n",
       "  <thead>\n",
       "    <tr style=\"text-align: right;\">\n",
       "      <th></th>\n",
       "      <th>newlabel</th>\n",
       "    </tr>\n",
       "  </thead>\n",
       "  <tbody>\n",
       "    <tr>\n",
       "      <th>0</th>\n",
       "      <td>2</td>\n",
       "    </tr>\n",
       "    <tr>\n",
       "      <th>1</th>\n",
       "      <td>1</td>\n",
       "    </tr>\n",
       "    <tr>\n",
       "      <th>2</th>\n",
       "      <td>1</td>\n",
       "    </tr>\n",
       "    <tr>\n",
       "      <th>3</th>\n",
       "      <td>1</td>\n",
       "    </tr>\n",
       "    <tr>\n",
       "      <th>4</th>\n",
       "      <td>2</td>\n",
       "    </tr>\n",
       "    <tr>\n",
       "      <th>5</th>\n",
       "      <td>4</td>\n",
       "    </tr>\n",
       "    <tr>\n",
       "      <th>6</th>\n",
       "      <td>2</td>\n",
       "    </tr>\n",
       "    <tr>\n",
       "      <th>7</th>\n",
       "      <td>5</td>\n",
       "    </tr>\n",
       "    <tr>\n",
       "      <th>8</th>\n",
       "      <td>2</td>\n",
       "    </tr>\n",
       "    <tr>\n",
       "      <th>9</th>\n",
       "      <td>2</td>\n",
       "    </tr>\n",
       "    <tr>\n",
       "      <th>10</th>\n",
       "      <td>2</td>\n",
       "    </tr>\n",
       "    <tr>\n",
       "      <th>11</th>\n",
       "      <td>0</td>\n",
       "    </tr>\n",
       "    <tr>\n",
       "      <th>12</th>\n",
       "      <td>3</td>\n",
       "    </tr>\n",
       "    <tr>\n",
       "      <th>13</th>\n",
       "      <td>0</td>\n",
       "    </tr>\n",
       "    <tr>\n",
       "      <th>14</th>\n",
       "      <td>1</td>\n",
       "    </tr>\n",
       "    <tr>\n",
       "      <th>15</th>\n",
       "      <td>0</td>\n",
       "    </tr>\n",
       "    <tr>\n",
       "      <th>16</th>\n",
       "      <td>4</td>\n",
       "    </tr>\n",
       "    <tr>\n",
       "      <th>17</th>\n",
       "      <td>4</td>\n",
       "    </tr>\n",
       "    <tr>\n",
       "      <th>18</th>\n",
       "      <td>5</td>\n",
       "    </tr>\n",
       "    <tr>\n",
       "      <th>19</th>\n",
       "      <td>3</td>\n",
       "    </tr>\n",
       "  </tbody>\n",
       "</table>\n",
       "</div>"
      ],
      "text/plain": [
       "    newlabel\n",
       "0          2\n",
       "1          1\n",
       "2          1\n",
       "3          1\n",
       "4          2\n",
       "5          4\n",
       "6          2\n",
       "7          5\n",
       "8          2\n",
       "9          2\n",
       "10         2\n",
       "11         0\n",
       "12         3\n",
       "13         0\n",
       "14         1\n",
       "15         0\n",
       "16         4\n",
       "17         4\n",
       "18         5\n",
       "19         3"
      ]
     },
     "execution_count": 7,
     "metadata": {},
     "output_type": "execute_result"
    }
   ],
   "source": [
    "Y_test[:20]"
   ]
  },
  {
   "cell_type": "code",
   "execution_count": 8,
   "metadata": {},
   "outputs": [
    {
     "data": {
      "text/plain": [
       "newlabel    0.166301\n",
       "dtype: float64"
      ]
     },
     "execution_count": 8,
     "metadata": {},
     "output_type": "execute_result"
    }
   ],
   "source": [
    "(ypred==Y_test).mean()"
   ]
  },
  {
   "cell_type": "markdown",
   "metadata": {},
   "source": [
    "# 第二題 [Logistic Regression with L2 Regularization]"
   ]
  },
  {
   "cell_type": "markdown",
   "metadata": {},
   "source": [
    "(100%) We discussed the Logistic regression and its variation, Bayesian logistic regression that adopts L2 regularization. The Logistic regression with L2 regularization minimize the following error function (cf. file 0b2 linear model for classification.pdf):"
   ]
  },
  {
   "cell_type": "code",
   "execution_count": 9,
   "metadata": {},
   "outputs": [
    {
     "data": {
      "image/png": "[encoded data removed]",
      "text/plain": [
       "<PIL.PngImagePlugin.PngImageFile image mode=RGB size=1455x140 at 0x1EA4ED0F278>"
      ]
     },
     "execution_count": 9,
     "metadata": {},
     "output_type": "execute_result"
    }
   ],
   "source": [
    "a1"
   ]
  },
  {
   "cell_type": "markdown",
   "metadata": {},
   "source": [
    "We are going to consider an extension of this model to allow different level of regularization for different regression coefficients. Consider the constant term versus other features. The coefficient of the constant term is usually not regularized in logistic regression. It is because the constant term is associated with the prior class distribution (see the discussion in generative models), and regularizing this term will force the probability of the positive class given a zero feature vector to be 0.5. This may hurt the prediction ability since the true prior class probability may indicate other more reasonable values.\n",
    "\n",
    "Another consideration is regarding the continuous-valued features and binary-valued features. We typically normalize continuous-valued features to have zero means and unit variances but keep binary-value features untouched. It makes sense to have a single regularization value for the continuous-valued features since all of them have been normalized. Similarly, if we do not have additional information, then all binary-valued features can have the same level of regularization. However, using the same regularization coefficient for the continuous-valued and binary-valued features may not be reasonable. That is, it is often beneficial to have a regularization coefficient for the continuous-valued features, and another regularization coefficient for the binary-valued features.\n",
    "\n",
    "The above discussion suggests that a more sophisticated way to regularize a logistic regression is to have three regularization coefficients: 0 for the constant,  a1  for continuous-valued features, and  a2  for the binary-valued features. It is possible to further refine the regularization coefficients. However, hyper-parameter tuning associated with more regularization coefficients may be costly.\n",
    "\n",
    "To achieve this goal, we are going to consider a variation of L2-regularized logistic regression that allow different level of regularization for each coefficient. In the following discussion, we are going to use  X  to denote the feature matrix in the training data. The i-th row in  X ,  xi , is the feature vector for the i-th training data. The last column of  X  is one unless the use does not want to include the constant term.\n",
    "\n",
    "In this model, each regression coefficient may be associated with a different regularization coefficient. Bearing with the risk of ambigulity, we (again) use the scalar  λi  to denote the regularization coefficient for  wi . The vector  w=[w1,w2,...,wD]T  is the regression coefficient vector. Let  Λ  denote the diagonal matrix that have  λi  at  Λii . Our new error function becomes:"
   ]
  },
  {
   "cell_type": "code",
   "execution_count": 10,
   "metadata": {},
   "outputs": [
    {
     "data": {
      "image/png": "[encoded data removed]",
      "text/plain": [
       "<PIL.PngImagePlugin.PngImageFile image mode=RGB size=888x162 at 0x1EA4FCA2278>"
      ]
     },
     "execution_count": 10,
     "metadata": {},
     "output_type": "execute_result"
    }
   ],
   "source": [
    "a2"
   ]
  },
  {
   "cell_type": "markdown",
   "metadata": {},
   "source": [
    "This model allows  wi  to have regularization coefficient  λi . If the constant term is the last element in  w , then setting  λD  to  0  allow us to unregularize the constant term. We can simply set  λi  associated with continuous-valued features to one value, and elements associated with binary-value features to another value. This will achieve our goal of a more refined regularization structure.\n",
    "\n",
    "Following the PRML text book and the class discussion, we are going to train the model using the Newton-Raphson optimization method. In order to do so, you need to derive the gradient and hession of  E(w) . Given the training dataset, we can optimize  w  via"
   ]
  },
  {
   "cell_type": "code",
   "execution_count": 11,
   "metadata": {},
   "outputs": [
    {
     "data": {
      "image/png": "[encoded data removed]",
      "text/plain": [
       "<PIL.PngImagePlugin.PngImageFile image mode=RGB size=1477x283 at 0x1EA4FCAF320>"
      ]
     },
     "execution_count": 11,
     "metadata": {},
     "output_type": "execute_result"
    }
   ],
   "source": [
    "a3"
   ]
  },
  {
   "cell_type": "markdown",
   "metadata": {},
   "source": [
    "Create a Python class named mylogistic_l2 that perform model training and prediction.\n",
    "\n",
    "The sample usage should be like the following:"
   ]
  },
  {
   "cell_type": "markdown",
   "metadata": {},
   "source": [
    "logic1 = mylogistic_l2(reg_vec = lambda_vec, max_iter = 1000, tol = 1e-5, add_intercept = True)\n",
    "\n",
    "logic1.fit(X_train, Y_train)\n",
    "\n",
    "ypred = logic1.predict(X_test)"
   ]
  },
  {
   "cell_type": "markdown",
   "metadata": {},
   "source": [
    "The first line is to create an object with the specified regularization coefficient vector, lambda_vec, and set the maximum number of iteration to 1000. The \"tol\" parameter set the stopping condition for Newton-Raphson optimization. The iteration will stop if the improvement on the error function is less than  10−5 . The \"add_intercept\" option says that we need add a column of ones to the end of X_train before model training. The length of lambda_vec, as a result should match the number of columns after adding the \"one column\" when this option is turned on.\n",
    "\n",
    "To simplify the discussion, we use 0.5 as the threshold for the positive case when making prediction.\n",
    "\n",
    "Implementation Restrictions\n",
    "You are allowed to use the \"building block\" libraries including numpy and scipy in your own mylogistic_l2 class. You will receive a zero score if you adopted an existing logistic regression classifier in your answer. The input features and lables for the train method should be numpy arrays. The input features and output lables for the predict method should be numpy arrays.\n",
    "\n",
    "Dataset\n",
    "We are going to use to \"Adult\" dataset on the UCI machine learning reposition https://archive.ics.uci.edu/ml/datasets/Adult. The goal is to predict the label values of the income column, which can be either '>50K' or '<=50K.' The dataset had splitted the training and test data, and we are going to respect this particular train-test split in model testing.\n",
    "\n",
    "To use this dataset in our model testing, you need to go through the data cleaning process so that the label value will be 1 for '>50K' and 0 otherwise. You should remove all rows with missing values. That is, if a row contain any missing values, remove that row. All features with discrete-values (for example, native-country and workclass) should be converted to \"1-of-K\" encoding. Include a particular feature value only if this unique value appears more than 10 times in the training data.\n",
    "\n",
    "Answer the following questions:"
   ]
  },
  {
   "cell_type": "markdown",
   "metadata": {},
   "source": [
    "Q2.1 (20%) Download the Adult dataset. Clean up the dataset and create x_train, y_train, x_test, y_test for training feature, training value, test feature, test label. All of these variables should be numpy arrays. Provide summary statistics for your training and test datasets so that TA can verify the correctness of your procedure."
   ]
  },
  {
   "cell_type": "code",
   "execution_count": 1,
   "metadata": {},
   "outputs": [],
   "source": [
    "import pandas as pd\n",
    "train=pd.read_csv(\"C://Users//POPO//Desktop//train.csv\",header=None)\n",
    "test=pd.read_csv(\"C://Users//POPO//Desktop//test.csv\",header=None)"
   ]
  },
  {
   "cell_type": "code",
   "execution_count": 2,
   "metadata": {},
   "outputs": [
    {
     "name": "stdout",
     "output_type": "stream",
     "text": [
      "(32561, 15)\n",
      "(16281, 15)\n"
     ]
    }
   ],
   "source": [
    "print(train.shape)\n",
    "print(test.shape)"
   ]
  },
  {
   "cell_type": "code",
   "execution_count": 3,
   "metadata": {},
   "outputs": [],
   "source": [
    "train.columns=[\"age\",\"workclass\",\"fnlwgt\",\"education\",\"education-num\",\"marital-status\",\"occupation\",\"relationship\",\"race\",\"sex\",\"capital-gain\",\"capital-loss\",\"hours-per-week\",\"native-country\",\"class\"]\n",
    "test.columns=train.columns"
   ]
  },
  {
   "cell_type": "code",
   "execution_count": 4,
   "metadata": {},
   "outputs": [
    {
     "data": {
      "text/html": [
       "<div>\n",
       "<style scoped>\n",
       "    .dataframe tbody tr th:only-of-type {\n",
       "        vertical-align: middle;\n",
       "    }\n",
       "\n",
       "    .dataframe tbody tr th {\n",
       "        vertical-align: top;\n",
       "    }\n",
       "\n",
       "    .dataframe thead th {\n",
       "        text-align: right;\n",
       "    }\n",
       "</style>\n",
       "<table border=\"1\" class=\"dataframe\">\n",
       "  <thead>\n",
       "    <tr style=\"text-align: right;\">\n",
       "      <th></th>\n",
       "      <th>age</th>\n",
       "      <th>workclass</th>\n",
       "      <th>fnlwgt</th>\n",
       "      <th>education</th>\n",
       "      <th>education-num</th>\n",
       "      <th>marital-status</th>\n",
       "      <th>occupation</th>\n",
       "      <th>relationship</th>\n",
       "      <th>race</th>\n",
       "      <th>sex</th>\n",
       "      <th>capital-gain</th>\n",
       "      <th>capital-loss</th>\n",
       "      <th>hours-per-week</th>\n",
       "      <th>native-country</th>\n",
       "      <th>class</th>\n",
       "    </tr>\n",
       "  </thead>\n",
       "  <tbody>\n",
       "    <tr>\n",
       "      <th>0</th>\n",
       "      <td>39</td>\n",
       "      <td>State-gov</td>\n",
       "      <td>77516</td>\n",
       "      <td>Bachelors</td>\n",
       "      <td>13</td>\n",
       "      <td>Never-married</td>\n",
       "      <td>Adm-clerical</td>\n",
       "      <td>Not-in-family</td>\n",
       "      <td>White</td>\n",
       "      <td>Male</td>\n",
       "      <td>2174</td>\n",
       "      <td>0</td>\n",
       "      <td>40</td>\n",
       "      <td>United-States</td>\n",
       "      <td>&lt;=50K</td>\n",
       "    </tr>\n",
       "    <tr>\n",
       "      <th>1</th>\n",
       "      <td>50</td>\n",
       "      <td>Self-emp-not-inc</td>\n",
       "      <td>83311</td>\n",
       "      <td>Bachelors</td>\n",
       "      <td>13</td>\n",
       "      <td>Married-civ-spouse</td>\n",
       "      <td>Exec-managerial</td>\n",
       "      <td>Husband</td>\n",
       "      <td>White</td>\n",
       "      <td>Male</td>\n",
       "      <td>0</td>\n",
       "      <td>0</td>\n",
       "      <td>13</td>\n",
       "      <td>United-States</td>\n",
       "      <td>&lt;=50K</td>\n",
       "    </tr>\n",
       "    <tr>\n",
       "      <th>2</th>\n",
       "      <td>38</td>\n",
       "      <td>Private</td>\n",
       "      <td>215646</td>\n",
       "      <td>HS-grad</td>\n",
       "      <td>9</td>\n",
       "      <td>Divorced</td>\n",
       "      <td>Handlers-cleaners</td>\n",
       "      <td>Not-in-family</td>\n",
       "      <td>White</td>\n",
       "      <td>Male</td>\n",
       "      <td>0</td>\n",
       "      <td>0</td>\n",
       "      <td>40</td>\n",
       "      <td>United-States</td>\n",
       "      <td>&lt;=50K</td>\n",
       "    </tr>\n",
       "    <tr>\n",
       "      <th>3</th>\n",
       "      <td>53</td>\n",
       "      <td>Private</td>\n",
       "      <td>234721</td>\n",
       "      <td>11th</td>\n",
       "      <td>7</td>\n",
       "      <td>Married-civ-spouse</td>\n",
       "      <td>Handlers-cleaners</td>\n",
       "      <td>Husband</td>\n",
       "      <td>Black</td>\n",
       "      <td>Male</td>\n",
       "      <td>0</td>\n",
       "      <td>0</td>\n",
       "      <td>40</td>\n",
       "      <td>United-States</td>\n",
       "      <td>&lt;=50K</td>\n",
       "    </tr>\n",
       "    <tr>\n",
       "      <th>4</th>\n",
       "      <td>28</td>\n",
       "      <td>Private</td>\n",
       "      <td>338409</td>\n",
       "      <td>Bachelors</td>\n",
       "      <td>13</td>\n",
       "      <td>Married-civ-spouse</td>\n",
       "      <td>Prof-specialty</td>\n",
       "      <td>Wife</td>\n",
       "      <td>Black</td>\n",
       "      <td>Female</td>\n",
       "      <td>0</td>\n",
       "      <td>0</td>\n",
       "      <td>40</td>\n",
       "      <td>Cuba</td>\n",
       "      <td>&lt;=50K</td>\n",
       "    </tr>\n",
       "  </tbody>\n",
       "</table>\n",
       "</div>"
      ],
      "text/plain": [
       "   age          workclass  fnlwgt   education  education-num  \\\n",
       "0   39          State-gov   77516   Bachelors             13   \n",
       "1   50   Self-emp-not-inc   83311   Bachelors             13   \n",
       "2   38            Private  215646     HS-grad              9   \n",
       "3   53            Private  234721        11th              7   \n",
       "4   28            Private  338409   Bachelors             13   \n",
       "\n",
       "        marital-status          occupation    relationship    race      sex  \\\n",
       "0        Never-married        Adm-clerical   Not-in-family   White     Male   \n",
       "1   Married-civ-spouse     Exec-managerial         Husband   White     Male   \n",
       "2             Divorced   Handlers-cleaners   Not-in-family   White     Male   \n",
       "3   Married-civ-spouse   Handlers-cleaners         Husband   Black     Male   \n",
       "4   Married-civ-spouse      Prof-specialty            Wife   Black   Female   \n",
       "\n",
       "   capital-gain  capital-loss  hours-per-week  native-country   class  \n",
       "0          2174             0              40   United-States   <=50K  \n",
       "1             0             0              13   United-States   <=50K  \n",
       "2             0             0              40   United-States   <=50K  \n",
       "3             0             0              40   United-States   <=50K  \n",
       "4             0             0              40            Cuba   <=50K  "
      ]
     },
     "execution_count": 4,
     "metadata": {},
     "output_type": "execute_result"
    }
   ],
   "source": [
    "train.head()"
   ]
  },
  {
   "cell_type": "code",
   "execution_count": 5,
   "metadata": {},
   "outputs": [],
   "source": [
    "import numpy as np\n",
    "for i in train.columns:\n",
    "    train[i]=train[i].replace(' ?', value = np.nan)\n",
    "    test[i]=test[i].replace(' ?', value = np.nan)"
   ]
  },
  {
   "cell_type": "code",
   "execution_count": 6,
   "metadata": {},
   "outputs": [],
   "source": [
    "#print(train.isnull().sum())\n",
    "#print(test.isnull().sum())"
   ]
  },
  {
   "cell_type": "code",
   "execution_count": 7,
   "metadata": {},
   "outputs": [],
   "source": [
    "test.dropna(inplace=True)\n",
    "train.dropna(inplace=True)"
   ]
  },
  {
   "cell_type": "code",
   "execution_count": 8,
   "metadata": {},
   "outputs": [
    {
     "data": {
      "text/html": [
       "<div>\n",
       "<style scoped>\n",
       "    .dataframe tbody tr th:only-of-type {\n",
       "        vertical-align: middle;\n",
       "    }\n",
       "\n",
       "    .dataframe tbody tr th {\n",
       "        vertical-align: top;\n",
       "    }\n",
       "\n",
       "    .dataframe thead th {\n",
       "        text-align: right;\n",
       "    }\n",
       "</style>\n",
       "<table border=\"1\" class=\"dataframe\">\n",
       "  <thead>\n",
       "    <tr style=\"text-align: right;\">\n",
       "      <th></th>\n",
       "      <th>age</th>\n",
       "      <th>fnlwgt</th>\n",
       "      <th>education-num</th>\n",
       "      <th>capital-gain</th>\n",
       "      <th>capital-loss</th>\n",
       "      <th>hours-per-week</th>\n",
       "    </tr>\n",
       "  </thead>\n",
       "  <tbody>\n",
       "    <tr>\n",
       "      <th>count</th>\n",
       "      <td>30162.000000</td>\n",
       "      <td>3.016200e+04</td>\n",
       "      <td>30162.000000</td>\n",
       "      <td>30162.000000</td>\n",
       "      <td>30162.000000</td>\n",
       "      <td>30162.000000</td>\n",
       "    </tr>\n",
       "    <tr>\n",
       "      <th>mean</th>\n",
       "      <td>38.437902</td>\n",
       "      <td>1.897938e+05</td>\n",
       "      <td>10.121312</td>\n",
       "      <td>1092.007858</td>\n",
       "      <td>88.372489</td>\n",
       "      <td>40.931238</td>\n",
       "    </tr>\n",
       "    <tr>\n",
       "      <th>std</th>\n",
       "      <td>13.134665</td>\n",
       "      <td>1.056530e+05</td>\n",
       "      <td>2.549995</td>\n",
       "      <td>7406.346497</td>\n",
       "      <td>404.298370</td>\n",
       "      <td>11.979984</td>\n",
       "    </tr>\n",
       "    <tr>\n",
       "      <th>min</th>\n",
       "      <td>17.000000</td>\n",
       "      <td>1.376900e+04</td>\n",
       "      <td>1.000000</td>\n",
       "      <td>0.000000</td>\n",
       "      <td>0.000000</td>\n",
       "      <td>1.000000</td>\n",
       "    </tr>\n",
       "    <tr>\n",
       "      <th>25%</th>\n",
       "      <td>28.000000</td>\n",
       "      <td>1.176272e+05</td>\n",
       "      <td>9.000000</td>\n",
       "      <td>0.000000</td>\n",
       "      <td>0.000000</td>\n",
       "      <td>40.000000</td>\n",
       "    </tr>\n",
       "    <tr>\n",
       "      <th>50%</th>\n",
       "      <td>37.000000</td>\n",
       "      <td>1.784250e+05</td>\n",
       "      <td>10.000000</td>\n",
       "      <td>0.000000</td>\n",
       "      <td>0.000000</td>\n",
       "      <td>40.000000</td>\n",
       "    </tr>\n",
       "    <tr>\n",
       "      <th>75%</th>\n",
       "      <td>47.000000</td>\n",
       "      <td>2.376285e+05</td>\n",
       "      <td>13.000000</td>\n",
       "      <td>0.000000</td>\n",
       "      <td>0.000000</td>\n",
       "      <td>45.000000</td>\n",
       "    </tr>\n",
       "    <tr>\n",
       "      <th>max</th>\n",
       "      <td>90.000000</td>\n",
       "      <td>1.484705e+06</td>\n",
       "      <td>16.000000</td>\n",
       "      <td>99999.000000</td>\n",
       "      <td>4356.000000</td>\n",
       "      <td>99.000000</td>\n",
       "    </tr>\n",
       "  </tbody>\n",
       "</table>\n",
       "</div>"
      ],
      "text/plain": [
       "                age        fnlwgt  education-num  capital-gain  capital-loss  \\\n",
       "count  30162.000000  3.016200e+04   30162.000000  30162.000000  30162.000000   \n",
       "mean      38.437902  1.897938e+05      10.121312   1092.007858     88.372489   \n",
       "std       13.134665  1.056530e+05       2.549995   7406.346497    404.298370   \n",
       "min       17.000000  1.376900e+04       1.000000      0.000000      0.000000   \n",
       "25%       28.000000  1.176272e+05       9.000000      0.000000      0.000000   \n",
       "50%       37.000000  1.784250e+05      10.000000      0.000000      0.000000   \n",
       "75%       47.000000  2.376285e+05      13.000000      0.000000      0.000000   \n",
       "max       90.000000  1.484705e+06      16.000000  99999.000000   4356.000000   \n",
       "\n",
       "       hours-per-week  \n",
       "count    30162.000000  \n",
       "mean        40.931238  \n",
       "std         11.979984  \n",
       "min          1.000000  \n",
       "25%         40.000000  \n",
       "50%         40.000000  \n",
       "75%         45.000000  \n",
       "max         99.000000  "
      ]
     },
     "execution_count": 8,
     "metadata": {},
     "output_type": "execute_result"
    }
   ],
   "source": [
    "train[[\"age\",\"fnlwgt\",\"education-num\",\"capital-gain\",\"capital-loss\",\"hours-per-week\"]].describe()"
   ]
  },
  {
   "cell_type": "code",
   "execution_count": 9,
   "metadata": {},
   "outputs": [
    {
     "data": {
      "text/html": [
       "<div>\n",
       "<style scoped>\n",
       "    .dataframe tbody tr th:only-of-type {\n",
       "        vertical-align: middle;\n",
       "    }\n",
       "\n",
       "    .dataframe tbody tr th {\n",
       "        vertical-align: top;\n",
       "    }\n",
       "\n",
       "    .dataframe thead th {\n",
       "        text-align: right;\n",
       "    }\n",
       "</style>\n",
       "<table border=\"1\" class=\"dataframe\">\n",
       "  <thead>\n",
       "    <tr style=\"text-align: right;\">\n",
       "      <th></th>\n",
       "      <th>age</th>\n",
       "      <th>fnlwgt</th>\n",
       "      <th>education-num</th>\n",
       "      <th>capital-gain</th>\n",
       "      <th>capital-loss</th>\n",
       "      <th>hours-per-week</th>\n",
       "    </tr>\n",
       "  </thead>\n",
       "  <tbody>\n",
       "    <tr>\n",
       "      <th>count</th>\n",
       "      <td>15060.000000</td>\n",
       "      <td>1.506000e+04</td>\n",
       "      <td>15060.000000</td>\n",
       "      <td>15060.000000</td>\n",
       "      <td>15060.000000</td>\n",
       "      <td>15060.000000</td>\n",
       "    </tr>\n",
       "    <tr>\n",
       "      <th>mean</th>\n",
       "      <td>38.768327</td>\n",
       "      <td>1.896164e+05</td>\n",
       "      <td>10.112749</td>\n",
       "      <td>1120.301594</td>\n",
       "      <td>89.041899</td>\n",
       "      <td>40.951594</td>\n",
       "    </tr>\n",
       "    <tr>\n",
       "      <th>std</th>\n",
       "      <td>13.380676</td>\n",
       "      <td>1.056150e+05</td>\n",
       "      <td>2.558727</td>\n",
       "      <td>7703.181842</td>\n",
       "      <td>406.283245</td>\n",
       "      <td>12.062831</td>\n",
       "    </tr>\n",
       "    <tr>\n",
       "      <th>min</th>\n",
       "      <td>17.000000</td>\n",
       "      <td>1.349200e+04</td>\n",
       "      <td>1.000000</td>\n",
       "      <td>0.000000</td>\n",
       "      <td>0.000000</td>\n",
       "      <td>1.000000</td>\n",
       "    </tr>\n",
       "    <tr>\n",
       "      <th>25%</th>\n",
       "      <td>28.000000</td>\n",
       "      <td>1.166550e+05</td>\n",
       "      <td>9.000000</td>\n",
       "      <td>0.000000</td>\n",
       "      <td>0.000000</td>\n",
       "      <td>40.000000</td>\n",
       "    </tr>\n",
       "    <tr>\n",
       "      <th>50%</th>\n",
       "      <td>37.000000</td>\n",
       "      <td>1.779550e+05</td>\n",
       "      <td>10.000000</td>\n",
       "      <td>0.000000</td>\n",
       "      <td>0.000000</td>\n",
       "      <td>40.000000</td>\n",
       "    </tr>\n",
       "    <tr>\n",
       "      <th>75%</th>\n",
       "      <td>48.000000</td>\n",
       "      <td>2.385888e+05</td>\n",
       "      <td>13.000000</td>\n",
       "      <td>0.000000</td>\n",
       "      <td>0.000000</td>\n",
       "      <td>45.000000</td>\n",
       "    </tr>\n",
       "    <tr>\n",
       "      <th>max</th>\n",
       "      <td>90.000000</td>\n",
       "      <td>1.490400e+06</td>\n",
       "      <td>16.000000</td>\n",
       "      <td>99999.000000</td>\n",
       "      <td>3770.000000</td>\n",
       "      <td>99.000000</td>\n",
       "    </tr>\n",
       "  </tbody>\n",
       "</table>\n",
       "</div>"
      ],
      "text/plain": [
       "                age        fnlwgt  education-num  capital-gain  capital-loss  \\\n",
       "count  15060.000000  1.506000e+04   15060.000000  15060.000000  15060.000000   \n",
       "mean      38.768327  1.896164e+05      10.112749   1120.301594     89.041899   \n",
       "std       13.380676  1.056150e+05       2.558727   7703.181842    406.283245   \n",
       "min       17.000000  1.349200e+04       1.000000      0.000000      0.000000   \n",
       "25%       28.000000  1.166550e+05       9.000000      0.000000      0.000000   \n",
       "50%       37.000000  1.779550e+05      10.000000      0.000000      0.000000   \n",
       "75%       48.000000  2.385888e+05      13.000000      0.000000      0.000000   \n",
       "max       90.000000  1.490400e+06      16.000000  99999.000000   3770.000000   \n",
       "\n",
       "       hours-per-week  \n",
       "count    15060.000000  \n",
       "mean        40.951594  \n",
       "std         12.062831  \n",
       "min          1.000000  \n",
       "25%         40.000000  \n",
       "50%         40.000000  \n",
       "75%         45.000000  \n",
       "max         99.000000  "
      ]
     },
     "execution_count": 9,
     "metadata": {},
     "output_type": "execute_result"
    }
   ],
   "source": [
    "test[[\"age\",\"fnlwgt\",\"education-num\",\"capital-gain\",\"capital-loss\",\"hours-per-week\"]].describe()"
   ]
  },
  {
   "cell_type": "code",
   "execution_count": 10,
   "metadata": {},
   "outputs": [
    {
     "name": "stdout",
     "output_type": "stream",
     "text": [
      " Private             22286\n",
      " Self-emp-not-inc     2499\n",
      " Local-gov            2067\n",
      " State-gov            1279\n",
      " Self-emp-inc         1074\n",
      " Federal-gov           943\n",
      " Without-pay            14\n",
      "Name: workclass, dtype: int64\n",
      " HS-grad         9840\n",
      " Some-college    6678\n",
      " Bachelors       5044\n",
      " Masters         1627\n",
      " Assoc-voc       1307\n",
      " 11th            1048\n",
      " Assoc-acdm      1008\n",
      " 10th             820\n",
      " 7th-8th          557\n",
      " Prof-school      542\n",
      " 9th              455\n",
      " 12th             377\n",
      " Doctorate        375\n",
      " 5th-6th          288\n",
      " 1st-4th          151\n",
      " Preschool         45\n",
      "Name: education, dtype: int64\n",
      " Married-civ-spouse       14065\n",
      " Never-married             9726\n",
      " Divorced                  4214\n",
      " Separated                  939\n",
      " Widowed                    827\n",
      " Married-spouse-absent      370\n",
      " Married-AF-spouse           21\n",
      "Name: marital-status, dtype: int64\n",
      " Prof-specialty       4038\n",
      " Craft-repair         4030\n",
      " Exec-managerial      3992\n",
      " Adm-clerical         3721\n",
      " Sales                3584\n",
      " Other-service        3212\n",
      " Machine-op-inspct    1966\n",
      " Transport-moving     1572\n",
      " Handlers-cleaners    1350\n",
      " Farming-fishing       989\n",
      " Tech-support          912\n",
      " Protective-serv       644\n",
      " Priv-house-serv       143\n",
      " Armed-Forces            9\n",
      "Name: occupation, dtype: int64\n",
      " Husband           12463\n",
      " Not-in-family      7726\n",
      " Own-child          4466\n",
      " Unmarried          3212\n",
      " Wife               1406\n",
      " Other-relative      889\n",
      "Name: relationship, dtype: int64\n",
      " White                 25933\n",
      " Black                  2817\n",
      " Asian-Pac-Islander      895\n",
      " Amer-Indian-Eskimo      286\n",
      " Other                   231\n",
      "Name: race, dtype: int64\n",
      " Male      20380\n",
      " Female     9782\n",
      "Name: sex, dtype: int64\n",
      " United-States                 27504\n",
      " Mexico                          610\n",
      " Philippines                     188\n",
      " Germany                         128\n",
      " Puerto-Rico                     109\n",
      " Canada                          107\n",
      " India                           100\n",
      " El-Salvador                     100\n",
      " Cuba                             92\n",
      " England                          86\n",
      " Jamaica                          80\n",
      " South                            71\n",
      " China                            68\n",
      " Italy                            68\n",
      " Dominican-Republic               67\n",
      " Vietnam                          64\n",
      " Guatemala                        63\n",
      " Japan                            59\n",
      " Columbia                         56\n",
      " Poland                           56\n",
      " Taiwan                           42\n",
      " Haiti                            42\n",
      " Iran                             42\n",
      " Portugal                         34\n",
      " Nicaragua                        33\n",
      " Peru                             30\n",
      " Greece                           29\n",
      " Ecuador                          27\n",
      " France                           27\n",
      " Ireland                          24\n",
      " Hong                             19\n",
      " Trinadad&Tobago                  18\n",
      " Cambodia                         18\n",
      " Laos                             17\n",
      " Thailand                         17\n",
      " Yugoslavia                       16\n",
      " Outlying-US(Guam-USVI-etc)       14\n",
      " Hungary                          13\n",
      " Honduras                         12\n",
      " Scotland                         11\n",
      " Holand-Netherlands                1\n",
      "Name: native-country, dtype: int64\n",
      " <=50K    22654\n",
      " >50K      7508\n",
      "Name: class, dtype: int64\n"
     ]
    }
   ],
   "source": [
    "for i in [\"workclass\",\"education\",\"marital-status\",\"occupation\",\"relationship\",\"race\",\"sex\",\"native-country\",\"class\"]:\n",
    "    print(train[i].value_counts())\n",
    "#Armed-Forces ,Holand-Netherlands 待會變成dummy variable後要刪除，因為出現次數少於10次"
   ]
  },
  {
   "cell_type": "code",
   "execution_count": 11,
   "metadata": {},
   "outputs": [
    {
     "name": "stdout",
     "output_type": "stream",
     "text": [
      " Private             11021\n",
      " Self-emp-not-inc     1297\n",
      " Local-gov            1033\n",
      " State-gov             667\n",
      " Self-emp-inc          572\n",
      " Federal-gov           463\n",
      " Without-pay             7\n",
      "Name: workclass, dtype: int64\n",
      " HS-grad         4943\n",
      " Some-college    3221\n",
      " Bachelors       2526\n",
      " Masters          887\n",
      " Assoc-voc        652\n",
      " 11th             571\n",
      " Assoc-acdm       499\n",
      " 10th             403\n",
      " 7th-8th          266\n",
      " Prof-school      243\n",
      " 9th              221\n",
      " 12th             200\n",
      " Doctorate        169\n",
      " 5th-6th          161\n",
      " 1st-4th           71\n",
      " Preschool         27\n",
      "Name: education, dtype: int64\n",
      " Married-civ-spouse       6990\n",
      " Never-married            4872\n",
      " Divorced                 2083\n",
      " Separated                 472\n",
      " Widowed                   450\n",
      " Married-spouse-absent     182\n",
      " Married-AF-spouse          11\n",
      "Name: marital-status, dtype: int64\n",
      " Exec-managerial      1992\n",
      " Craft-repair         1990\n",
      " Prof-specialty       1970\n",
      " Sales                1824\n",
      " Adm-clerical         1819\n",
      " Other-service        1596\n",
      " Machine-op-inspct    1004\n",
      " Transport-moving      744\n",
      " Handlers-cleaners     696\n",
      " Tech-support          508\n",
      " Farming-fishing       491\n",
      " Protective-serv       332\n",
      " Priv-house-serv        89\n",
      " Armed-Forces            5\n",
      "Name: occupation, dtype: int64\n",
      " Husband           6203\n",
      " Not-in-family     3976\n",
      " Own-child         2160\n",
      " Unmarried         1576\n",
      " Wife               685\n",
      " Other-relative     460\n",
      "Name: relationship, dtype: int64\n",
      " White                 12970\n",
      " Black                  1411\n",
      " Asian-Pac-Islander      408\n",
      " Amer-Indian-Eskimo      149\n",
      " Other                   122\n",
      "Name: race, dtype: int64\n",
      " Male      10147\n",
      " Female     4913\n",
      "Name: sex, dtype: int64\n",
      " United-States                 13788\n",
      " Mexico                          293\n",
      " Philippines                      95\n",
      " Puerto-Rico                      66\n",
      " Germany                          65\n",
      " Canada                           56\n",
      " El-Salvador                      47\n",
      " India                            47\n",
      " China                            45\n",
      " Cuba                             41\n",
      " England                          33\n",
      " Italy                            32\n",
      " Japan                            30\n",
      " South                            30\n",
      " Dominican-Republic               30\n",
      " Portugal                         28\n",
      " Haiti                            27\n",
      " Columbia                         26\n",
      " Poland                           25\n",
      " Guatemala                        23\n",
      " Jamaica                          23\n",
      " Greece                           20\n",
      " Vietnam                          19\n",
      " Ecuador                          16\n",
      " Nicaragua                        15\n",
      " Peru                             15\n",
      " Iran                             14\n",
      " Taiwan                           13\n",
      " Thailand                         12\n",
      " Ireland                          12\n",
      " Scotland                          9\n",
      " Hong                              9\n",
      " France                            9\n",
      " Outlying-US(Guam-USVI-etc)        8\n",
      " Trinadad&Tobago                   8\n",
      " Cambodia                          8\n",
      " Yugoslavia                        7\n",
      " Honduras                          7\n",
      " Hungary                           5\n",
      " Laos                              4\n",
      "Name: native-country, dtype: int64\n",
      " <=50K.    11360\n",
      " >50K.      3700\n",
      "Name: class, dtype: int64\n"
     ]
    }
   ],
   "source": [
    "for i in [\"workclass\",\"education\",\"marital-status\",\"occupation\",\"relationship\",\"race\",\"sex\",\"native-country\",\"class\"]:\n",
    "    print(test[i].value_counts())"
   ]
  },
  {
   "cell_type": "code",
   "execution_count": 12,
   "metadata": {},
   "outputs": [],
   "source": [
    "train=pd.concat([train.drop([\"workclass\",\"education\",\"marital-status\",\"occupation\",\"relationship\",\"race\",\"sex\",\"native-country\"],axis=1),pd.get_dummies(train[[\"workclass\",\"education\",\"marital-status\",\"occupation\",\"relationship\",\"race\",\"sex\",\"native-country\"]])],axis=1)"
   ]
  },
  {
   "cell_type": "code",
   "execution_count": 13,
   "metadata": {},
   "outputs": [],
   "source": [
    "test=pd.concat([test.drop([\"workclass\",\"education\",\"marital-status\",\"occupation\",\"relationship\",\"race\",\"sex\",\"native-country\"],axis=1),pd.get_dummies(test[[\"workclass\",\"education\",\"marital-status\",\"occupation\",\"relationship\",\"race\",\"sex\",\"native-country\"]])],axis=1)"
   ]
  },
  {
   "cell_type": "code",
   "execution_count": 14,
   "metadata": {},
   "outputs": [],
   "source": [
    "#train.columns\n",
    "train.drop([\"occupation_ Armed-Forces\",\"native-country_ Holand-Netherlands\"],axis=1,inplace=True)\n",
    "test.drop([\"occupation_ Armed-Forces\"],axis=1,inplace=True)"
   ]
  },
  {
   "cell_type": "code",
   "execution_count": 15,
   "metadata": {},
   "outputs": [
    {
     "data": {
      "text/html": [
       "<div>\n",
       "<style scoped>\n",
       "    .dataframe tbody tr th:only-of-type {\n",
       "        vertical-align: middle;\n",
       "    }\n",
       "\n",
       "    .dataframe tbody tr th {\n",
       "        vertical-align: top;\n",
       "    }\n",
       "\n",
       "    .dataframe thead th {\n",
       "        text-align: right;\n",
       "    }\n",
       "</style>\n",
       "<table border=\"1\" class=\"dataframe\">\n",
       "  <thead>\n",
       "    <tr style=\"text-align: right;\">\n",
       "      <th></th>\n",
       "      <th>age</th>\n",
       "      <th>fnlwgt</th>\n",
       "      <th>education-num</th>\n",
       "      <th>capital-gain</th>\n",
       "      <th>capital-loss</th>\n",
       "      <th>hours-per-week</th>\n",
       "      <th>class</th>\n",
       "      <th>workclass_ Federal-gov</th>\n",
       "      <th>workclass_ Local-gov</th>\n",
       "      <th>workclass_ Private</th>\n",
       "      <th>...</th>\n",
       "      <th>native-country_ Portugal</th>\n",
       "      <th>native-country_ Puerto-Rico</th>\n",
       "      <th>native-country_ Scotland</th>\n",
       "      <th>native-country_ South</th>\n",
       "      <th>native-country_ Taiwan</th>\n",
       "      <th>native-country_ Thailand</th>\n",
       "      <th>native-country_ Trinadad&amp;Tobago</th>\n",
       "      <th>native-country_ United-States</th>\n",
       "      <th>native-country_ Vietnam</th>\n",
       "      <th>native-country_ Yugoslavia</th>\n",
       "    </tr>\n",
       "  </thead>\n",
       "  <tbody>\n",
       "    <tr>\n",
       "      <th>0</th>\n",
       "      <td>39</td>\n",
       "      <td>77516</td>\n",
       "      <td>13</td>\n",
       "      <td>2174</td>\n",
       "      <td>0</td>\n",
       "      <td>40</td>\n",
       "      <td>&lt;=50K</td>\n",
       "      <td>0</td>\n",
       "      <td>0</td>\n",
       "      <td>0</td>\n",
       "      <td>...</td>\n",
       "      <td>0</td>\n",
       "      <td>0</td>\n",
       "      <td>0</td>\n",
       "      <td>0</td>\n",
       "      <td>0</td>\n",
       "      <td>0</td>\n",
       "      <td>0</td>\n",
       "      <td>1</td>\n",
       "      <td>0</td>\n",
       "      <td>0</td>\n",
       "    </tr>\n",
       "    <tr>\n",
       "      <th>1</th>\n",
       "      <td>50</td>\n",
       "      <td>83311</td>\n",
       "      <td>13</td>\n",
       "      <td>0</td>\n",
       "      <td>0</td>\n",
       "      <td>13</td>\n",
       "      <td>&lt;=50K</td>\n",
       "      <td>0</td>\n",
       "      <td>0</td>\n",
       "      <td>0</td>\n",
       "      <td>...</td>\n",
       "      <td>0</td>\n",
       "      <td>0</td>\n",
       "      <td>0</td>\n",
       "      <td>0</td>\n",
       "      <td>0</td>\n",
       "      <td>0</td>\n",
       "      <td>0</td>\n",
       "      <td>1</td>\n",
       "      <td>0</td>\n",
       "      <td>0</td>\n",
       "    </tr>\n",
       "    <tr>\n",
       "      <th>2</th>\n",
       "      <td>38</td>\n",
       "      <td>215646</td>\n",
       "      <td>9</td>\n",
       "      <td>0</td>\n",
       "      <td>0</td>\n",
       "      <td>40</td>\n",
       "      <td>&lt;=50K</td>\n",
       "      <td>0</td>\n",
       "      <td>0</td>\n",
       "      <td>1</td>\n",
       "      <td>...</td>\n",
       "      <td>0</td>\n",
       "      <td>0</td>\n",
       "      <td>0</td>\n",
       "      <td>0</td>\n",
       "      <td>0</td>\n",
       "      <td>0</td>\n",
       "      <td>0</td>\n",
       "      <td>1</td>\n",
       "      <td>0</td>\n",
       "      <td>0</td>\n",
       "    </tr>\n",
       "    <tr>\n",
       "      <th>3</th>\n",
       "      <td>53</td>\n",
       "      <td>234721</td>\n",
       "      <td>7</td>\n",
       "      <td>0</td>\n",
       "      <td>0</td>\n",
       "      <td>40</td>\n",
       "      <td>&lt;=50K</td>\n",
       "      <td>0</td>\n",
       "      <td>0</td>\n",
       "      <td>1</td>\n",
       "      <td>...</td>\n",
       "      <td>0</td>\n",
       "      <td>0</td>\n",
       "      <td>0</td>\n",
       "      <td>0</td>\n",
       "      <td>0</td>\n",
       "      <td>0</td>\n",
       "      <td>0</td>\n",
       "      <td>1</td>\n",
       "      <td>0</td>\n",
       "      <td>0</td>\n",
       "    </tr>\n",
       "    <tr>\n",
       "      <th>4</th>\n",
       "      <td>28</td>\n",
       "      <td>338409</td>\n",
       "      <td>13</td>\n",
       "      <td>0</td>\n",
       "      <td>0</td>\n",
       "      <td>40</td>\n",
       "      <td>&lt;=50K</td>\n",
       "      <td>0</td>\n",
       "      <td>0</td>\n",
       "      <td>1</td>\n",
       "      <td>...</td>\n",
       "      <td>0</td>\n",
       "      <td>0</td>\n",
       "      <td>0</td>\n",
       "      <td>0</td>\n",
       "      <td>0</td>\n",
       "      <td>0</td>\n",
       "      <td>0</td>\n",
       "      <td>0</td>\n",
       "      <td>0</td>\n",
       "      <td>0</td>\n",
       "    </tr>\n",
       "  </tbody>\n",
       "</table>\n",
       "<p>5 rows × 103 columns</p>\n",
       "</div>"
      ],
      "text/plain": [
       "   age  fnlwgt  education-num  capital-gain  capital-loss  hours-per-week  \\\n",
       "0   39   77516             13          2174             0              40   \n",
       "1   50   83311             13             0             0              13   \n",
       "2   38  215646              9             0             0              40   \n",
       "3   53  234721              7             0             0              40   \n",
       "4   28  338409             13             0             0              40   \n",
       "\n",
       "    class  workclass_ Federal-gov  workclass_ Local-gov  workclass_ Private  \\\n",
       "0   <=50K                       0                     0                   0   \n",
       "1   <=50K                       0                     0                   0   \n",
       "2   <=50K                       0                     0                   1   \n",
       "3   <=50K                       0                     0                   1   \n",
       "4   <=50K                       0                     0                   1   \n",
       "\n",
       "   ...  native-country_ Portugal  native-country_ Puerto-Rico  \\\n",
       "0  ...                         0                            0   \n",
       "1  ...                         0                            0   \n",
       "2  ...                         0                            0   \n",
       "3  ...                         0                            0   \n",
       "4  ...                         0                            0   \n",
       "\n",
       "   native-country_ Scotland  native-country_ South  native-country_ Taiwan  \\\n",
       "0                         0                      0                       0   \n",
       "1                         0                      0                       0   \n",
       "2                         0                      0                       0   \n",
       "3                         0                      0                       0   \n",
       "4                         0                      0                       0   \n",
       "\n",
       "   native-country_ Thailand  native-country_ Trinadad&Tobago  \\\n",
       "0                         0                                0   \n",
       "1                         0                                0   \n",
       "2                         0                                0   \n",
       "3                         0                                0   \n",
       "4                         0                                0   \n",
       "\n",
       "   native-country_ United-States  native-country_ Vietnam  \\\n",
       "0                              1                        0   \n",
       "1                              1                        0   \n",
       "2                              1                        0   \n",
       "3                              1                        0   \n",
       "4                              0                        0   \n",
       "\n",
       "   native-country_ Yugoslavia  \n",
       "0                           0  \n",
       "1                           0  \n",
       "2                           0  \n",
       "3                           0  \n",
       "4                           0  \n",
       "\n",
       "[5 rows x 103 columns]"
      ]
     },
     "execution_count": 15,
     "metadata": {},
     "output_type": "execute_result"
    }
   ],
   "source": [
    "train.head()"
   ]
  },
  {
   "cell_type": "code",
   "execution_count": 16,
   "metadata": {},
   "outputs": [],
   "source": [
    "mapping={\" >50K\":1,\" <=50K\":0}\n",
    "y_train=pd.DataFrame([])\n",
    "y_train=train[\"class\"].map(mapping)\n",
    "mapping2={\" >50K.\":1,\" <=50K.\":0}\n",
    "y_test=pd.DataFrame([])\n",
    "y_test=test[\"class\"].map(mapping2)\n",
    "x_train=train.drop(\"class\",axis=1)\n",
    "x_test=test.drop(\"class\",axis=1)"
   ]
  },
  {
   "cell_type": "code",
   "execution_count": 17,
   "metadata": {},
   "outputs": [],
   "source": [
    "x_train=np.array(x_train)\n",
    "y_train=np.array(y_train)\n",
    "x_test=np.array(x_test)\n",
    "y_test=np.array(y_test)"
   ]
  },
  {
   "cell_type": "markdown",
   "metadata": {},
   "source": [
    "Q2.2 (20%) Derive the gradient and hession matrix for the new E(w)."
   ]
  },
  {
   "cell_type": "code",
   "execution_count": 18,
   "metadata": {},
   "outputs": [],
   "source": [
    "#直接從mylogistic_l2 class關於gradient and hession matrix for the new E(w)的code截取下來"
   ]
  },
  {
   "cell_type": "markdown",
   "metadata": {},
   "source": [
    "#y:預測值(經過sigmoid function後的)\n",
    "\n",
    "#w_grad of the E(w)\n",
    "\n",
    "w_grad = X_train.T.dot(y-Y_train)+self.reg_vec*self.w\n",
    "            \n",
    "#hession matrix for the E(w)\n",
    "\n",
    "ds= y*(1-y)\n",
    "\n",
    "D = np.diag(ds.ravel()) \n",
    "\n",
    "H =  X_train.T.dot( D.dot(X_train) )+np.identity(self.reg_vec.shape[0])*self.reg_vec\n",
    "\n",
    "#update w\n",
    "\n",
    "self.w = self.w -np.linalg.inv(H).dot(w_grad)"
   ]
  },
  {
   "cell_type": "markdown",
   "metadata": {},
   "source": [
    "Q2.3 (30%) Create your own mylogistic_l2 class. Show the learned w as well as test accuracy for the cases below. If w is too long for you, show selected w for continuous-valued, binary-valued, and the constant term.\n",
    "\n",
    "Case 1: lambda = 1 for all coefficients\n",
    "\n",
    "Case 2: lambda = 1 for all but the intercept, no regularization for incercept term.\n",
    "\n",
    "Case 3: lambda = 1 for numerical-valued features, lambda = 0.5 for binary-valued features, no regularization for incercept term."
   ]
  },
  {
   "cell_type": "code",
   "execution_count": 19,
   "metadata": {},
   "outputs": [],
   "source": [
    "class mylogistic_l2:\n",
    "    def __init__(self,max_iter,add_intercept,reg_vec,tol):\n",
    "        self.reg_vec=reg_vec\n",
    "        self.max_iter=max_iter\n",
    "        self.tol=tol\n",
    "        self.add_intercept=add_intercept\n",
    "    def sigmoid(self,z):\n",
    "        res = 1 / (1.0 + np.exp(-z))\n",
    "        return res\n",
    "    def predict(self,X_test):\n",
    "        if self.add_intercept==True:\n",
    "            X_test=np.concatenate((np.ones((X_test.shape[0],1)),X_test), axis=1)\n",
    "        z = np.dot(X_test,self.w) \n",
    "        y = self.sigmoid(z)\n",
    "        y_ = np.where(y>= 0.5, 1, 0)\n",
    "        return y_,self.w\n",
    "    def fit(self,X_train,Y_train):\n",
    "        if self.add_intercept==True:\n",
    "            X_train=np.concatenate((np.ones((X_train.shape[0],1)),X_train), axis=1)\n",
    "        self.w=np.dot(np.dot(np.linalg.inv(np.dot(X_train.T,X_train)+np.identity(X_train.shape[1])*self.reg_vec.mean()),X_train.T),Y_train)\n",
    "        error=[0]\n",
    "        for i in range(1,self.max_iter):\n",
    "            z = np.dot(X_train, np.transpose(self.w))\n",
    "            y = self.sigmoid(z)\n",
    "           \n",
    "            reg_term=(1/2)*np.dot(np.dot(self.w.T,np.diag(self.reg_vec.ravel())),self.w)\n",
    "            \n",
    "            cross_entropy = (-1 * (np.dot(np.squeeze(Y_train), np.log(y)) + np.dot((1 - np.squeeze(Y_train)), np.log(1 - y)))+reg_term)/X_train.shape[0]\n",
    "            error.append(cross_entropy)\n",
    "            \n",
    "            #w_grad of the E(w)\n",
    "            w_grad = X_train.T.dot(y-Y_train)+self.reg_vec*self.w\n",
    "            \n",
    "            # hession matrix for the E(w)\n",
    "            ds= y*(1-y)\n",
    "            D = np.diag(ds.ravel()) \n",
    "            H =  X_train.T.dot( D.dot(X_train) )+np.identity(self.reg_vec.shape[0])*self.reg_vec\n",
    "            #update w\n",
    "            self.w = self.w -np.linalg.inv(H).dot(w_grad)\n",
    "            \n",
    "            #update rule:\n",
    "            if i>1:\n",
    "                if error[i-1]-error[i]<self.tol:\n",
    "                    break"
   ]
  },
  {
   "cell_type": "code",
   "execution_count": 20,
   "metadata": {},
   "outputs": [],
   "source": [
    "#Case 1: lambda = 1 for all coefficients"
   ]
  },
  {
   "cell_type": "code",
   "execution_count": 21,
   "metadata": {},
   "outputs": [
    {
     "data": {
      "text/plain": [
       "array([-3.33374540e+00,  2.48591297e-02,  7.26281835e-07,  1.85806163e-01,\n",
       "        3.16590245e-04,  6.38679434e-04,  2.90215841e-02,  1.89694411e-01,\n",
       "       -4.97719501e-01, -3.10975202e-01, -1.29181491e-01, -7.94111556e-01,\n",
       "       -6.18745003e-01, -1.17270706e+00, -4.52249247e-01, -5.44907403e-01,\n",
       "       -3.82721832e-01, -9.99810289e-02, -2.62922225e-01, -6.29791388e-01,\n",
       "       -4.96565839e-01, -3.08326937e-01, -1.27584811e-01,  1.28534378e-01,\n",
       "        5.87953355e-01, -2.50481306e-01,  2.99991415e-01, -1.37579993e+00,\n",
       "        6.82097029e-01, -1.00989638e-01, -1.00975740e+00,  1.19612258e+00,\n",
       "        8.38966933e-01, -9.56673066e-01, -1.50523218e+00, -1.08232391e+00,\n",
       "       -8.14848363e-01, -8.78492150e-02, -2.46913576e-02,  7.15174653e-01,\n",
       "       -1.06504054e+00, -7.73348089e-01, -3.53722827e-01, -9.03671285e-01,\n",
       "       -1.69395623e+00,  4.29670534e-01,  4.99488476e-01,  2.05962313e-01,\n",
       "        5.68478621e-01, -1.78947443e-01, -5.76254828e-01, -3.75781253e-01,\n",
       "       -1.12608337e+00, -1.50192087e+00, -5.01524915e-01,  7.47819835e-01,\n",
       "       -1.02439618e+00, -2.92668732e-01, -6.35195701e-01, -8.96890177e-01,\n",
       "       -4.84594618e-01, -2.09367501e+00, -1.24007039e+00,  9.03420736e-01,\n",
       "        4.04668560e-01, -5.46920552e-01, -1.31374667e+00,  4.27865170e-01,\n",
       "       -9.47705967e-01, -1.07395557e-01, -4.09492097e-01,  3.77034140e-01,\n",
       "        5.45751678e-01,  5.23589384e-01, -6.70323916e-01, -1.09516216e-01,\n",
       "        4.53277949e-02, -1.63971889e-01, -4.71983494e-02, -4.02281380e-03,\n",
       "       -3.44708811e-01,  1.03362979e-01,  4.50497096e-01,  8.22875669e-01,\n",
       "        9.41389495e-02,  2.92357805e-01, -3.50891475e-01, -4.39859204e-01,\n",
       "       -4.07586321e-01, -6.90804284e-01, -4.47783816e-01,  3.91129903e-01,\n",
       "        8.03243762e-02,  7.97357705e-02, -1.81402777e-01, -9.03628229e-02,\n",
       "       -9.81576059e-01, -7.79910247e-02, -3.31100773e-01, -1.88816101e-01,\n",
       "        2.89337136e-01, -8.34197419e-01,  5.39068128e-01])"
      ]
     },
     "execution_count": 21,
     "metadata": {},
     "output_type": "execute_result"
    }
   ],
   "source": [
    "a=np.ones(103)\n",
    "logic1 = mylogistic_l2(max_iter =100,add_intercept=True,reg_vec =a,tol=1e-5)\n",
    "logic1.fit(x_train, y_train)\n",
    "ypred = logic1.predict(x_test)\n",
    "#下面列印的是 the learned w\n",
    "ypred[1]"
   ]
  },
  {
   "cell_type": "code",
   "execution_count": 22,
   "metadata": {},
   "outputs": [
    {
     "data": {
      "text/plain": [
       "0.8480743691899071"
      ]
     },
     "execution_count": 22,
     "metadata": {},
     "output_type": "execute_result"
    }
   ],
   "source": [
    "(ypred[0]==y_test).sum()/len(y_test)  #正確率"
   ]
  },
  {
   "cell_type": "markdown",
   "metadata": {},
   "source": [
    "Case 2: lambda = 1 for all but the intercept, no regularization for incercept term."
   ]
  },
  {
   "cell_type": "code",
   "execution_count": 23,
   "metadata": {},
   "outputs": [
    {
     "data": {
      "text/plain": [
       "array([-8.88722778e+00,  2.54336822e-02,  7.50706804e-07,  2.95324923e-01,\n",
       "        3.17024478e-04,  6.39652126e-04,  2.94914512e-02,  7.05717318e-01,\n",
       "        1.78026502e-02,  2.09126595e-01,  3.82731145e-01, -2.79821710e-01,\n",
       "       -1.04552949e-01, -9.31003049e-01,  9.08118759e-02, -1.06210390e-01,\n",
       "       -5.68864876e-02,  7.06129017e-01,  5.36014978e-01,  1.16361326e-01,\n",
       "        1.37527872e-01, -4.01951495e-01, -1.13370201e-01, -7.43801938e-02,\n",
       "        6.79669927e-02, -1.95742295e-02, -1.15929725e-02, -1.15969699e+00,\n",
       "        2.67049827e-01,  2.18010722e-02, -5.26538170e-01,  1.61452756e+00,\n",
       "        1.36750998e+00, -4.92456773e-01, -1.01532721e+00, -6.05766406e-01,\n",
       "       -3.41948994e-01,  1.64109182e-01,  2.28422252e-01,  9.64856017e-01,\n",
       "       -8.17967488e-01, -5.20782272e-01, -9.91243553e-02, -6.49283758e-01,\n",
       "       -1.55300394e+00,  6.78427763e-01,  7.51030496e-01,  4.55411798e-01,\n",
       "        8.18714334e-01,  7.31938650e-02, -4.21151177e-02,  1.99456835e-01,\n",
       "       -5.83542676e-01, -9.36996676e-01,  7.53014460e-02,  1.28789619e+00,\n",
       "       -3.72048376e-01,  3.94360616e-01,  4.30693947e-02, -2.61235809e-01,\n",
       "        1.95854174e-01, -4.27150728e-01,  4.27150728e-01,  1.00965472e+00,\n",
       "        5.02337197e-01, -4.58396920e-01, -1.24053337e+00,  5.27833699e-01,\n",
       "       -8.67620758e-01, -2.75702542e-02, -3.15345727e-01,  4.72832596e-01,\n",
       "        6.28755385e-01,  6.23911101e-01, -5.88433187e-01, -2.96923356e-02,\n",
       "        1.24844059e-01, -1.43574429e-01,  2.48070503e-02,  6.14826821e-02,\n",
       "       -2.48769642e-01,  1.94794455e-01,  5.25952046e-01,  9.31972681e-01,\n",
       "        1.87606692e-01,  3.79606530e-01, -2.87259337e-01, -3.10421302e-01,\n",
       "       -3.32413818e-01, -6.50777756e-01, -3.81261235e-01,  4.89030076e-01,\n",
       "        1.76281854e-01,  1.74545517e-01, -7.36414561e-02, -3.10934765e-02,\n",
       "       -8.98503738e-01,  6.72286166e-03, -2.72168680e-01, -1.23870297e-01,\n",
       "        3.96789072e-01, -7.54273374e-01,  6.10526925e-01])"
      ]
     },
     "execution_count": 23,
     "metadata": {},
     "output_type": "execute_result"
    }
   ],
   "source": [
    "a=np.ones(103)\n",
    "a[0]=0  #將 intercept部分的權重設定成0\n",
    "logic1 = mylogistic_l2(max_iter =100,add_intercept=True,reg_vec =a,tol=1e-5)\n",
    "logic1.fit(x_train, y_train)\n",
    "ypred = logic1.predict(x_test)\n",
    "#下面列印的是 the learned w\n",
    "ypred[1]"
   ]
  },
  {
   "cell_type": "code",
   "execution_count": 24,
   "metadata": {},
   "outputs": [
    {
     "data": {
      "text/plain": [
       "0.847808764940239"
      ]
     },
     "execution_count": 24,
     "metadata": {},
     "output_type": "execute_result"
    }
   ],
   "source": [
    "(ypred[0]==y_test).sum()/len(y_test)  #正確率"
   ]
  },
  {
   "cell_type": "markdown",
   "metadata": {},
   "source": [
    "Case 3: lambda = 1 for numerical-valued features, lambda = 0.5 for binary-valued features, no regularization for incercept term."
   ]
  },
  {
   "cell_type": "code",
   "execution_count": 25,
   "metadata": {},
   "outputs": [
    {
     "data": {
      "text/plain": [
       "array([[0, 0, 0, ..., 1, 0, 0],\n",
       "       [0, 0, 0, ..., 1, 0, 0],\n",
       "       [0, 0, 1, ..., 1, 0, 0],\n",
       "       ...,\n",
       "       [0, 0, 1, ..., 1, 0, 0],\n",
       "       [0, 0, 1, ..., 1, 0, 0],\n",
       "       [0, 0, 0, ..., 1, 0, 0]], dtype=int64)"
      ]
     },
     "execution_count": 25,
     "metadata": {},
     "output_type": "execute_result"
    }
   ],
   "source": [
    "x_train[:,6:]  #從位置6開始都是dummy variable"
   ]
  },
  {
   "cell_type": "code",
   "execution_count": 26,
   "metadata": {},
   "outputs": [
    {
     "data": {
      "text/plain": [
       "array([-9.31135249e+00,  2.54757380e-02,  7.51944447e-07,  3.19092334e-01,\n",
       "        3.17319918e-04,  6.40115467e-04,  2.95136416e-02,  7.66990129e-01,\n",
       "        7.62915572e-02,  2.68338062e-01,  4.43127805e-01, -2.20821183e-01,\n",
       "       -4.63421363e-02, -1.28758423e+00,  2.18992444e-01, -2.26135094e-03,\n",
       "        2.18816221e-02,  9.74981515e-01,  7.54034090e-01,  2.92224599e-01,\n",
       "        2.93070047e-01, -4.19612047e-01, -1.04346432e-01, -1.12963353e-01,\n",
       "       -3.78241652e-02,  3.76517948e-02, -7.30515953e-02, -2.08394381e+00,\n",
       "        1.86338326e-01,  5.48283203e-02, -5.72016479e-01,  1.82571076e+00,\n",
       "        1.39641686e+00, -5.47067030e-01, -1.05936555e+00, -6.55642109e-01,\n",
       "       -3.88036449e-01,  2.36234568e-01,  3.00253587e-01,  1.03825742e+00,\n",
       "       -7.52670195e-01, -4.53424296e-01, -2.69070976e-02, -5.82347486e-01,\n",
       "       -2.00233663e+00,  7.51037287e-01,  8.27361959e-01,  5.28329988e-01,\n",
       "        8.95058089e-01,  1.45241736e-01, -8.34438876e-02,  2.32698984e-01,\n",
       "       -5.92702310e-01, -9.22764380e-01,  1.11240494e-01,  1.25497110e+00,\n",
       "       -3.83664223e-01,  4.13058389e-01,  4.13741722e-02, -2.63868110e-01,\n",
       "        1.93099772e-01, -4.29102280e-01,  4.29102280e-01,  1.18913504e+00,\n",
       "        5.50823621e-01, -4.76703416e-01, -1.45906507e+00,  5.82266388e-01,\n",
       "       -1.06198169e+00, -9.41595511e-03, -3.18451269e-01,  5.24213619e-01,\n",
       "        7.29262486e-01,  6.74417704e-01, -6.38234075e-01, -9.70370974e-03,\n",
       "        1.74243036e-01, -2.36216830e-01,  3.80747425e-02,  1.00364860e-01,\n",
       "       -2.47188656e-01,  2.38206872e-01,  6.41987645e-01,  1.00609325e+00,\n",
       "        2.33159600e-01,  4.22777999e-01, -3.53092034e-01, -2.90744304e-01,\n",
       "       -3.80715988e-01, -9.62423309e-01, -4.49691900e-01,  5.13214010e-01,\n",
       "        2.19833007e-01,  2.27002306e-01, -5.01168975e-02, -1.79083299e-02,\n",
       "       -9.59642325e-01,  1.67396852e-02, -3.27258263e-01, -1.39435434e-01,\n",
       "        4.28358927e-01, -8.46070010e-01,  7.51083104e-01])"
      ]
     },
     "execution_count": 26,
     "metadata": {},
     "output_type": "execute_result"
    }
   ],
   "source": [
    "a=np.ones(103)\n",
    "a[0]=0  #將 intercept部分的權重設定成0\n",
    "a[6:]=0.5\n",
    "logic1 = mylogistic_l2(max_iter =100,add_intercept=True,reg_vec =a,tol=1e-5)\n",
    "logic1.fit(x_train, y_train)\n",
    "ypred = logic1.predict(x_test)\n",
    "#下面列印的是 the learned w\n",
    "ypred[1]"
   ]
  },
  {
   "cell_type": "code",
   "execution_count": 27,
   "metadata": {},
   "outputs": [
    {
     "data": {
      "text/plain": [
       "0.847675962815405"
      ]
     },
     "execution_count": 27,
     "metadata": {},
     "output_type": "execute_result"
    }
   ],
   "source": [
    "(ypred[0]==y_test).sum()/len(y_test) #正確率"
   ]
  },
  {
   "cell_type": "markdown",
   "metadata": {},
   "source": [
    "Q2.4 (10%) Further split the training data into subtraining (90%) and tuning (10%) to search for the best hyper-parameters. Set the regularization coefficient for the constant term to zero. Allow different regularizations for continuous-valued and binary-valued features. Let  a1  and  a2  denote the regularization coefficients for continuous-valued and binary-valued features. Search the best  a1  and  a2  and report the test accuracy using the best hyper-parameters. You should follow the following procedure to search for the best hyper-parameters.\n",
    "\n",
    "1.Choose a set of grids among a reasonable range. For example, 10 grids in [0.01, 100].\n",
    "\n",
    "2.Conduct grid search with the constraint that  a1=a2 . Record the best value  a∗1  and  a∗2 .\n",
    "\n",
    "3.Fix  a1=a∗1 , and search  a2  for the best value, call the result the new  a∗2 .\n",
    "\n",
    "4.Fix  a2=a∗2 , and search  a1  for the best value.\n",
    "\n",
    "5.Report the selected  a1  and  a2 .\n",
    "\n",
    "6.Train a model using the selected hyper-parameters, and report the test accuracy."
   ]
  },
  {
   "cell_type": "code",
   "execution_count": 28,
   "metadata": {},
   "outputs": [],
   "source": [
    "find=np.linspace(0.01,100, num=10)"
   ]
  },
  {
   "cell_type": "code",
   "execution_count": 29,
   "metadata": {},
   "outputs": [],
   "source": [
    "#Conduct grid search with the constraint that a1=a2 . Record the best value a∗1 and a∗2 ."
   ]
  },
  {
   "cell_type": "code",
   "execution_count": 30,
   "metadata": {},
   "outputs": [],
   "source": [
    "import math \n",
    "\n",
    "def split_valid_set(X_all, Y_all, percentage):\n",
    "    all_data_size = len(X_all)\n",
    "    valid_data_size = int(math.floor(all_data_size * percentage))\n",
    "\n",
    "\n",
    "    X_valid, Y_valid = X_all[0:valid_data_size], Y_all[0:valid_data_size]\n",
    "    X_train, Y_train = X_all[valid_data_size:], Y_all[valid_data_size:]\n",
    "\n",
    "    return X_train, Y_train, X_valid, Y_valid\n",
    "X_train,Y_train,X_valid,Y_valid=split_valid_set(x_train,y_train,0.1)"
   ]
  },
  {
   "cell_type": "code",
   "execution_count": 31,
   "metadata": {},
   "outputs": [],
   "source": [
    "a=np.ones(103)\n",
    "a[0]=0 \n",
    "collect=[]\n",
    "for i in range(len(find)):\n",
    "    a=np.ones(103)\n",
    "    a[0]=0  #將 intercept部分的權重設定成0\n",
    "    a[1:]=find[i]\n",
    "    logic1 = mylogistic_l2(max_iter =100,add_intercept=True,reg_vec =a,tol=1e-5)\n",
    "    logic1.fit(X_train, Y_train)\n",
    "    ypred = logic1.predict(X_valid)\n",
    "    ans=(ypred[0]==Y_valid).sum()\n",
    "    collect.append(ans/len(Y_valid))"
   ]
  },
  {
   "cell_type": "code",
   "execution_count": 32,
   "metadata": {},
   "outputs": [
    {
     "data": {
      "text/plain": [
       "0.01"
      ]
     },
     "execution_count": 32,
     "metadata": {},
     "output_type": "execute_result"
    }
   ],
   "source": [
    "ans=np.argmax(collect)\n",
    "minnumber=find[ans]\n",
    "minnumber  #當a1=a2時，最好的正規化參數>>> the best value  of a∗1 and a∗2 "
   ]
  },
  {
   "cell_type": "code",
   "execution_count": 33,
   "metadata": {},
   "outputs": [],
   "source": [
    "#Fix a1=a∗1 , and search a2 for the best value, call the result the new a∗2 ."
   ]
  },
  {
   "cell_type": "code",
   "execution_count": 34,
   "metadata": {},
   "outputs": [],
   "source": [
    "a=np.ones(103)\n",
    "a[0]=0 \n",
    "collect=[]\n",
    "for i in range(len(find)):\n",
    "    a=np.ones(103)\n",
    "    a[0]=0  #將 intercept部分的權重設定成0\n",
    "    a[:6]=0.01 ##Fix a1=a∗1 \n",
    "    a[6:]=find[i]\n",
    "    logic1 = mylogistic_l2(max_iter =100,add_intercept=True,reg_vec =a,tol=1e-5)\n",
    "    logic1.fit(X_train, Y_train)\n",
    "    ypred = logic1.predict(X_valid)\n",
    "    ans=(ypred[0]==Y_valid).sum()\n",
    "    collect.append(ans/len(Y_valid))"
   ]
  },
  {
   "cell_type": "code",
   "execution_count": 35,
   "metadata": {},
   "outputs": [
    {
     "data": {
      "text/plain": [
       "0.01"
      ]
     },
     "execution_count": 35,
     "metadata": {},
     "output_type": "execute_result"
    }
   ],
   "source": [
    "ans=np.argmax(collect)\n",
    "minnumber=find[ans]\n",
    "minnumber   #當a1=a*1時，最好的a2"
   ]
  },
  {
   "cell_type": "code",
   "execution_count": 36,
   "metadata": {},
   "outputs": [],
   "source": [
    "#Fix a2=a∗2 , and search a1 for the best value."
   ]
  },
  {
   "cell_type": "code",
   "execution_count": 37,
   "metadata": {},
   "outputs": [],
   "source": [
    "a=np.ones(103)\n",
    "a[0]=0 \n",
    "collect=[]\n",
    "for i in range(len(find)):\n",
    "    a=np.ones(103)\n",
    "    a[0]=0  #將 intercept部分的權重設定成0\n",
    "    a[6:]=0.01 ##Fix a2=a∗2\n",
    "    a[:6]=find[i]\n",
    "    logic1 = mylogistic_l2(max_iter =100,add_intercept=True,reg_vec =a,tol=1e-5)\n",
    "    logic1.fit(X_train, Y_train)\n",
    "    ypred = logic1.predict(X_valid)\n",
    "    ans=(ypred[0]==Y_valid).sum()\n",
    "    collect.append(ans/len(Y_valid))"
   ]
  },
  {
   "cell_type": "code",
   "execution_count": 38,
   "metadata": {},
   "outputs": [
    {
     "data": {
      "text/plain": [
       "0.01"
      ]
     },
     "execution_count": 38,
     "metadata": {},
     "output_type": "execute_result"
    }
   ],
   "source": [
    "ans=np.argmax(collect)\n",
    "minnumber=find[ans]\n",
    "minnumber  #當a2=a*2時，最好的a1"
   ]
  },
  {
   "cell_type": "code",
   "execution_count": 39,
   "metadata": {},
   "outputs": [],
   "source": [
    "#Report the selected a1 and a2 \n",
    "#根據1,2,3,4的結果，最好的選擇即是a1=a∗1 and a2=a∗2"
   ]
  },
  {
   "cell_type": "code",
   "execution_count": 40,
   "metadata": {},
   "outputs": [],
   "source": [
    "#Train a model using the selected hyper-parameters, and report the test accuracy."
   ]
  },
  {
   "cell_type": "code",
   "execution_count": 41,
   "metadata": {},
   "outputs": [
    {
     "data": {
      "text/plain": [
       "0.847808764940239"
      ]
     },
     "execution_count": 41,
     "metadata": {},
     "output_type": "execute_result"
    }
   ],
   "source": [
    "a[0]=0  #將 intercept部分的權重設定成0\n",
    "a[1:]=0.01\n",
    "logic1 = mylogistic_l2(max_iter =100,add_intercept=True,reg_vec =a,tol=1e-5)\n",
    "logic1.fit(x_train,y_train)\n",
    "ypred = logic1.predict(x_test)\n",
    "acc=(ypred[0]==y_test).sum()/len(y_test)\n",
    "acc"
   ]
  },
  {
   "cell_type": "markdown",
   "metadata": {},
   "source": [
    "Q2.5 (20%) Use sklearn.linear_model.LogisticRegression to train and test the model (including hyper-parameter tuning). Compare the estimated parameters and test accuracy with those from your own models."
   ]
  },
  {
   "cell_type": "code",
   "execution_count": 45,
   "metadata": {},
   "outputs": [],
   "source": [
    "#with sklearn.linear_model.LogisticRegression\n",
    "from sklearn.linear_model import LogisticRegression\n",
    "r=[]                    \n",
    "for alpha in find:\n",
    "    clf = LogisticRegression(penalty=\"l2\",C=alpha).fit(X_train, Y_train)\n",
    "    ypred=clf.predict(X_valid)\n",
    "    acc=(ypred==Y_valid).sum()/len(Y_valid)\n",
    "    r.append(acc)    "
   ]
  },
  {
   "cell_type": "code",
   "execution_count": 48,
   "metadata": {},
   "outputs": [
    {
     "data": {
      "text/plain": [
       "0.01"
      ]
     },
     "execution_count": 48,
     "metadata": {},
     "output_type": "execute_result"
    }
   ],
   "source": [
    "a=np.argmax(r)\n",
    "ans=find[a]\n",
    "ans"
   ]
  },
  {
   "cell_type": "code",
   "execution_count": 49,
   "metadata": {},
   "outputs": [
    {
     "data": {
      "text/plain": [
       "0.7924302788844622"
      ]
     },
     "execution_count": 49,
     "metadata": {},
     "output_type": "execute_result"
    }
   ],
   "source": [
    "clf = LogisticRegression(penalty=\"l2\",C=0.01).fit(x_train, y_train)\n",
    "ypred=clf.predict(x_test)\n",
    "acc=(ypred==y_test).sum()/len(ypred)\n",
    "acc"
   ]
  },
  {
   "cell_type": "code",
   "execution_count": 51,
   "metadata": {},
   "outputs": [
    {
     "data": {
      "text/plain": [
       "0.847808764940239"
      ]
     },
     "execution_count": 51,
     "metadata": {},
     "output_type": "execute_result"
    }
   ],
   "source": [
    "#with my own model\n",
    "a=np.ones(103)\n",
    "a[0]=0  #將 intercept部分的權重設定成0\n",
    "a[1:]=0.01\n",
    "logic1 = mylogistic_l2(max_iter =100,add_intercept=True,reg_vec =a,tol=1e-5)\n",
    "logic1.fit(x_train,y_train)\n",
    "ypred = logic1.predict(x_test)\n",
    "acc=(ypred[0]==y_test).sum()/len(y_test)\n",
    "acc"
   ]
  },
  {
   "cell_type": "code",
   "execution_count": 52,
   "metadata": {},
   "outputs": [
    {
     "data": {
      "text/plain": [
       "array([[-4.43024898e-03, -4.44695621e-06, -1.07673189e-03,\n",
       "         3.29269157e-04,  7.23502237e-04, -5.30129841e-03,\n",
       "         1.11704539e-05, -2.71400461e-06, -2.62358327e-04,\n",
       "         3.01794262e-05, -1.68307432e-05, -7.26456515e-06,\n",
       "        -6.66149786e-07, -2.59136990e-05, -3.63495009e-05,\n",
       "        -1.17330104e-05, -4.37246879e-06, -8.82781266e-06,\n",
       "        -1.93126228e-05, -1.46962114e-05, -6.23255386e-06,\n",
       "        -9.48487066e-06,  7.71833896e-05,  2.14917742e-05,\n",
       "        -1.90942962e-04,  5.24045600e-05, -1.75367026e-06,\n",
       "         2.61823167e-05, -9.61265673e-05, -1.25696486e-04,\n",
       "         6.53782735e-07,  2.97104447e-04, -1.14511029e-05,\n",
       "        -3.52568853e-04, -2.95307387e-05, -2.69949599e-05,\n",
       "        -8.80763228e-05, -4.18075088e-05,  9.19238020e-05,\n",
       "        -3.12678353e-05, -4.34340542e-05, -4.63445192e-05,\n",
       "        -1.18851686e-04, -5.80320484e-06,  6.95120486e-05,\n",
       "         4.97606853e-06, -1.86941033e-05,  1.34495846e-06,\n",
       "        -2.17704689e-05,  2.65146080e-04, -2.28625719e-04,\n",
       "        -3.12728245e-05, -1.80902924e-04, -1.09523804e-04,\n",
       "         3.66952818e-05, -1.13932898e-05, -7.34624838e-06,\n",
       "        -5.40734248e-05, -6.67688355e-06, -1.68994063e-04,\n",
       "        -2.74276138e-04,  2.57922286e-05,  1.97798999e-07,\n",
       "         2.84480850e-07, -1.73220973e-07, -1.84180989e-06,\n",
       "         8.70888281e-07, -2.46841532e-06, -5.69617352e-07,\n",
       "        -2.36578021e-06,  4.87665724e-07,  7.35760681e-07,\n",
       "         8.21458984e-07, -6.35619240e-07, -1.63553680e-06,\n",
       "        -9.41930711e-07, -2.60495651e-07,  2.86729335e-07,\n",
       "        -1.85715641e-07,  8.73718619e-07,  4.95200377e-07,\n",
       "        -4.75580337e-07,  6.68718625e-07, -1.48001630e-06,\n",
       "         6.17997116e-07, -3.15216917e-07, -1.20255785e-05,\n",
       "        -6.92377596e-07, -5.23373306e-07, -6.02527963e-07,\n",
       "        -8.25899209e-08, -7.41219187e-07, -1.06509488e-06,\n",
       "        -2.64068530e-06, -1.42003497e-07, -1.45015617e-06,\n",
       "         1.05487953e-06, -1.96953905e-07, -5.10739682e-07,\n",
       "        -2.19484621e-04, -2.57777558e-06,  3.35045254e-07]])"
      ]
     },
     "execution_count": 52,
     "metadata": {},
     "output_type": "execute_result"
    }
   ],
   "source": [
    "clf.coef_"
   ]
  },
  {
   "cell_type": "code",
   "execution_count": 53,
   "metadata": {},
   "outputs": [
    {
     "data": {
      "text/plain": [
       "array([-1.14761639e+01,  2.55402069e-02,  7.54179075e-07,  3.99000845e-01,\n",
       "        3.18079304e-04,  6.40833979e-04,  2.95698399e-02,  1.18875412e+00,\n",
       "        4.92451904e-01,  6.84930795e-01,  8.61390951e-01,  1.95387325e-01,\n",
       "        3.70139269e-01, -3.79305437e+00,  6.42711573e-01,  3.40923493e-01,\n",
       "        2.87599364e-01,  1.80393088e+00,  1.45363315e+00,  8.78329022e-01,\n",
       "        8.06064570e-01, -4.81427165e-01, -8.29135220e-02, -2.51104363e-01,\n",
       "       -4.13705388e-01,  2.19646910e-01, -2.90687142e-01, -4.96327042e+00,\n",
       "       -1.06146529e-01,  1.56415570e-01, -6.32068788e-01,  2.09585250e+00,\n",
       "        1.43979783e+00, -6.18496764e-01, -1.11726140e+00, -7.20624634e-01,\n",
       "       -4.47198738e-01,  9.58865053e-01,  1.02259679e+00,  1.76270281e+00,\n",
       "       -3.59538839e-02,  2.65170841e-01,  6.99095129e-01,  1.35348361e-01,\n",
       "       -3.04316652e+00,  1.47439297e+00,  1.55517451e+00,  1.25201407e+00,\n",
       "        1.62275162e+00,  8.68137958e-01, -1.42337820e-01,  2.77065751e-01,\n",
       "       -6.00456094e-01, -9.01122866e-01,  1.59280654e-01,  1.20757038e+00,\n",
       "       -3.95401661e-01,  4.31376543e-01,  3.79491339e-02, -2.63227496e-01,\n",
       "        1.89303480e-01, -4.30803553e-01,  4.30803553e-01,  1.68638160e+00,\n",
       "        7.05278173e-01, -3.90333501e-01, -1.74332147e+00,  7.42926686e-01,\n",
       "       -1.37449425e+00,  1.17977183e-01, -2.09897572e-01,  6.83083694e-01,\n",
       "        9.57663681e-01,  8.30967235e-01, -6.01034658e-01,  1.21488066e-01,\n",
       "        3.46889971e-01, -7.43147201e-01,  1.59497124e-01,  2.63598839e-01,\n",
       "       -1.39428131e-01,  3.92553770e-01,  9.01130513e-01,  1.18509717e+00,\n",
       "        3.90800047e-01,  5.74240585e-01, -3.65638884e-01, -1.66850215e-01,\n",
       "       -3.42972337e-01, -3.54521209e+00, -4.65119580e-01,  6.40919506e-01,\n",
       "        3.72154427e-01,  3.95086178e-01,  7.71642842e-02,  1.07463736e-01,\n",
       "       -9.29193684e-01,  1.31997436e-01, -3.16065521e-01, -6.51226732e-02,\n",
       "        5.63216780e-01, -8.71078185e-01,  1.05202109e+00])"
      ]
     },
     "execution_count": 53,
     "metadata": {},
     "output_type": "execute_result"
    }
   ],
   "source": [
    "ypred[1]"
   ]
  },
  {
   "cell_type": "code",
   "execution_count": 54,
   "metadata": {},
   "outputs": [],
   "source": [
    "#自己寫出的模型參數的係數偏大而用sklearn.linear_model.LogisticRegression所學得的模型參數的係數偏小"
   ]
  },
  {
   "cell_type": "code",
   "execution_count": 1,
   "metadata": {},
   "outputs": [],
   "source": [
    "#自己寫出的模型正確率較高，而用套件所做出的結果正確率較低"
   ]
  },
  {
   "cell_type": "code",
   "execution_count": 2,
   "metadata": {},
   "outputs": [],
   "source": [
    "#推測可能的原因是因為自己的模型迭代比較多次所以才能最小化cost以求得比較好的結果"
   ]
  },
  {
   "cell_type": "code",
   "execution_count": 3,
   "metadata": {},
   "outputs": [],
   "source": [
    "#P.S.X_train,Y_train:是經過split_valid_set 函數切割的  ； x_train,y_train 是整個的train set"
   ]
  },
  {
   "cell_type": "code",
   "execution_count": null,
   "metadata": {},
   "outputs": [],
   "source": []
  }
 ],
 "metadata": {
  "kernelspec": {
   "display_name": "Python 3",
   "language": "python",
   "name": "python3"
  },
  "language_info": {
   "codemirror_mode": {
    "name": "ipython",
    "version": 3
   },
   "file_extension": ".py",
   "mimetype": "text/x-python",
   "name": "python",
   "nbconvert_exporter": "python",
   "pygments_lexer": "ipython3",
   "version": "3.6.5"
  }
 },
 "nbformat": 4,
 "nbformat_minor": 2
}
